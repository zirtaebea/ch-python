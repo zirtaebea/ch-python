{
 "cells": [
  {
   "cell_type": "markdown",
   "metadata": {},
   "source": [
    "# MultiIndex\n",
    "Permite ter vários níveis de índices em um DataFrame. "
   ]
  },
  {
   "cell_type": "code",
   "execution_count": 19,
   "metadata": {},
   "outputs": [
    {
     "data": {
      "text/plain": [
       "letras  numeros\n",
       "A       1         -0.175258\n",
       "        2         -2.114182\n",
       "B       1         -1.381851\n",
       "        2          1.124286\n",
       "dtype: float64"
      ]
     },
     "execution_count": 19,
     "metadata": {},
     "output_type": "execute_result"
    }
   ],
   "source": [
    "import pandas as pd\n",
    "import numpy as np\n",
    "\n",
    "# criando um exemplo de multi-index\n",
    "arrays = [['A', 'A', 'B', 'B'], [1, 2, 1, 2]]\n",
    "\n",
    "index = pd.MultiIndex.from_arrays(arrays, names=('letras', 'numeros'))\n",
    "data_array = pd.Series(np.random.randn(4), index=index)\n",
    "\n",
    "data_array"
   ]
  },
  {
   "cell_type": "markdown",
   "metadata": {},
   "source": [
    "# Stack e unstack\n",
    "Para tratamento de dados multi-index (com mais de um índice)\n",
    "## Stack stack()\n",
    "* Usada para coverter colunas de um DF em índices, resultando em uma reorganização dos dados de formato \"largo\" (wide) para formato longo (long). \n",
    "* Ela empilha as colunas selecionadas movendo-as para o índice mais interno.\n",
    "\n",
    "## Unstack unstack():\n",
    "* É o oposto da função stack. \n",
    "* Desempilha os dados de um DF de formato \"longo\" para \"largo\", movendo índices internos para as colunas correspondentes, reorganizando o DF para um formato mais tabular. "
   ]
  },
  {
   "cell_type": "code",
   "execution_count": 6,
   "metadata": {},
   "outputs": [
    {
     "data": {
      "text/html": [
       "<div>\n",
       "<style scoped>\n",
       "    .dataframe tbody tr th:only-of-type {\n",
       "        vertical-align: middle;\n",
       "    }\n",
       "\n",
       "    .dataframe tbody tr th {\n",
       "        vertical-align: top;\n",
       "    }\n",
       "\n",
       "    .dataframe thead th {\n",
       "        text-align: right;\n",
       "    }\n",
       "</style>\n",
       "<table border=\"1\" class=\"dataframe\">\n",
       "  <thead>\n",
       "    <tr style=\"text-align: right;\">\n",
       "      <th></th>\n",
       "      <th></th>\n",
       "      <th></th>\n",
       "      <th>valor</th>\n",
       "    </tr>\n",
       "    <tr>\n",
       "      <th>grupo</th>\n",
       "      <th>categoria</th>\n",
       "      <th>ano</th>\n",
       "      <th></th>\n",
       "    </tr>\n",
       "  </thead>\n",
       "  <tbody>\n",
       "    <tr>\n",
       "      <th rowspan=\"2\" valign=\"top\">A</th>\n",
       "      <th>X</th>\n",
       "      <th>2019</th>\n",
       "      <td>10</td>\n",
       "    </tr>\n",
       "    <tr>\n",
       "      <th>Y</th>\n",
       "      <th>2020</th>\n",
       "      <td>20</td>\n",
       "    </tr>\n",
       "    <tr>\n",
       "      <th rowspan=\"2\" valign=\"top\">B</th>\n",
       "      <th>X</th>\n",
       "      <th>2019</th>\n",
       "      <td>30</td>\n",
       "    </tr>\n",
       "    <tr>\n",
       "      <th>Y</th>\n",
       "      <th>2020</th>\n",
       "      <td>40</td>\n",
       "    </tr>\n",
       "  </tbody>\n",
       "</table>\n",
       "</div>"
      ],
      "text/plain": [
       "                      valor\n",
       "grupo categoria ano        \n",
       "A     X         2019     10\n",
       "      Y         2020     20\n",
       "B     X         2019     30\n",
       "      Y         2020     40"
      ]
     },
     "execution_count": 6,
     "metadata": {},
     "output_type": "execute_result"
    }
   ],
   "source": [
    "# stack\n",
    "# criando um df com índice hierárquico\n",
    "import pandas as pd\n",
    "df = pd.DataFrame({'grupo': ['A', 'A', 'B', 'B'],\n",
    "                'categoria': ['X', 'Y', 'X', 'Y'],\n",
    "                'ano': [2019, 2020, 2019, 2020],\n",
    "                'valor': [10, 20, 30, 40]})\n",
    "df = df.set_index(['grupo', 'categoria', 'ano'])\n",
    "df"
   ]
  },
  {
   "cell_type": "code",
   "execution_count": 7,
   "metadata": {},
   "outputs": [
    {
     "data": {
      "text/plain": [
       "grupo  categoria  ano        \n",
       "A      X          2019  valor    10\n",
       "       Y          2020  valor    20\n",
       "B      X          2019  valor    30\n",
       "       Y          2020  valor    40\n",
       "dtype: int64"
      ]
     },
     "execution_count": 7,
     "metadata": {},
     "output_type": "execute_result"
    }
   ],
   "source": [
    "# utilizando a função stack para empilhar os valores do índice valor \n",
    "df_stacked = df.stack()\n",
    "df_stacked"
   ]
  },
  {
   "cell_type": "code",
   "execution_count": 9,
   "metadata": {},
   "outputs": [
    {
     "data": {
      "text/html": [
       "<div>\n",
       "<style scoped>\n",
       "    .dataframe tbody tr th:only-of-type {\n",
       "        vertical-align: middle;\n",
       "    }\n",
       "\n",
       "    .dataframe tbody tr th {\n",
       "        vertical-align: top;\n",
       "    }\n",
       "\n",
       "    .dataframe thead th {\n",
       "        text-align: right;\n",
       "    }\n",
       "</style>\n",
       "<table border=\"1\" class=\"dataframe\">\n",
       "  <thead>\n",
       "    <tr style=\"text-align: right;\">\n",
       "      <th></th>\n",
       "      <th></th>\n",
       "      <th></th>\n",
       "      <th>valor</th>\n",
       "    </tr>\n",
       "    <tr>\n",
       "      <th>grupo</th>\n",
       "      <th>categoria</th>\n",
       "      <th>ano</th>\n",
       "      <th></th>\n",
       "    </tr>\n",
       "  </thead>\n",
       "  <tbody>\n",
       "    <tr>\n",
       "      <th rowspan=\"2\" valign=\"top\">A</th>\n",
       "      <th>X</th>\n",
       "      <th>2019</th>\n",
       "      <td>10</td>\n",
       "    </tr>\n",
       "    <tr>\n",
       "      <th>Y</th>\n",
       "      <th>2020</th>\n",
       "      <td>20</td>\n",
       "    </tr>\n",
       "    <tr>\n",
       "      <th rowspan=\"2\" valign=\"top\">B</th>\n",
       "      <th>X</th>\n",
       "      <th>2019</th>\n",
       "      <td>30</td>\n",
       "    </tr>\n",
       "    <tr>\n",
       "      <th>Y</th>\n",
       "      <th>2020</th>\n",
       "      <td>40</td>\n",
       "    </tr>\n",
       "  </tbody>\n",
       "</table>\n",
       "</div>"
      ],
      "text/plain": [
       "                      valor\n",
       "grupo categoria ano        \n",
       "A     X         2019     10\n",
       "      Y         2020     20\n",
       "B     X         2019     30\n",
       "      Y         2020     40"
      ]
     },
     "execution_count": 9,
     "metadata": {},
     "output_type": "execute_result"
    }
   ],
   "source": [
    "#unstack\n",
    "df_unstacked = df_stacked.unstack()\n",
    "df_unstacked"
   ]
  },
  {
   "cell_type": "markdown",
   "metadata": {},
   "source": [
    "# Explode\n",
    "É utilizado para transformar listas (ou outras estruturas de dados semelhantes a listas) que estão contidas em uma coluna do DataFRame em linhas separadas, replicando os valores das outras colunas correspondentes. \n"
   ]
  },
  {
   "cell_type": "code",
   "execution_count": 14,
   "metadata": {},
   "outputs": [
    {
     "data": {
      "text/html": [
       "<div>\n",
       "<style scoped>\n",
       "    .dataframe tbody tr th:only-of-type {\n",
       "        vertical-align: middle;\n",
       "    }\n",
       "\n",
       "    .dataframe tbody tr th {\n",
       "        vertical-align: top;\n",
       "    }\n",
       "\n",
       "    .dataframe thead th {\n",
       "        text-align: right;\n",
       "    }\n",
       "</style>\n",
       "<table border=\"1\" class=\"dataframe\">\n",
       "  <thead>\n",
       "    <tr style=\"text-align: right;\">\n",
       "      <th></th>\n",
       "      <th>col1</th>\n",
       "      <th>col2</th>\n",
       "    </tr>\n",
       "  </thead>\n",
       "  <tbody>\n",
       "    <tr>\n",
       "      <th>0</th>\n",
       "      <td>foo</td>\n",
       "      <td>[1, 2]</td>\n",
       "    </tr>\n",
       "    <tr>\n",
       "      <th>1</th>\n",
       "      <td>bar</td>\n",
       "      <td>[3, 4, 5]</td>\n",
       "    </tr>\n",
       "    <tr>\n",
       "      <th>2</th>\n",
       "      <td>baz</td>\n",
       "      <td>[6, 7, 8]</td>\n",
       "    </tr>\n",
       "  </tbody>\n",
       "</table>\n",
       "</div>"
      ],
      "text/plain": [
       "  col1       col2\n",
       "0  foo     [1, 2]\n",
       "1  bar  [3, 4, 5]\n",
       "2  baz  [6, 7, 8]"
      ]
     },
     "execution_count": 14,
     "metadata": {},
     "output_type": "execute_result"
    }
   ],
   "source": [
    "#criando df\n",
    "dfl = pd.DataFrame({'col1': ['foo', 'bar', 'baz'],\n",
    "                    'col2': [[1, 2], [3, 4, 5], [6, 7, 8]]})\n",
    "dfl"
   ]
  },
  {
   "cell_type": "code",
   "execution_count": 15,
   "metadata": {},
   "outputs": [
    {
     "data": {
      "text/html": [
       "<div>\n",
       "<style scoped>\n",
       "    .dataframe tbody tr th:only-of-type {\n",
       "        vertical-align: middle;\n",
       "    }\n",
       "\n",
       "    .dataframe tbody tr th {\n",
       "        vertical-align: top;\n",
       "    }\n",
       "\n",
       "    .dataframe thead th {\n",
       "        text-align: right;\n",
       "    }\n",
       "</style>\n",
       "<table border=\"1\" class=\"dataframe\">\n",
       "  <thead>\n",
       "    <tr style=\"text-align: right;\">\n",
       "      <th></th>\n",
       "      <th>col1</th>\n",
       "      <th>col2</th>\n",
       "    </tr>\n",
       "  </thead>\n",
       "  <tbody>\n",
       "    <tr>\n",
       "      <th>0</th>\n",
       "      <td>foo</td>\n",
       "      <td>1</td>\n",
       "    </tr>\n",
       "    <tr>\n",
       "      <th>0</th>\n",
       "      <td>foo</td>\n",
       "      <td>2</td>\n",
       "    </tr>\n",
       "    <tr>\n",
       "      <th>1</th>\n",
       "      <td>bar</td>\n",
       "      <td>3</td>\n",
       "    </tr>\n",
       "    <tr>\n",
       "      <th>1</th>\n",
       "      <td>bar</td>\n",
       "      <td>4</td>\n",
       "    </tr>\n",
       "    <tr>\n",
       "      <th>1</th>\n",
       "      <td>bar</td>\n",
       "      <td>5</td>\n",
       "    </tr>\n",
       "    <tr>\n",
       "      <th>2</th>\n",
       "      <td>baz</td>\n",
       "      <td>6</td>\n",
       "    </tr>\n",
       "    <tr>\n",
       "      <th>2</th>\n",
       "      <td>baz</td>\n",
       "      <td>7</td>\n",
       "    </tr>\n",
       "    <tr>\n",
       "      <th>2</th>\n",
       "      <td>baz</td>\n",
       "      <td>8</td>\n",
       "    </tr>\n",
       "  </tbody>\n",
       "</table>\n",
       "</div>"
      ],
      "text/plain": [
       "  col1 col2\n",
       "0  foo    1\n",
       "0  foo    2\n",
       "1  bar    3\n",
       "1  bar    4\n",
       "1  bar    5\n",
       "2  baz    6\n",
       "2  baz    7\n",
       "2  baz    8"
      ]
     },
     "execution_count": 15,
     "metadata": {},
     "output_type": "execute_result"
    }
   ],
   "source": [
    "#explodindo\n",
    "dfl.explode('col2')"
   ]
  },
  {
   "cell_type": "markdown",
   "metadata": {},
   "source": [
    "# Pivot\n",
    "A função ``pivot()`` retorna um novo DataFrame com a estrutura pivotada, onde os valores únicos da coluna especificada em columns se tornam as colunas distintas, e os valores da coluna especificada em values são distribuidos nessas colunas.\n",
    "* **Uso básico:** É usado principalmente para **remodelar** dados. Ele pega as colunas simples como entrada e gira elas em um DataFrame multiindex. \n",
    "* **Flexibilidade:** Ele não pode lidar com dados duplicados para a mesma combinação de índices e colunas. Se houver duplicatas, ele gerará um erro. \n",
    "* **Funções de agregação:** Não possui funcionabilidade para realizar operações de agregação\n",
    "\n",
    "Exemplo:\n",
    "```df.pivot(index='date', columns='variable', values='value')```"
   ]
  },
  {
   "cell_type": "code",
   "execution_count": 16,
   "metadata": {},
   "outputs": [
    {
     "data": {
      "text/html": [
       "<div>\n",
       "<style scoped>\n",
       "    .dataframe tbody tr th:only-of-type {\n",
       "        vertical-align: middle;\n",
       "    }\n",
       "\n",
       "    .dataframe tbody tr th {\n",
       "        vertical-align: top;\n",
       "    }\n",
       "\n",
       "    .dataframe thead th {\n",
       "        text-align: right;\n",
       "    }\n",
       "</style>\n",
       "<table border=\"1\" class=\"dataframe\">\n",
       "  <thead>\n",
       "    <tr style=\"text-align: right;\">\n",
       "      <th>ano</th>\n",
       "      <th>2019</th>\n",
       "      <th>2020</th>\n",
       "    </tr>\n",
       "    <tr>\n",
       "      <th>grupo</th>\n",
       "      <th></th>\n",
       "      <th></th>\n",
       "    </tr>\n",
       "  </thead>\n",
       "  <tbody>\n",
       "    <tr>\n",
       "      <th>A</th>\n",
       "      <td>10</td>\n",
       "      <td>20</td>\n",
       "    </tr>\n",
       "    <tr>\n",
       "      <th>B</th>\n",
       "      <td>30</td>\n",
       "      <td>40</td>\n",
       "    </tr>\n",
       "  </tbody>\n",
       "</table>\n",
       "</div>"
      ],
      "text/plain": [
       "ano    2019  2020\n",
       "grupo            \n",
       "A        10    20\n",
       "B        30    40"
      ]
     },
     "execution_count": 16,
     "metadata": {},
     "output_type": "execute_result"
    }
   ],
   "source": [
    "df_ri = pd.DataFrame({'grupo': ['A', 'A', 'B', 'B'],\n",
    "                    'categoria': ['X', 'Y', 'X', 'Y'],\n",
    "                    'ano': [2019, 2020, 2019, 2020],\n",
    "                    'valor': [10, 20, 30, 40]})\n",
    "df_ri.pivot(index='grupo',\n",
    "            columns='ano',\n",
    "            values='valor')"
   ]
  },
  {
   "cell_type": "markdown",
   "metadata": {},
   "source": [
    "A função `` pivot_table()`` permite calcular agregações de dados com base em uma ou mais colunas do DF, fornecendo uma visão resumida dos dados em formato de tabela. É útil quando você precisa **resumir e analisar dados de forma mais detalhada**, agrupando-os e realizando cálculos de agregação com base em colunas específicas. \n",
    "* **Uso básico:** É uma generalização do método ```pivot``` que pode lidar com valores duplicados agregando-os.\n",
    "* **Flexibilidade:** Ele pode lidar com dados duplicados, especificando uma função de agregação (sum, mean etc.)\n",
    "* **Funções de agregação:** Ele pode realizar operações de agregação e é, portanto, mais flexível que o metodo ```pivot``` quando se trata de resumir dados\n",
    "\n",
    "Exemplo:\n",
    "```df.pivot_table(index='date', columns='variable', values='value', aggfunc=np.sum)```"
   ]
  },
  {
   "cell_type": "code",
   "execution_count": 17,
   "metadata": {},
   "outputs": [
    {
     "data": {
      "text/html": [
       "<div>\n",
       "<style scoped>\n",
       "    .dataframe tbody tr th:only-of-type {\n",
       "        vertical-align: middle;\n",
       "    }\n",
       "\n",
       "    .dataframe tbody tr th {\n",
       "        vertical-align: top;\n",
       "    }\n",
       "\n",
       "    .dataframe thead th {\n",
       "        text-align: right;\n",
       "    }\n",
       "</style>\n",
       "<table border=\"1\" class=\"dataframe\">\n",
       "  <thead>\n",
       "    <tr style=\"text-align: right;\">\n",
       "      <th></th>\n",
       "      <th>A</th>\n",
       "      <th>B</th>\n",
       "      <th>C</th>\n",
       "      <th>D</th>\n",
       "    </tr>\n",
       "  </thead>\n",
       "  <tbody>\n",
       "    <tr>\n",
       "      <th>0</th>\n",
       "      <td>foo</td>\n",
       "      <td>one</td>\n",
       "      <td>1</td>\n",
       "      <td>7</td>\n",
       "    </tr>\n",
       "    <tr>\n",
       "      <th>1</th>\n",
       "      <td>foo</td>\n",
       "      <td>one</td>\n",
       "      <td>2</td>\n",
       "      <td>8</td>\n",
       "    </tr>\n",
       "    <tr>\n",
       "      <th>2</th>\n",
       "      <td>foo</td>\n",
       "      <td>two</td>\n",
       "      <td>3</td>\n",
       "      <td>9</td>\n",
       "    </tr>\n",
       "    <tr>\n",
       "      <th>3</th>\n",
       "      <td>bar</td>\n",
       "      <td>two</td>\n",
       "      <td>4</td>\n",
       "      <td>10</td>\n",
       "    </tr>\n",
       "    <tr>\n",
       "      <th>4</th>\n",
       "      <td>bar</td>\n",
       "      <td>one</td>\n",
       "      <td>5</td>\n",
       "      <td>11</td>\n",
       "    </tr>\n",
       "    <tr>\n",
       "      <th>5</th>\n",
       "      <td>bar</td>\n",
       "      <td>one</td>\n",
       "      <td>6</td>\n",
       "      <td>12</td>\n",
       "    </tr>\n",
       "  </tbody>\n",
       "</table>\n",
       "</div>"
      ],
      "text/plain": [
       "     A    B  C   D\n",
       "0  foo  one  1   7\n",
       "1  foo  one  2   8\n",
       "2  foo  two  3   9\n",
       "3  bar  two  4  10\n",
       "4  bar  one  5  11\n",
       "5  bar  one  6  12"
      ]
     },
     "execution_count": 17,
     "metadata": {},
     "output_type": "execute_result"
    }
   ],
   "source": [
    "df2 = pd.DataFrame({'A': ['foo', 'foo', 'foo', 'bar', 'bar', 'bar'],\n",
    "                    'B': ['one', 'one', 'two', 'two', 'one', 'one'],\n",
    "                    'C': [1, 2, 3, 4, 5, 6],\n",
    "                    'D': [7, 8, 9, 10, 11, 12]})\n",
    "df2"
   ]
  },
  {
   "cell_type": "code",
   "execution_count": 18,
   "metadata": {},
   "outputs": [
    {
     "data": {
      "text/html": [
       "<div>\n",
       "<style scoped>\n",
       "    .dataframe tbody tr th:only-of-type {\n",
       "        vertical-align: middle;\n",
       "    }\n",
       "\n",
       "    .dataframe tbody tr th {\n",
       "        vertical-align: top;\n",
       "    }\n",
       "\n",
       "    .dataframe thead th {\n",
       "        text-align: right;\n",
       "    }\n",
       "</style>\n",
       "<table border=\"1\" class=\"dataframe\">\n",
       "  <thead>\n",
       "    <tr style=\"text-align: right;\">\n",
       "      <th>B</th>\n",
       "      <th>one</th>\n",
       "      <th>two</th>\n",
       "    </tr>\n",
       "    <tr>\n",
       "      <th>A</th>\n",
       "      <th></th>\n",
       "      <th></th>\n",
       "    </tr>\n",
       "  </thead>\n",
       "  <tbody>\n",
       "    <tr>\n",
       "      <th>bar</th>\n",
       "      <td>11</td>\n",
       "      <td>4</td>\n",
       "    </tr>\n",
       "    <tr>\n",
       "      <th>foo</th>\n",
       "      <td>3</td>\n",
       "      <td>3</td>\n",
       "    </tr>\n",
       "  </tbody>\n",
       "</table>\n",
       "</div>"
      ],
      "text/plain": [
       "B    one  two\n",
       "A            \n",
       "bar   11    4\n",
       "foo    3    3"
      ]
     },
     "execution_count": 18,
     "metadata": {},
     "output_type": "execute_result"
    }
   ],
   "source": [
    "# aplicando função pivot_table()\n",
    "pd.pivot_table(df2, values='C', index='A', columns='B', aggfunc='sum') \n",
    "#agrupar os valores de c em uma tabela com índice A e as colunas B ou seja agregar os valores de c em função do index A pelas colunas de B"
   ]
  },
  {
   "cell_type": "markdown",
   "metadata": {},
   "source": [
    "# Tipos de dados\n",
    "* Verificamos o tipo de dado da coluna utilizando ``.dtypes``\n",
    "* ``astype()`` é usada para alterar o tipo de dado de uma coluna. Ela permite converter uma coluna para um tipo de dado diferente, como inteiro, ponto flutuante, string, data, entre outros. "
   ]
  },
  {
   "cell_type": "markdown",
   "metadata": {},
   "source": [
    "# Missing Values\n",
    "Referem-se a ausência de dados em uma estrutura de dados. A presença de missing values em conjuntos de dados podem afetar análises estatísticas, modelagem e visualização, uma vez que esses valores ausentes podem distorcer as estimativas e resultados. Existem várias formas pelas quais missing values podem ocorrer, entre elas:\n",
    "1. Dados não coletados \n",
    "2. Erros de entrada de dados\n",
    "3. Falhas em sensores ou instrumentos\n",
    "4. Problemas de integridade (corrupção dos dados)\n",
    "5. Dados não disponíveis\n",
    "6. Falhas de processamento ou extração (joins)\n",
    "7. Valores nulos em bases de dados relacionais\n",
    "\n",
    "Use os métodos ``isna()`` ou ``isnull()`` para **identificar** células que contém missing values - também pode ser utilizado com a seguinte sintaxe: `` df[~df['A].isna()]`` para verificar se uma coluna em específico possui valores null. Com o método ``info()`` temos informações da **quantidade de missing values e o tipo de dados** das variáveis.\n"
   ]
  },
  {
   "cell_type": "markdown",
   "metadata": {},
   "source": [
    "O método ``dropna()`` é utilizado para excluir observações que contenham pelo menos um missing value das linhas de um df, o ``.dropna(subset='coluna)`` remove apenas as linhas que contem missing values daquela coluna especificada e o  ``.dropna(axis=1)`` remove todas as colunas que possuam pelo menos um valor nulo. "
   ]
  },
  {
   "cell_type": "markdown",
   "metadata": {},
   "source": [
    "Use o método ``fillna()`` para preenchjer missing values com um valor específico. Por exemplo, `` fillna(0)`` substitui todos os valores faltantes por zero. ``fillna({'coluna': valor})`` substitui todos os valores faltantes daquela coluna espeficidada pelo valor indicado na função.  ``fillna(df.mean())`` substitui os valores faltantes pela média dos valores dentro de uma coluna. "
   ]
  },
  {
   "cell_type": "markdown",
   "metadata": {},
   "source": [
    "## Tipos de missing values\n",
    "Existem diferentes representações para missing values, entre elas:\n",
    "\n",
    "- NaN (Not a Number): missing values em arrays e estruturas de dados numéricos.\n",
    "- None: O objeto é usado para representar a ausência de um valor em objetos Python em geral. \n",
    "- NaT (Not a Time): É um valor especial usado para representar missing values em objetos de data e hora (datetime).\n",
    "- Inf (Infinity): Inf é um valor especial usado para representar infinito em cálculos numéricos."
   ]
  }
 ],
 "metadata": {
  "kernelspec": {
   "display_name": "Python 3",
   "language": "python",
   "name": "python3"
  },
  "language_info": {
   "codemirror_mode": {
    "name": "ipython",
    "version": 3
   },
   "file_extension": ".py",
   "mimetype": "text/x-python",
   "name": "python",
   "nbconvert_exporter": "python",
   "pygments_lexer": "ipython3",
   "version": "3.11.5"
  }
 },
 "nbformat": 4,
 "nbformat_minor": 2
}
