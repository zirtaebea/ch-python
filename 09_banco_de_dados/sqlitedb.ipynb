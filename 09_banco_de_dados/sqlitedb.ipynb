{
 "cells": [
  {
   "cell_type": "markdown",
   "metadata": {},
   "source": [
    "# Salvando uma tabela\n",
    "Podemos criar ou conectar a um banco de dados usando o comando **sqlite3.connect()**\n",
    "Para salvar diretamente um dataframe utilize o método **to_sql()** do pandas\n",
    "Lembre-se de fechar a conexão com **.close()**\n"
   ]
  },
  {
   "cell_type": "code",
   "execution_count": 3,
   "metadata": {},
   "outputs": [],
   "source": [
    "import pandas as pd\n",
    "import sqlite3\n",
    "\n",
    "#conectando ao banco de dados\n",
    "conn = sqlite3.connect('coderhouse.db')\n",
    "\n",
    "# criando dataframe produtos\n",
    "df_produtos = pd.DataFrame({\n",
    "    'nome': ['ovos', 'manteiga', 'peixe'],\n",
    "    'valor': [10, 20, 30]\n",
    "})\n",
    "\n",
    "# escrever o dataframe na tabela 'produtos'\n",
    "df_produtos.to_sql('produtos', conn, if_exists='replace', index=False)\n",
    "\n",
    "# fechar a conexão\n",
    "conn.close()"
   ]
  },
  {
   "cell_type": "markdown",
   "metadata": {},
   "source": [
    "# Leitura de dados\n",
    "A função **read_sql()** permite executar uma consulta no banco de dados e retornar os resultados como um dataframe do pandas\n",
    "**Lembre-se de abrir e fechar a conexão sempre**"
   ]
  },
  {
   "cell_type": "code",
   "execution_count": 4,
   "metadata": {},
   "outputs": [
    {
     "name": "stdout",
     "output_type": "stream",
     "text": [
      "       nome  valor\n",
      "0      ovos     10\n",
      "1  manteiga     20\n",
      "2     peixe     30\n"
     ]
    }
   ],
   "source": [
    "#conectando ao banco de dados\n",
    "conn = sqlite3.connect('coderhouse.db')\n",
    "\n",
    "#consulta na tabela de produtos e converter para um dataframe\n",
    "query = \"SELECT * FROM produtos\"\n",
    "produtos_consulta = pd.read_sql(query, conn)\n",
    "print(produtos_consulta)\n",
    "\n",
    "#fechando conexão\n",
    "conn.close()"
   ]
  },
  {
   "cell_type": "markdown",
   "metadata": {},
   "source": [
    "# Listar as tabelas \n",
    "Para verificar as tabelas que estão no banco de dados, podemos utilizar a query: \n",
    "`` SELECT name\n",
    "FROM sqlite_master\n",
    "WHERE type='table' ``"
   ]
  },
  {
   "cell_type": "code",
   "execution_count": 5,
   "metadata": {},
   "outputs": [
    {
     "name": "stdout",
     "output_type": "stream",
     "text": [
      "       name\n",
      "0  fastfood\n",
      "1  produtos\n"
     ]
    }
   ],
   "source": [
    "conn = sqlite3.connect('coderhouse.db')\n",
    "\n",
    "# consulta que retorna as informações do schema do db\n",
    "query = \"SELECT name FROM sqlite_master WHERE type='table'\"\n",
    "schema = pd.read_sql(query, conn)\n",
    "\n",
    "# imprimir o dataframe com os nomes das tabelas\n",
    "print(schema)\n",
    "\n",
    "# fechando conexão\n",
    "conn.close()"
   ]
  }
 ],
 "metadata": {
  "kernelspec": {
   "display_name": "Python 3",
   "language": "python",
   "name": "python3"
  },
  "language_info": {
   "codemirror_mode": {
    "name": "ipython",
    "version": 3
   },
   "file_extension": ".py",
   "mimetype": "text/x-python",
   "name": "python",
   "nbconvert_exporter": "python",
   "pygments_lexer": "ipython3",
   "version": "3.11.6"
  },
  "orig_nbformat": 4
 },
 "nbformat": 4,
 "nbformat_minor": 2
}
