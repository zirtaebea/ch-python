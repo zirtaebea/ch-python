{
 "cells": [
  {
   "cell_type": "code",
   "execution_count": 5,
   "metadata": {},
   "outputs": [
    {
     "name": "stdout",
     "output_type": "stream",
     "text": [
      "seu saldo é 950.6\n"
     ]
    },
    {
     "name": "stdout",
     "output_type": "stream",
     "text": [
      "Seu saldo novo é 920.1\n",
      "Essa é a sua salada de frutas:['mamão', 'banana', 'maçã']\n",
      "sua frase codificada s** b**tr*z *st** t*st*nd* * c*d*g*\n"
     ]
    }
   ],
   "source": [
    "\n",
    "# !Crie uma variável chamada saldo e atribua o valor de 950,60. Em seguida, pergunte ao usuário quanto dinheiro ele deseja \n",
    "# !sacar e armazene a resposta em uma variável chamada saque. Subtraia o valor de saque do valor de saldo e imprima a mensagem \"Seu novo saldo é {saldo}.\"\n",
    "\n",
    "#*criando variavel e input\n",
    "saldo = 950.60\n",
    "print(f\"seu saldo é {saldo}\")\n",
    "saque = float(input(\"Quanto você deseja sacar?\"))\n",
    "saque\n",
    "\n",
    "#*subtraindo saldo - saque\n",
    "saldo_novo = saldo - saque\n",
    "\n",
    "#*imprimindo valor do saldo novo\n",
    "print(f\"Seu saldo novo é {saldo_novo}\")\n",
    "\n",
    "# !Faça um programa que crie uma lista com 5 frutas e permita que o usuário digite o nome de uma fruta. Se for uma fruta repetida deverá ser desconsiderada. \n",
    "\n",
    "#*criando lista\n",
    "salada_frutas= [\"mamão\", \"banana\", \"maçã\"]\n",
    "print(f\"Essa é a sua salada de frutas:{salada_frutas}\")\n",
    "\n",
    "#*criando input\n",
    "fruta_nova = input(\"digite uma fruta\")\n",
    "\n",
    "#*adicionando fruta nova\n",
    "salada_frutas.append(fruta_nova)\n",
    "\n",
    "#*convertendo lista p set pra se caso a fruta inserida já estiver na lista, não repetir\n",
    "salada_frutas = list(set(fruta_nova))\n",
    "salada_frutas\n",
    "\n",
    "\n",
    "# !Faça um programa que peça ao usuário para digitar uma frase e substitua todas as vogais por asteriscos (*).\n",
    "\n",
    "#*input para receber frase\n",
    "frase_usuario = input(\"digite uma frase\")\n",
    "\n",
    "#*substituindo vogais por asteristico\n",
    "asteristico = frase_usuario.replace(\"a\", \"*\").replace(\"e\", \"*\").replace(\"i\",\"*\").replace(\"o\", \"*\").replace(\"u\",\"*\")\n",
    "print(f\"sua frase codificada {asteristico}\")"
   ]
  }
 ],
 "metadata": {
  "kernelspec": {
   "display_name": "Python 3",
   "language": "python",
   "name": "python3"
  },
  "language_info": {
   "codemirror_mode": {
    "name": "ipython",
    "version": 3
   },
   "file_extension": ".py",
   "mimetype": "text/x-python",
   "name": "python",
   "nbconvert_exporter": "python",
   "pygments_lexer": "ipython3",
   "version": "3.11.4"
  },
  "orig_nbformat": 4
 },
 "nbformat": 4,
 "nbformat_minor": 2
}
