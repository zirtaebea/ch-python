{
 "cells": [
  {
   "cell_type": "code",
   "execution_count": 2,
   "metadata": {},
   "outputs": [
    {
     "data": {
      "text/plain": [
       "'triz'"
      ]
     },
     "execution_count": 2,
     "metadata": {},
     "output_type": "execute_result"
    }
   ],
   "source": [
    "nome = \"bea\"\n",
    "nome = \"triz\"\n",
    "nome"
   ]
  },
  {
   "cell_type": "code",
   "execution_count": 4,
   "metadata": {},
   "outputs": [
    {
     "data": {
      "text/plain": [
       "str"
      ]
     },
     "execution_count": 4,
     "metadata": {},
     "output_type": "execute_result"
    }
   ],
   "source": [
    "\n",
    "#função type retorna o tipo de dado de um objeto\n",
    "#exemplo\n",
    "nome = \"bea\"\n",
    "type(nome)"
   ]
  },
  {
   "cell_type": "code",
   "execution_count": 6,
   "metadata": {},
   "outputs": [
    {
     "name": "stdout",
     "output_type": "stream",
     "text": [
      "oi meu nome é: bea\n"
     ]
    }
   ],
   "source": [
    "\n",
    "#print imprime saidas na tela e aceita um ou mais argumentos separados por virgulas e imprime a saida padrão no terminal\n",
    "#ex\n",
    "nome = \"bea\"\n",
    "print(\"oi meu nome é:\", nome)"
   ]
  },
  {
   "cell_type": "code",
   "execution_count": 7,
   "metadata": {},
   "outputs": [
    {
     "name": "stdout",
     "output_type": "stream",
     "text": [
      "olá eu sua idade é 23\n"
     ]
    }
   ],
   "source": [
    "\n",
    "#input é utilizado para obter a entrada do usuário a partir do teclado\n",
    "#ex\n",
    "nome = input(\"nome\")\n",
    "idade = input(\"idade\")\n",
    "\n",
    "print(\"olá\", nome, \"sua idade é\", idade)"
   ]
  },
  {
   "cell_type": "code",
   "execution_count": 9,
   "metadata": {},
   "outputs": [
    {
     "name": "stdout",
     "output_type": "stream",
     "text": [
      "Olá, bea você tem 24 anos\n"
     ]
    }
   ],
   "source": [
    "\n",
    "#também pode ser escrito dessa forma o print com o input\n",
    "nome = input(\"nome\")\n",
    "idade = input(\"idade\")\n",
    "\n",
    "print(f\"Olá, {nome} você tem {idade} anos\")"
   ]
  },
  {
   "cell_type": "code",
   "execution_count": 10,
   "metadata": {},
   "outputs": [
    {
     "name": "stdout",
     "output_type": "stream",
     "text": [
      "24 -4 140 0.7142857142857143\n"
     ]
    }
   ],
   "source": [
    "\n",
    "#operações principais\n",
    "#atribuição\n",
    "x = 10\n",
    "y = 14\n",
    "soma = x + y\n",
    "sub = x - y\n",
    "mul = x*y\n",
    "div = x/y\n",
    "\n",
    "print(soma, sub, mul, div)"
   ]
  },
  {
   "cell_type": "code",
   "execution_count": 12,
   "metadata": {},
   "outputs": [
    {
     "name": "stdout",
     "output_type": "stream",
     "text": [
      "False\n",
      "True\n",
      "True\n",
      "True\n",
      "False\n",
      "False\n",
      "True\n"
     ]
    }
   ],
   "source": [
    "\n",
    "#operações de comparação\n",
    "x = 10\n",
    "y = 5\n",
    "\n",
    "# = é atribuição, já o == é igual\n",
    "\n",
    "print(x == 12) #igual\n",
    "print(x == 10) #igual\n",
    "print(x!= y) #diferente\n",
    "print(x>y) #maior\n",
    "print(x<y) #menor\n",
    "print(x>y*2) #maior que y*2\n",
    "print(x>=y*2) #maior ou igual que y*2"
   ]
  },
  {
   "cell_type": "code",
   "execution_count": 16,
   "metadata": {},
   "outputs": [
    {
     "name": "stdout",
     "output_type": "stream",
     "text": [
      "True\n",
      "True\n",
      "False\n",
      "True\n",
      "False\n"
     ]
    }
   ],
   "source": [
    "x = 10\n",
    "print (0 < x and x < 100)\n",
    "\n",
    "print((10 == x) or (10 == y))\n",
    "print(not True)\n",
    "\n",
    "print(False and True or True)\n",
    "print(False and (True or True))"
   ]
  },
  {
   "cell_type": "code",
   "execution_count": 23,
   "metadata": {},
   "outputs": [
    {
     "data": {
      "text/plain": [
       "[1, 2, 3, 4, 7, 8, 9]"
      ]
     },
     "execution_count": 23,
     "metadata": {},
     "output_type": "execute_result"
    }
   ],
   "source": [
    "\n",
    "#lista\n",
    "#indice, é mutável e ordenável\n",
    "minha_lista = [1, 2.2, \"três\", 4]\n",
    "minha_lista[2]\n",
    "\n",
    "#propriedades \n",
    "#multinivel\n",
    "minha_listinha = [9,[2,3]]\n",
    "\n",
    "listatotal = minha_lista + minha_listinha\n",
    "listatotal\n",
    "\n",
    "listatotal.append('nove')\n",
    "listatotal\n",
    "\n",
    "listanumero = [9, 8, 7, 1, 2, 3, 4]\n",
    "listanumero.sort()\n",
    "listanumero\n"
   ]
  },
  {
   "cell_type": "code",
   "execution_count": 24,
   "metadata": {},
   "outputs": [
    {
     "data": {
      "text/plain": [
       "{'chave1': 'valor1', 'chave2': 2, 'chave3': [1, 2, 3]}"
      ]
     },
     "execution_count": 24,
     "metadata": {},
     "output_type": "execute_result"
    }
   ],
   "source": [
    "\n",
    "#dicionario \n",
    "#não ordena\n",
    "#acesso por chaves\n",
    "meu_dict ={\"chave1\": \"valor1\", \"chave2\":2, \"chave3\":[1,2,3]}\n",
    "meu_dict"
   ]
  },
  {
   "cell_type": "code",
   "execution_count": 2,
   "metadata": {},
   "outputs": [
    {
     "data": {
      "text/plain": [
       "{'nome': 'joão silva', 'idade': 57, 'altura': 1.82}"
      ]
     },
     "execution_count": 2,
     "metadata": {},
     "output_type": "execute_result"
    }
   ],
   "source": [
    "\n",
    "#dicionario adicionando mais um item (concatenando mais um indice)\n",
    "joao = {\"nome\":\"joão silva\", \"idade\":57}\n",
    "joao[\"altura\"] = 1.82\n",
    "joao"
   ]
  },
  {
   "cell_type": "code",
   "execution_count": 28,
   "metadata": {},
   "outputs": [
    {
     "ename": "TypeError",
     "evalue": "'tuple' object does not support item assignment",
     "output_type": "error",
     "traceback": [
      "\u001b[0;31m---------------------------------------------------------------------------\u001b[0m",
      "\u001b[0;31mTypeError\u001b[0m                                 Traceback (most recent call last)",
      "Cell \u001b[0;32mIn[28], line 5\u001b[0m\n\u001b[1;32m      2\u001b[0m lista \u001b[39m=\u001b[39m [\u001b[39m1\u001b[39m, \u001b[39m\"\u001b[39m\u001b[39mdois\u001b[39m\u001b[39m\"\u001b[39m, \u001b[39m3\u001b[39m]\n\u001b[1;32m      4\u001b[0m lista[\u001b[39m1\u001b[39m] \u001b[39m=\u001b[39m \u001b[39m2\u001b[39m\n\u001b[0;32m----> 5\u001b[0m minha_tupla[\u001b[39m2\u001b[39;49m] \u001b[39m=\u001b[39m \u001b[39m2\u001b[39m\n",
      "\u001b[0;31mTypeError\u001b[0m: 'tuple' object does not support item assignment"
     ]
    }
   ],
   "source": [
    "\n",
    "#!tupla\n",
    "#acesso por indice e é ordenado\n",
    "minha_tupla = (1, \"dois\", 3)\n",
    "lista = [1, \"dois\", 3]\n",
    "\n",
    "#verificando que a tupla não é mutável\n",
    "lista[1] = 2\n",
    "minha_tupla[2] = 2"
   ]
  },
  {
   "cell_type": "code",
   "execution_count": 30,
   "metadata": {},
   "outputs": [
    {
     "data": {
      "text/plain": [
       "{1, 2, 3, 4, 5}"
      ]
     },
     "execution_count": 30,
     "metadata": {},
     "output_type": "execute_result"
    }
   ],
   "source": [
    "\n",
    "#set\n",
    "# usa chaves\n",
    "meu_set = {1,2,2,3,4,5,2}\n",
    "meu_set\n",
    "#conta apenas os itens que não se repetem\n",
    "#não ordena\n",
    "# .add() pra adicionar\n",
    "# .remove() pra remover"
   ]
  },
  {
   "cell_type": "code",
   "execution_count": 14,
   "metadata": {},
   "outputs": [
    {
     "name": "stdout",
     "output_type": "stream",
     "text": [
      "oi meu nome é beatriz e eu tenho 24 anos. Eu moro em salvador\n",
      "oi me\n",
      "u nome é b\n",
      "eatriz\n"
     ]
    },
    {
     "data": {
      "text/plain": [
       "'beatriz'"
      ]
     },
     "execution_count": 14,
     "metadata": {},
     "output_type": "execute_result"
    }
   ],
   "source": [
    "\n",
    "#operações com strings\n",
    "nome1 = \"bea\"\n",
    "nome2 = \"triz\"\n",
    "\n",
    "#concatenação\n",
    "nome_completo = nome1+nome2\n",
    "nome_completo\n",
    "\n",
    "frase = \"oi meu nome é\" + \" \" +nome_completo\n",
    "frase\n",
    "\n",
    "idade = 24\n",
    "frase_idade = \"{} e eu tenho {} anos\".format(frase, idade)\n",
    "frase_idade\n",
    "\n",
    "cidade = \"salvador\"\n",
    "print(f\"{frase_idade}. Eu moro em {cidade}\")\n",
    "\n",
    "#indexação (fatiar strings)\n",
    "print(frase[:5])\n",
    "print(frase[5:15])\n",
    "print(frase[15:])\n",
    "\n",
    "#replace (substituição)\n",
    "nova_frase = frase.replace(\"beatriz\", \"chuu\")\n",
    "nova_frase\n",
    "\n",
    "#strip (remove espaços em branco no inicio e no fim de uma string)\n",
    "espaco = \"        beatriz \"\n",
    "espaco\n",
    "espaco = espaco.strip()\n",
    "espaco\n",
    "\n",
    "#split (fatiar frase em um array de strings)\n",
    "frase_idade.split()\n",
    "\n",
    "virgula = \"oi, meu nome é beatriz\"\n",
    "virgula.split(\",\")\n",
    "\n",
    "#upper e lower case\n",
    "#upper\n",
    "nome_completo = nome_completo.upper()\n",
    "nome_completo\n",
    "#lower\n",
    "nome_completo = nome_completo.lower()\n",
    "nome_completo"
   ]
  }
 ],
 "metadata": {
  "kernelspec": {
   "display_name": "Python 3",
   "language": "python",
   "name": "python3"
  },
  "language_info": {
   "codemirror_mode": {
    "name": "ipython",
    "version": 3
   },
   "file_extension": ".py",
   "mimetype": "text/x-python",
   "name": "python",
   "nbconvert_exporter": "python",
   "pygments_lexer": "ipython3",
   "version": "3.11.5"
  },
  "orig_nbformat": 4
 },
 "nbformat": 4,
 "nbformat_minor": 2
}
