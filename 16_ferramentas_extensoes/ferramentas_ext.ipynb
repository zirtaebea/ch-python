{
 "cells": [
  {
   "cell_type": "markdown",
   "metadata": {},
   "source": [
    "# CRISP-DM\n",
    "- Business understanding\n",
    "- Data understanding\n",
    "- Data preparation\n",
    "- Modeling\n",
    "- Evaluation <-> Business understanding\n",
    "- Deployment"
   ]
  },
  {
   "cell_type": "markdown",
   "metadata": {},
   "source": [
    "# Virtual Environments\n",
    "Um ambiente virtual para isolar e gerenciar as dependências de um projeto. É comum ter projetos que dependem de diferentes versões de bibliotecas ou pacotes. No entando, as vezes essas versões podem entrar em conflito, o que pode resultar em erros ou comportamentos inesperados. Ambientes virtuais fornecem uma maneira de criar **ambientes independentes**, onde você pode **instalar as versões específicas das bibliotecas**, sem interferir no ambiente global do sistema. "
   ]
  },
  {
   "cell_type": "markdown",
   "metadata": {},
   "source": [
    "## Como criar um Virtual environment?\n",
    "### Linux\n",
    "1) Abrir terminal\n",
    "2) comando para criar:```python3 -m venv env/myenv```\n",
    "3) abrindo environment: ```source env/myenv/bin/activate```\n",
    "4) desativar: ```deactivate```\n",
    "\n",
    "### Windows\n",
    "1) Prompt de comando\n",
    "2) comandos para criar: ```pip install virtualenv```, ```pip install virtualenvwrapper-win```, ```mkvirtualenv myenv```\n",
    "3) abrindo environment: ```workon myenv```\n",
    "4) desativar: ```deactivate```"
   ]
  },
  {
   "cell_type": "markdown",
   "metadata": {},
   "source": [
    "## Como configurar um virtual environment?\n",
    "Com um virtual environment você pode criar uma cópia do ambiente Python padrão, com seu próprio espaço de nomes e pasta de instalação de pacotes. Isso permite que você instale **versões específicas de bibliotecas e pacotes para o seu projeto** sem se preocupar com conflitos ou interferências com outras dependências.\n",
    "- ```pip install --upgrade pip``` - atualizando o pypl package pip\n",
    "- ```pip install pandas``` - instalação do pacote\n",
    "- ```pip install pandas==0.20.3``` - instalação do pacote numa versão específica"
   ]
  },
  {
   "cell_type": "markdown",
   "metadata": {},
   "source": [
    "## Como replicar um virtual environment?\n",
    "O comando ```pip freeze``` é uma ferramenta que é utilizada para gerar uma lista de todas as bibliotecas e suas versões instaladas no ambiente virtual ou global do sistema. \n",
    "- ```pip freeze``` ou ```pip freeze > requirements.txt``` \n",
    "- ```pip install -r requirements.txt``` - instalação de todas as dependências e suas respectivas versões\n",
    "- é bem comum encontrar um arquivo requirements.txt em projetos de python, assim facilitando a replicação dos mesmos resultados"
   ]
  },
  {
   "cell_type": "markdown",
   "metadata": {},
   "source": [
    "O visual studio code permite selecionar o interpretador utilizado nas execução dos códigos. \n",
    "- no vscode **ctrl + shift + p**\n",
    "- selecione o environment de preferência"
   ]
  },
  {
   "cell_type": "markdown",
   "metadata": {},
   "source": [
    "# Docker\n",
    "É uma plataforma de código aberto que permite a criação, implantação e execução de aplicativos em contêiners. Um **contêiner é uma unidade autônoma que empacota um aplicativo com todas as suas dependências, incluindo bibliotecas, ferramentas e arquivos de configuração** necessários para que o aplicativo seja executado de forma consistente em diferentes ambientes. "
   ]
  },
  {
   "cell_type": "markdown",
   "metadata": {},
   "source": [
    "Os comandos de docker lembram muito os comandos de git e virtual environments:\n",
    "- docker pull imagem\n",
    "- docker info\n",
    "- docker version\n",
    "- docker run imagem"
   ]
  },
  {
   "cell_type": "markdown",
   "metadata": {},
   "source": [
    "## Docker hub\n",
    "É a maior biblioteca e comunidade do mundo de imagens de contêiner.\n",
    "- https://hub.docker.com/"
   ]
  },
  {
   "cell_type": "markdown",
   "metadata": {},
   "source": [
    "# Deploy\n",
    "É o processo de implantar um software ou um aplicativo em um ambiente de produção, tornando-o disponível para uso pelos usuários finais. O deploy pode ser realizado manualmente ou automaticamente por meio de ferramentas de integração. Durante o processo de deploy, o código-fonte é compilado em um ambiente de produção, onde os usuários finais podem acessá-los e usá-lo."
   ]
  },
  {
   "cell_type": "markdown",
   "metadata": {},
   "source": [
    "- continuous integration (CI): plan, code, build, test\n",
    "- continuous delivery (CD): release, deploy, operate"
   ]
  }
 ],
 "metadata": {
  "language_info": {
   "name": "python"
  }
 },
 "nbformat": 4,
 "nbformat_minor": 2
}
