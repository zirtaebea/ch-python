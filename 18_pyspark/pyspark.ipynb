{
 "cells": [
  {
   "cell_type": "markdown",
   "metadata": {},
   "source": [
    "# Spark\n",
    "Plataforma de código aberto para processar grandes volumes de dados de forma rápida e eficiente. Oferece suporte para várias linguagens de programação e fornece uma API rica e extensivel para desenvolvedores. "
   ]
  },
  {
   "cell_type": "markdown",
   "metadata": {},
   "source": [
    "A interação do Spark com clusters é fundamental para sua arquitetura e escalabilidade.\n",
    "* Cluster: conjunto de computadores interconectados que são usados para executar tarefas em paralelo.\n",
    "* Spark Driver: O processo principal do Spark que coordena as operações e interage com o cluster manager. \n",
    "* Executor: O processo em execução nos nós do cluster que executa as tarefas atribuídas pelo driver.\n"
   ]
  },
  {
   "cell_type": "markdown",
   "metadata": {},
   "source": [
    "# Pyspark\n",
    "PySpark é a interface que permite interagir com o Spark usando a linguagem Python. Ele oferece suporte a todas as funcionalidades do Spark e permite que os desenvolvedores aproveitem as bibliotecas e ferramentas do Spark para realizar tarefas de processamento de dados distribuídos.\n"
   ]
  },
  {
   "cell_type": "markdown",
   "metadata": {},
   "source": [
    "Para iniciar uma sessão, você precisa importar a classe SparkSession do módulo pyspark.sql. A SparkSession é responsável por estabelecer a conexão com o cluster Spark e fornece uma interface para trabalhar com DataFrames e executar consultas SQL.\n"
   ]
  },
  {
   "cell_type": "code",
   "execution_count": 1,
   "metadata": {},
   "outputs": [
    {
     "name": "stderr",
     "output_type": "stream",
     "text": [
      "Setting default log level to \"WARN\".\n",
      "To adjust logging level use sc.setLogLevel(newLevel). For SparkR, use setLogLevel(newLevel).\n",
      "23/11/05 10:50:15 WARN NativeCodeLoader: Unable to load native-hadoop library for your platform... using builtin-java classes where applicable\n"
     ]
    }
   ],
   "source": [
    "# criando sessão\n",
    "from pyspark.sql import SparkSession\n",
    "import pyspark as ps    \n",
    "spark = (SparkSession\n",
    "        .builder\n",
    "        .appName('Python Spark SQL basic exemple')\n",
    "        .config('spark.some.config.option', 'some-value')\n",
    "        .getOrCreate())"
   ]
  },
  {
   "cell_type": "code",
   "execution_count": 2,
   "metadata": {},
   "outputs": [
    {
     "data": {
      "text/plain": [
       "<pyspark.conf.SparkConf at 0x7f083427d450>"
      ]
     },
     "execution_count": 2,
     "metadata": {},
     "output_type": "execute_result"
    }
   ],
   "source": [
    "conf = ps.SparkConf().setMaster(\"yarn-client\").setAppName(\"spark-mer\")\n",
    "conf.set(\"spark.executor.heartbeatInterval\", '3600s')"
   ]
  },
  {
   "cell_type": "markdown",
   "metadata": {},
   "source": [
    "park.read.csv é usado para ler o arquivo CSV. O parâmetro header=True é opcional e é usado para indicar que a primeira linha do arquivo contém o cabeçalho das coluna"
   ]
  },
  {
   "cell_type": "code",
   "execution_count": 3,
   "metadata": {},
   "outputs": [
    {
     "name": "stderr",
     "output_type": "stream",
     "text": [
      "                                                                                \r"
     ]
    },
    {
     "data": {
      "text/plain": [
       "DataFrame[id: string, diagnosis: string, radius_mean: string, texture_mean: string, perimeter_mean: string, area_mean: string, smoothness_mean: string, compactness_mean: string, concavity_mean: string, concave points_mean: string, symmetry_mean: string, fractal_dimension_mean: string, radius_se: string, texture_se: string, perimeter_se: string, area_se: string, smoothness_se: string, compactness_se: string, concavity_se: string, concave points_se: string, symmetry_se: string, fractal_dimension_se: string, radius_worst: string, texture_worst: string, perimeter_worst: string, area_worst: string, smoothness_worst: string, compactness_worst: string, concavity_worst: string, concave points_worst: string, symmetry_worst: string, fractal_dimension_worst: string, _c32: string]"
      ]
     },
     "execution_count": 3,
     "metadata": {},
     "output_type": "execute_result"
    }
   ],
   "source": [
    "# consultando os tipos de dados\n",
    "df_spark = (spark.read.format('csv')\n",
    "            .option(\"header\", \"true\")\n",
    "            .load(\"Cancer_Data.csv\"))\n",
    "df_spark"
   ]
  },
  {
   "cell_type": "code",
   "execution_count": 4,
   "metadata": {},
   "outputs": [
    {
     "name": "stderr",
     "output_type": "stream",
     "text": [
      "23/11/05 10:50:37 WARN SparkStringUtils: Truncated the string representation of a plan since it was too large. This behavior can be adjusted by setting 'spark.sql.debug.maxToStringFields'.\n",
      "23/11/05 10:50:38 WARN CSVHeaderChecker: CSV header does not conform to the schema.\n",
      " Header: id, diagnosis, radius_mean, texture_mean, perimeter_mean, area_mean, smoothness_mean, compactness_mean, concavity_mean, concave points_mean, symmetry_mean, fractal_dimension_mean, radius_se, texture_se, perimeter_se, area_se, smoothness_se, compactness_se, concavity_se, concave points_se, symmetry_se, fractal_dimension_se, radius_worst, texture_worst, perimeter_worst, area_worst, smoothness_worst, compactness_worst, concavity_worst, concave points_worst, symmetry_worst, fractal_dimension_worst, \n",
      " Schema: id, diagnosis, radius_mean, texture_mean, perimeter_mean, area_mean, smoothness_mean, compactness_mean, concavity_mean, concave points_mean, symmetry_mean, fractal_dimension_mean, radius_se, texture_se, perimeter_se, area_se, smoothness_se, compactness_se, concavity_se, concave points_se, symmetry_se, fractal_dimension_se, radius_worst, texture_worst, perimeter_worst, area_worst, smoothness_worst, compactness_worst, concavity_worst, concave points_worst, symmetry_worst, fractal_dimension_worst, _c32\n",
      "Expected: _c32 but found: \n",
      "CSV file: file:///home/bgsantos/Documentos/coderhouse-python/18_pyspark/Cancer_Data.csv\n",
      "[Stage 1:>                                                          (0 + 1) / 1]\r"
     ]
    },
    {
     "name": "stdout",
     "output_type": "stream",
     "text": [
      "+--------+---------+-----------+------------+--------------+---------+---------------+----------------+--------------+-------------------+-------------+----------------------+---------+----------+------------+-------+-------------+--------------+------------+-----------------+-----------+--------------------+------------+-------------+---------------+----------+----------------+-----------------+---------------+--------------------+--------------+-----------------------+----+\n",
      "|      id|diagnosis|radius_mean|texture_mean|perimeter_mean|area_mean|smoothness_mean|compactness_mean|concavity_mean|concave points_mean|symmetry_mean|fractal_dimension_mean|radius_se|texture_se|perimeter_se|area_se|smoothness_se|compactness_se|concavity_se|concave points_se|symmetry_se|fractal_dimension_se|radius_worst|texture_worst|perimeter_worst|area_worst|smoothness_worst|compactness_worst|concavity_worst|concave points_worst|symmetry_worst|fractal_dimension_worst|_c32|\n",
      "+--------+---------+-----------+------------+--------------+---------+---------------+----------------+--------------+-------------------+-------------+----------------------+---------+----------+------------+-------+-------------+--------------+------------+-----------------+-----------+--------------------+------------+-------------+---------------+----------+----------------+-----------------+---------------+--------------------+--------------+-----------------------+----+\n",
      "|  842302|        M|      17.99|       10.38|         122.8|     1001|         0.1184|          0.2776|        0.3001|             0.1471|       0.2419|               0.07871|    1.095|    0.9053|       8.589|  153.4|     0.006399|       0.04904|     0.05373|          0.01587|    0.03003|            0.006193|       25.38|        17.33|          184.6|      2019|          0.1622|           0.6656|         0.7119|              0.2654|        0.4601|                 0.1189|NULL|\n",
      "|  842517|        M|      20.57|       17.77|         132.9|     1326|        0.08474|         0.07864|        0.0869|            0.07017|       0.1812|               0.05667|   0.5435|    0.7339|       3.398|  74.08|     0.005225|       0.01308|      0.0186|           0.0134|    0.01389|            0.003532|       24.99|        23.41|          158.8|      1956|          0.1238|           0.1866|         0.2416|               0.186|         0.275|                0.08902|NULL|\n",
      "|84300903|        M|      19.69|       21.25|           130|     1203|         0.1096|          0.1599|        0.1974|             0.1279|       0.2069|               0.05999|   0.7456|    0.7869|       4.585|  94.03|      0.00615|       0.04006|     0.03832|          0.02058|     0.0225|            0.004571|       23.57|        25.53|          152.5|      1709|          0.1444|           0.4245|         0.4504|               0.243|        0.3613|                0.08758|NULL|\n",
      "|84348301|        M|      11.42|       20.38|         77.58|    386.1|         0.1425|          0.2839|        0.2414|             0.1052|       0.2597|               0.09744|   0.4956|     1.156|       3.445|  27.23|      0.00911|       0.07458|     0.05661|          0.01867|    0.05963|            0.009208|       14.91|         26.5|          98.87|     567.7|          0.2098|           0.8663|         0.6869|              0.2575|        0.6638|                  0.173|NULL|\n",
      "|84358402|        M|      20.29|       14.34|         135.1|     1297|         0.1003|          0.1328|         0.198|             0.1043|       0.1809|               0.05883|   0.7572|    0.7813|       5.438|  94.44|      0.01149|       0.02461|     0.05688|          0.01885|    0.01756|            0.005115|       22.54|        16.67|          152.2|      1575|          0.1374|            0.205|            0.4|              0.1625|        0.2364|                0.07678|NULL|\n",
      "+--------+---------+-----------+------------+--------------+---------+---------------+----------------+--------------+-------------------+-------------+----------------------+---------+----------+------------+-------+-------------+--------------+------------+-----------------+-----------+--------------------+------------+-------------+---------------+----------+----------------+-----------------+---------------+--------------------+--------------+-----------------------+----+\n",
      "only showing top 5 rows\n",
      "\n"
     ]
    },
    {
     "name": "stderr",
     "output_type": "stream",
     "text": [
      "                                                                                \r"
     ]
    }
   ],
   "source": [
    "# mostra os dados em forma de tabela\n",
    "df_spark.show(5)"
   ]
  },
  {
   "cell_type": "code",
   "execution_count": 5,
   "metadata": {},
   "outputs": [
    {
     "name": "stderr",
     "output_type": "stream",
     "text": [
      "23/11/05 10:50:56 WARN CSVHeaderChecker: CSV header does not conform to the schema.\n",
      " Header: id, diagnosis, radius_mean, texture_mean, perimeter_mean, area_mean, smoothness_mean, compactness_mean, concavity_mean, concave points_mean, symmetry_mean, fractal_dimension_mean, radius_se, texture_se, perimeter_se, area_se, smoothness_se, compactness_se, concavity_se, concave points_se, symmetry_se, fractal_dimension_se, radius_worst, texture_worst, perimeter_worst, area_worst, smoothness_worst, compactness_worst, concavity_worst, concave points_worst, symmetry_worst, fractal_dimension_worst, \n",
      " Schema: id, diagnosis, radius_mean, texture_mean, perimeter_mean, area_mean, smoothness_mean, compactness_mean, concavity_mean, concave points_mean, symmetry_mean, fractal_dimension_mean, radius_se, texture_se, perimeter_se, area_se, smoothness_se, compactness_se, concavity_se, concave points_se, symmetry_se, fractal_dimension_se, radius_worst, texture_worst, perimeter_worst, area_worst, smoothness_worst, compactness_worst, concavity_worst, concave points_worst, symmetry_worst, fractal_dimension_worst, _c32\n",
      "Expected: _c32 but found: \n",
      "CSV file: file:///home/bgsantos/Documentos/coderhouse-python/18_pyspark/Cancer_Data.csv\n"
     ]
    },
    {
     "data": {
      "text/html": [
       "<div>\n",
       "<style scoped>\n",
       "    .dataframe tbody tr th:only-of-type {\n",
       "        vertical-align: middle;\n",
       "    }\n",
       "\n",
       "    .dataframe tbody tr th {\n",
       "        vertical-align: top;\n",
       "    }\n",
       "\n",
       "    .dataframe thead th {\n",
       "        text-align: right;\n",
       "    }\n",
       "</style>\n",
       "<table border=\"1\" class=\"dataframe\">\n",
       "  <thead>\n",
       "    <tr style=\"text-align: right;\">\n",
       "      <th></th>\n",
       "      <th>id</th>\n",
       "      <th>diagnosis</th>\n",
       "      <th>radius_mean</th>\n",
       "      <th>texture_mean</th>\n",
       "      <th>perimeter_mean</th>\n",
       "      <th>area_mean</th>\n",
       "      <th>smoothness_mean</th>\n",
       "      <th>compactness_mean</th>\n",
       "      <th>concavity_mean</th>\n",
       "      <th>concave points_mean</th>\n",
       "      <th>...</th>\n",
       "      <th>texture_worst</th>\n",
       "      <th>perimeter_worst</th>\n",
       "      <th>area_worst</th>\n",
       "      <th>smoothness_worst</th>\n",
       "      <th>compactness_worst</th>\n",
       "      <th>concavity_worst</th>\n",
       "      <th>concave points_worst</th>\n",
       "      <th>symmetry_worst</th>\n",
       "      <th>fractal_dimension_worst</th>\n",
       "      <th>_c32</th>\n",
       "    </tr>\n",
       "  </thead>\n",
       "  <tbody>\n",
       "    <tr>\n",
       "      <th>0</th>\n",
       "      <td>842302</td>\n",
       "      <td>M</td>\n",
       "      <td>17.99</td>\n",
       "      <td>10.38</td>\n",
       "      <td>122.8</td>\n",
       "      <td>1001</td>\n",
       "      <td>0.1184</td>\n",
       "      <td>0.2776</td>\n",
       "      <td>0.3001</td>\n",
       "      <td>0.1471</td>\n",
       "      <td>...</td>\n",
       "      <td>17.33</td>\n",
       "      <td>184.6</td>\n",
       "      <td>2019</td>\n",
       "      <td>0.1622</td>\n",
       "      <td>0.6656</td>\n",
       "      <td>0.7119</td>\n",
       "      <td>0.2654</td>\n",
       "      <td>0.4601</td>\n",
       "      <td>0.1189</td>\n",
       "      <td>None</td>\n",
       "    </tr>\n",
       "    <tr>\n",
       "      <th>1</th>\n",
       "      <td>842517</td>\n",
       "      <td>M</td>\n",
       "      <td>20.57</td>\n",
       "      <td>17.77</td>\n",
       "      <td>132.9</td>\n",
       "      <td>1326</td>\n",
       "      <td>0.08474</td>\n",
       "      <td>0.07864</td>\n",
       "      <td>0.0869</td>\n",
       "      <td>0.07017</td>\n",
       "      <td>...</td>\n",
       "      <td>23.41</td>\n",
       "      <td>158.8</td>\n",
       "      <td>1956</td>\n",
       "      <td>0.1238</td>\n",
       "      <td>0.1866</td>\n",
       "      <td>0.2416</td>\n",
       "      <td>0.186</td>\n",
       "      <td>0.275</td>\n",
       "      <td>0.08902</td>\n",
       "      <td>None</td>\n",
       "    </tr>\n",
       "  </tbody>\n",
       "</table>\n",
       "<p>2 rows × 33 columns</p>\n",
       "</div>"
      ],
      "text/plain": [
       "       id diagnosis radius_mean texture_mean perimeter_mean area_mean  \\\n",
       "0  842302         M       17.99        10.38          122.8      1001   \n",
       "1  842517         M       20.57        17.77          132.9      1326   \n",
       "\n",
       "  smoothness_mean compactness_mean concavity_mean concave points_mean  ...  \\\n",
       "0          0.1184           0.2776         0.3001              0.1471  ...   \n",
       "1         0.08474          0.07864         0.0869             0.07017  ...   \n",
       "\n",
       "  texture_worst perimeter_worst area_worst smoothness_worst compactness_worst  \\\n",
       "0         17.33           184.6       2019           0.1622            0.6656   \n",
       "1         23.41           158.8       1956           0.1238            0.1866   \n",
       "\n",
       "  concavity_worst concave points_worst symmetry_worst fractal_dimension_worst  \\\n",
       "0          0.7119               0.2654         0.4601                  0.1189   \n",
       "1          0.2416                0.186          0.275                 0.08902   \n",
       "\n",
       "   _c32  \n",
       "0  None  \n",
       "1  None  \n",
       "\n",
       "[2 rows x 33 columns]"
      ]
     },
     "execution_count": 5,
     "metadata": {},
     "output_type": "execute_result"
    }
   ],
   "source": [
    "#transformando para um dataframe em pandas\n",
    "df_pd = df_spark.toPandas()\n",
    "df_pd.head(2)"
   ]
  },
  {
   "cell_type": "code",
   "execution_count": 6,
   "metadata": {},
   "outputs": [
    {
     "name": "stdout",
     "output_type": "stream",
     "text": [
      "<class 'pandas.core.frame.DataFrame'>\n",
      "RangeIndex: 569 entries, 0 to 568\n",
      "Data columns (total 32 columns):\n",
      " #   Column                   Non-Null Count  Dtype \n",
      "---  ------                   --------------  ----- \n",
      " 0   id                       569 non-null    object\n",
      " 1   diagnosis                569 non-null    object\n",
      " 2   radius_mean              569 non-null    object\n",
      " 3   texture_mean             569 non-null    object\n",
      " 4   perimeter_mean           569 non-null    object\n",
      " 5   area_mean                569 non-null    object\n",
      " 6   smoothness_mean          569 non-null    object\n",
      " 7   compactness_mean         569 non-null    object\n",
      " 8   concavity_mean           569 non-null    object\n",
      " 9   concave points_mean      569 non-null    object\n",
      " 10  symmetry_mean            569 non-null    object\n",
      " 11  fractal_dimension_mean   569 non-null    object\n",
      " 12  radius_se                569 non-null    object\n",
      " 13  texture_se               569 non-null    object\n",
      " 14  perimeter_se             569 non-null    object\n",
      " 15  area_se                  569 non-null    object\n",
      " 16  smoothness_se            569 non-null    object\n",
      " 17  compactness_se           569 non-null    object\n",
      " 18  concavity_se             569 non-null    object\n",
      " 19  concave points_se        569 non-null    object\n",
      " 20  symmetry_se              569 non-null    object\n",
      " 21  fractal_dimension_se     569 non-null    object\n",
      " 22  radius_worst             569 non-null    object\n",
      " 23  texture_worst            569 non-null    object\n",
      " 24  perimeter_worst          569 non-null    object\n",
      " 25  area_worst               569 non-null    object\n",
      " 26  smoothness_worst         569 non-null    object\n",
      " 27  compactness_worst        569 non-null    object\n",
      " 28  concavity_worst          569 non-null    object\n",
      " 29  concave points_worst     569 non-null    object\n",
      " 30  symmetry_worst           569 non-null    object\n",
      " 31  fractal_dimension_worst  569 non-null    object\n",
      "dtypes: object(32)\n",
      "memory usage: 142.4+ KB\n"
     ]
    }
   ],
   "source": [
    "# dropando colunas null\n",
    "df_pd.drop('_c32', axis=1, inplace=True) \n",
    "df_pd.info()"
   ]
  },
  {
   "cell_type": "code",
   "execution_count": 7,
   "metadata": {},
   "outputs": [
    {
     "name": "stderr",
     "output_type": "stream",
     "text": [
      "/home/bgsantos/.local/lib/python3.11/site-packages/pyspark/sql/pandas/conversion.py:485: FutureWarning: is_datetime64tz_dtype is deprecated and will be removed in a future version. Check `isinstance(dtype, pd.DatetimeTZDtype)` instead.\n",
      "  if should_localize and is_datetime64tz_dtype(s.dtype) and s.dt.tz is not None:\n",
      "[Stage 3:>                                                          (0 + 1) / 1]\r"
     ]
    },
    {
     "name": "stdout",
     "output_type": "stream",
     "text": [
      "+------+---------+-----------+------------+--------------+---------+---------------+----------------+--------------+-------------------+-------------+----------------------+---------+----------+------------+-------+-------------+--------------+------------+-----------------+-----------+--------------------+------------+-------------+---------------+----------+----------------+-----------------+---------------+--------------------+--------------+-----------------------+\n",
      "|    id|diagnosis|radius_mean|texture_mean|perimeter_mean|area_mean|smoothness_mean|compactness_mean|concavity_mean|concave points_mean|symmetry_mean|fractal_dimension_mean|radius_se|texture_se|perimeter_se|area_se|smoothness_se|compactness_se|concavity_se|concave points_se|symmetry_se|fractal_dimension_se|radius_worst|texture_worst|perimeter_worst|area_worst|smoothness_worst|compactness_worst|concavity_worst|concave points_worst|symmetry_worst|fractal_dimension_worst|\n",
      "+------+---------+-----------+------------+--------------+---------+---------------+----------------+--------------+-------------------+-------------+----------------------+---------+----------+------------+-------+-------------+--------------+------------+-----------------+-----------+--------------------+------------+-------------+---------------+----------+----------------+-----------------+---------------+--------------------+--------------+-----------------------+\n",
      "|842302|        M|      17.99|       10.38|         122.8|     1001|         0.1184|          0.2776|        0.3001|             0.1471|       0.2419|               0.07871|    1.095|    0.9053|       8.589|  153.4|     0.006399|       0.04904|     0.05373|          0.01587|    0.03003|            0.006193|       25.38|        17.33|          184.6|      2019|          0.1622|           0.6656|         0.7119|              0.2654|        0.4601|                 0.1189|\n",
      "|842517|        M|      20.57|       17.77|         132.9|     1326|        0.08474|         0.07864|        0.0869|            0.07017|       0.1812|               0.05667|   0.5435|    0.7339|       3.398|  74.08|     0.005225|       0.01308|      0.0186|           0.0134|    0.01389|            0.003532|       24.99|        23.41|          158.8|      1956|          0.1238|           0.1866|         0.2416|               0.186|         0.275|                0.08902|\n",
      "+------+---------+-----------+------------+--------------+---------+---------------+----------------+--------------+-------------------+-------------+----------------------+---------+----------+------------+-------+-------------+--------------+------------+-----------------+-----------+--------------------+------------+-------------+---------------+----------+----------------+-----------------+---------------+--------------------+--------------+-----------------------+\n",
      "only showing top 2 rows\n",
      "\n"
     ]
    },
    {
     "name": "stderr",
     "output_type": "stream",
     "text": [
      "                                                                                \r"
     ]
    }
   ],
   "source": [
    "#convertendo df em pandas pra spark\n",
    "df_spark2 = spark.createDataFrame(df_pd)\n",
    "df_spark2.show(2)"
   ]
  },
  {
   "cell_type": "code",
   "execution_count": 8,
   "metadata": {},
   "outputs": [
    {
     "name": "stdout",
     "output_type": "stream",
     "text": [
      "+---------+-----------+------------+--------------+---------+---------------+----------------+--------------+-------------------+-------------+----------------------+---------+----------+------------+-------+-------------+--------------+------------+-----------------+-----------+--------------------+------------+-------------+---------------+----------+----------------+-----------------+---------------+--------------------+--------------+-----------------------+\n",
      "|diagnosis|radius_mean|texture_mean|perimeter_mean|area_mean|smoothness_mean|compactness_mean|concavity_mean|concave points_mean|symmetry_mean|fractal_dimension_mean|radius_se|texture_se|perimeter_se|area_se|smoothness_se|compactness_se|concavity_se|concave points_se|symmetry_se|fractal_dimension_se|radius_worst|texture_worst|perimeter_worst|area_worst|smoothness_worst|compactness_worst|concavity_worst|concave points_worst|symmetry_worst|fractal_dimension_worst|\n",
      "+---------+-----------+------------+--------------+---------+---------------+----------------+--------------+-------------------+-------------+----------------------+---------+----------+------------+-------+-------------+--------------+------------+-----------------+-----------+--------------------+------------+-------------+---------------+----------+----------------+-----------------+---------------+--------------------+--------------+-----------------------+\n",
      "|        M|      17.99|       10.38|         122.8|     1001|         0.1184|          0.2776|        0.3001|             0.1471|       0.2419|               0.07871|    1.095|    0.9053|       8.589|  153.4|     0.006399|       0.04904|     0.05373|          0.01587|    0.03003|            0.006193|       25.38|        17.33|          184.6|      2019|          0.1622|           0.6656|         0.7119|              0.2654|        0.4601|                 0.1189|\n",
      "|        M|      20.57|       17.77|         132.9|     1326|        0.08474|         0.07864|        0.0869|            0.07017|       0.1812|               0.05667|   0.5435|    0.7339|       3.398|  74.08|     0.005225|       0.01308|      0.0186|           0.0134|    0.01389|            0.003532|       24.99|        23.41|          158.8|      1956|          0.1238|           0.1866|         0.2416|               0.186|         0.275|                0.08902|\n",
      "+---------+-----------+------------+--------------+---------+---------------+----------------+--------------+-------------------+-------------+----------------------+---------+----------+------------+-------+-------------+--------------+------------+-----------------+-----------+--------------------+------------+-------------+---------------+----------+----------------+-----------------+---------------+--------------------+--------------+-----------------------+\n",
      "only showing top 2 rows\n",
      "\n"
     ]
    }
   ],
   "source": [
    "# dropando colunas\n",
    "df_spark2_mod = df_spark2.drop('id')\n",
    "df_spark2_mod.show(2)"
   ]
  },
  {
   "cell_type": "code",
   "execution_count": 9,
   "metadata": {},
   "outputs": [
    {
     "name": "stdout",
     "output_type": "stream",
     "text": [
      "+---------+-----------+--------------+---------+\n",
      "|diagnosis|radius_mean|perimeter_mean|area_mean|\n",
      "+---------+-----------+--------------+---------+\n",
      "|        M|      17.99|         122.8|     1001|\n",
      "|        M|      20.57|         132.9|     1326|\n",
      "+---------+-----------+--------------+---------+\n",
      "only showing top 2 rows\n",
      "\n"
     ]
    }
   ],
   "source": [
    "# selecionando algumas colunas\n",
    "df_spark_select = df_spark2_mod.select('diagnosis', 'radius_mean', 'perimeter_mean', 'area_mean')\n",
    "df_spark_select.show(2)"
   ]
  },
  {
   "cell_type": "code",
   "execution_count": 10,
   "metadata": {},
   "outputs": [
    {
     "name": "stdout",
     "output_type": "stream",
     "text": [
      "+---------+-----------+------------+-------------+---------+---------------+----------------+--------------+-------------------+-------------+----------------------+---------+----------+------------+-------+-------------+--------------+------------+-----------------+-----------+--------------------+------------+-------------+---------------+----------+----------------+-----------------+---------------+--------------------+--------------+-----------------------+\n",
      "|diagnosis|radius_mean|texture_mean|perimeter_avg|area_mean|smoothness_mean|compactness_mean|concavity_mean|concave points_mean|symmetry_mean|fractal_dimension_mean|radius_se|texture_se|perimeter_se|area_se|smoothness_se|compactness_se|concavity_se|concave points_se|symmetry_se|fractal_dimension_se|radius_worst|texture_worst|perimeter_worst|area_worst|smoothness_worst|compactness_worst|concavity_worst|concave points_worst|symmetry_worst|fractal_dimension_worst|\n",
      "+---------+-----------+------------+-------------+---------+---------------+----------------+--------------+-------------------+-------------+----------------------+---------+----------+------------+-------+-------------+--------------+------------+-----------------+-----------+--------------------+------------+-------------+---------------+----------+----------------+-----------------+---------------+--------------------+--------------+-----------------------+\n",
      "|        M|      17.99|       10.38|        122.8|     1001|         0.1184|          0.2776|        0.3001|             0.1471|       0.2419|               0.07871|    1.095|    0.9053|       8.589|  153.4|     0.006399|       0.04904|     0.05373|          0.01587|    0.03003|            0.006193|       25.38|        17.33|          184.6|      2019|          0.1622|           0.6656|         0.7119|              0.2654|        0.4601|                 0.1189|\n",
      "|        M|      20.57|       17.77|        132.9|     1326|        0.08474|         0.07864|        0.0869|            0.07017|       0.1812|               0.05667|   0.5435|    0.7339|       3.398|  74.08|     0.005225|       0.01308|      0.0186|           0.0134|    0.01389|            0.003532|       24.99|        23.41|          158.8|      1956|          0.1238|           0.1866|         0.2416|               0.186|         0.275|                0.08902|\n",
      "+---------+-----------+------------+-------------+---------+---------------+----------------+--------------+-------------------+-------------+----------------------+---------+----------+------------+-------+-------------+--------------+------------+-----------------+-----------+--------------------+------------+-------------+---------------+----------+----------------+-----------------+---------------+--------------------+--------------+-----------------------+\n",
      "only showing top 2 rows\n",
      "\n"
     ]
    }
   ],
   "source": [
    "# renomeando colunas\n",
    "df_spark_rename = df_spark2_mod.withColumnRenamed('perimeter_mean', 'perimeter_avg')\n",
    "df_spark_rename.show(2)"
   ]
  },
  {
   "cell_type": "markdown",
   "metadata": {},
   "source": [
    "O método withColumn() é usado para adicionar ou substituir uma coluna em um DataFrame.\n",
    "* DataFrame.withColumn(colName, col)\n",
    "  \n",
    "  O método lit() cria uma coluna de valor literal. "
   ]
  },
  {
   "cell_type": "code",
   "execution_count": 11,
   "metadata": {},
   "outputs": [
    {
     "name": "stdout",
     "output_type": "stream",
     "text": [
      "+---------+-----------+------------+--------------+---------+---------------+----------------+--------------+-------------------+-------------+----------------------+---------+----------+------------+-------+-------------+--------------+------------+-----------------+-----------+--------------------+------------+-------------+---------------+----------+----------------+-----------------+---------------+--------------------+--------------+-----------------------+-----------+\n",
      "|diagnosis|radius_mean|texture_mean|perimeter_mean|area_mean|smoothness_mean|compactness_mean|concavity_mean|concave points_mean|symmetry_mean|fractal_dimension_mean|radius_se|texture_se|perimeter_se|area_se|smoothness_se|compactness_se|concavity_se|concave points_se|symmetry_se|fractal_dimension_se|radius_worst|texture_worst|perimeter_worst|area_worst|smoothness_worst|compactness_worst|concavity_worst|concave points_worst|symmetry_worst|fractal_dimension_worst|       base|\n",
      "+---------+-----------+------------+--------------+---------+---------------+----------------+--------------+-------------------+-------------+----------------------+---------+----------+------------+-------+-------------+--------------+------------+-----------------+-----------+--------------------+------------+-------------+---------------+----------+----------------+-----------------+---------------+--------------------+--------------+-----------------------+-----------+\n",
      "|        M|      17.99|       10.38|         122.8|     1001|         0.1184|          0.2776|        0.3001|             0.1471|       0.2419|               0.07871|    1.095|    0.9053|       8.589|  153.4|     0.006399|       0.04904|     0.05373|          0.01587|    0.03003|            0.006193|       25.38|        17.33|          184.6|      2019|          0.1622|           0.6656|         0.7119|              0.2654|        0.4601|                 0.1189|cancer_data|\n",
      "|        M|      20.57|       17.77|         132.9|     1326|        0.08474|         0.07864|        0.0869|            0.07017|       0.1812|               0.05667|   0.5435|    0.7339|       3.398|  74.08|     0.005225|       0.01308|      0.0186|           0.0134|    0.01389|            0.003532|       24.99|        23.41|          158.8|      1956|          0.1238|           0.1866|         0.2416|               0.186|         0.275|                0.08902|cancer_data|\n",
      "+---------+-----------+------------+--------------+---------+---------------+----------------+--------------+-------------------+-------------+----------------------+---------+----------+------------+-------+-------------+--------------+------------+-----------------+-----------+--------------------+------------+-------------+---------------+----------+----------------+-----------------+---------------+--------------------+--------------+-----------------------+-----------+\n",
      "only showing top 2 rows\n",
      "\n"
     ]
    }
   ],
   "source": [
    "import pyspark.sql.functions as f   \n",
    "from pyspark.sql.functions import col, lit, when\n",
    "# setar um valor para a nova coluna 'base'\n",
    "df_spark2_mod = df_spark2_mod.withColumn('base', lit('cancer_data'))\n",
    "df_spark2_mod.show(2)"
   ]
  },
  {
   "cell_type": "code",
   "execution_count": 12,
   "metadata": {},
   "outputs": [
    {
     "name": "stdout",
     "output_type": "stream",
     "text": [
      "+---------+-----------+------------+--------------+---------+---------------+----------------+--------------+-------------------+-------------+----------------------+---------+----------+------------+-------+-------------+--------------+------------+-----------------+-----------+--------------------+------------+-------------+---------------+----------+----------------+-----------------+---------------+--------------------+--------------+-----------------------+-----------+------------------+\n",
      "|diagnosis|radius_mean|texture_mean|perimeter_mean|area_mean|smoothness_mean|compactness_mean|concavity_mean|concave points_mean|symmetry_mean|fractal_dimension_mean|radius_se|texture_se|perimeter_se|area_se|smoothness_se|compactness_se|concavity_se|concave points_se|symmetry_se|fractal_dimension_se|radius_worst|texture_worst|perimeter_worst|area_worst|smoothness_worst|compactness_worst|concavity_worst|concave points_worst|symmetry_worst|fractal_dimension_worst|       base|        area_aprox|\n",
      "+---------+-----------+------------+--------------+---------+---------------+----------------+--------------+-------------------+-------------+----------------------+---------+----------+------------+-------+-------------+--------------+------------+-----------------+-----------+--------------------+------------+-------------+---------------+----------+----------------+-----------------+---------------+--------------------+--------------+-----------------------+-----------+------------------+\n",
      "|        M|      17.99|       10.38|         122.8|     1001|         0.1184|          0.2776|        0.3001|             0.1471|       0.2419|               0.07871|    1.095|    0.9053|       8.589|  153.4|     0.006399|       0.04904|     0.05373|          0.01587|    0.03003|            0.006193|       25.38|        17.33|          184.6|      2019|          0.1622|           0.6656|         0.7119|              0.2654|        0.4601|                 0.1189|cancer_data|1016.7153741499999|\n",
      "|        M|      20.57|       17.77|         132.9|     1326|        0.08474|         0.07864|        0.0869|            0.07017|       0.1812|               0.05667|   0.5435|    0.7339|       3.398|  74.08|     0.005225|       0.01308|      0.0186|           0.0134|    0.01389|            0.003532|       24.99|        23.41|          158.8|      1956|          0.1238|           0.1866|         0.2416|               0.186|         0.275|                0.08902|cancer_data|1329.2468733500002|\n",
      "+---------+-----------+------------+--------------+---------+---------------+----------------+--------------+-------------------+-------------+----------------------+---------+----------+------------+-------+-------------+--------------+------------+-----------------+-----------+--------------------+------------+-------------+---------------+----------+----------------+-----------------+---------------+--------------------+--------------+-----------------------+-----------+------------------+\n",
      "only showing top 2 rows\n",
      "\n"
     ]
    }
   ],
   "source": [
    "# acessando uma coluna com base em seu nome\n",
    "df_spark2_col = df_spark2_mod.withColumn('area_aprox', 3.1415*col('radius_mean')**2)\n",
    "df_spark2_col.show(2)"
   ]
  },
  {
   "cell_type": "code",
   "execution_count": 13,
   "metadata": {},
   "outputs": [
    {
     "name": "stdout",
     "output_type": "stream",
     "text": [
      "+---------+-----------+------------+--------------+---------+---------------+----------------+--------------+-------------------+-------------+----------------------+---------+----------+------------+-------+-------------+--------------+------------+-----------------+-----------+--------------------+------------+-------------+---------------+----------+----------------+-----------------+---------------+--------------------+--------------+-----------------------+-----------+----------+\n",
      "|diagnosis|radius_mean|texture_mean|perimeter_mean|area_mean|smoothness_mean|compactness_mean|concavity_mean|concave points_mean|symmetry_mean|fractal_dimension_mean|radius_se|texture_se|perimeter_se|area_se|smoothness_se|compactness_se|concavity_se|concave points_se|symmetry_se|fractal_dimension_se|radius_worst|texture_worst|perimeter_worst|area_worst|smoothness_worst|compactness_worst|concavity_worst|concave points_worst|symmetry_worst|fractal_dimension_worst|       base|area_aprox|\n",
      "+---------+-----------+------------+--------------+---------+---------------+----------------+--------------+-------------------+-------------+----------------------+---------+----------+------------+-------+-------------+--------------+------------+-----------------+-----------+--------------------+------------+-------------+---------------+----------+----------------+-----------------+---------------+--------------------+--------------+-----------------------+-----------+----------+\n",
      "|        M|      17.99|       10.38|         122.8|     1001|         0.1184|          0.2776|        0.3001|             0.1471|       0.2419|               0.07871|    1.095|    0.9053|       8.589|  153.4|     0.006399|       0.04904|     0.05373|          0.01587|    0.03003|            0.006193|       25.38|        17.33|          184.6|      2019|          0.1622|           0.6656|         0.7119|              0.2654|        0.4601|                 0.1189|cancer_data|    1017.0|\n",
      "|        M|      20.57|       17.77|         132.9|     1326|        0.08474|         0.07864|        0.0869|            0.07017|       0.1812|               0.05667|   0.5435|    0.7339|       3.398|  74.08|     0.005225|       0.01308|      0.0186|           0.0134|    0.01389|            0.003532|       24.99|        23.41|          158.8|      1956|          0.1238|           0.1866|         0.2416|               0.186|         0.275|                0.08902|cancer_data|    1329.0|\n",
      "+---------+-----------+------------+--------------+---------+---------------+----------------+--------------+-------------------+-------------+----------------------+---------+----------+------------+-------+-------------+--------------+------------+-----------------+-----------+--------------------+------------+-------------+---------------+----------+----------------+-----------------+---------------+--------------------+--------------+-----------------------+-----------+----------+\n",
      "only showing top 2 rows\n",
      "\n"
     ]
    }
   ],
   "source": [
    "# arrendondando valor\n",
    "df_spark2_col_round = df_spark2_col.withColumn('area_aprox', f.round(col('area_aprox')))\n",
    "df_spark2_col_round.show(2)"
   ]
  },
  {
   "cell_type": "code",
   "execution_count": 14,
   "metadata": {},
   "outputs": [
    {
     "name": "stdout",
     "output_type": "stream",
     "text": [
      "+---------+-----------+------------+--------------+---------+---------------+----------------+--------------+-------------------+-------------+----------------------+---------+----------+------------+-------+-------------+--------------+------------+-----------------+-----------+--------------------+------------+-------------+---------------+----------+----------------+-----------------+---------------+--------------------+--------------+-----------------------+-----------+--------------+\n",
      "|diagnosis|radius_mean|texture_mean|perimeter_mean|area_mean|smoothness_mean|compactness_mean|concavity_mean|concave points_mean|symmetry_mean|fractal_dimension_mean|radius_se|texture_se|perimeter_se|area_se|smoothness_se|compactness_se|concavity_se|concave points_se|symmetry_se|fractal_dimension_se|radius_worst|texture_worst|perimeter_worst|area_worst|smoothness_worst|compactness_worst|concavity_worst|concave points_worst|symmetry_worst|fractal_dimension_worst|       base|diagnosis_desc|\n",
      "+---------+-----------+------------+--------------+---------+---------------+----------------+--------------+-------------------+-------------+----------------------+---------+----------+------------+-------+-------------+--------------+------------+-----------------+-----------+--------------------+------------+-------------+---------------+----------+----------------+-----------------+---------------+--------------------+--------------+-----------------------+-----------+--------------+\n",
      "|        M|      17.99|       10.38|         122.8|     1001|         0.1184|          0.2776|        0.3001|             0.1471|       0.2419|               0.07871|    1.095|    0.9053|       8.589|  153.4|     0.006399|       0.04904|     0.05373|          0.01587|    0.03003|            0.006193|       25.38|        17.33|          184.6|      2019|          0.1622|           0.6656|         0.7119|              0.2654|        0.4601|                 0.1189|cancer_data|       Maligno|\n",
      "|        M|      20.57|       17.77|         132.9|     1326|        0.08474|         0.07864|        0.0869|            0.07017|       0.1812|               0.05667|   0.5435|    0.7339|       3.398|  74.08|     0.005225|       0.01308|      0.0186|           0.0134|    0.01389|            0.003532|       24.99|        23.41|          158.8|      1956|          0.1238|           0.1866|         0.2416|               0.186|         0.275|                0.08902|cancer_data|       Maligno|\n",
      "+---------+-----------+------------+--------------+---------+---------------+----------------+--------------+-------------------+-------------+----------------------+---------+----------+------------+-------+-------------+--------------+------------+-----------------+-----------+--------------------+------------+-------------+---------------+----------+----------------+-----------------+---------------+--------------------+--------------+-----------------------+-----------+--------------+\n",
      "only showing top 2 rows\n",
      "\n"
     ]
    }
   ],
   "source": [
    "# definindo expressões condicionais\n",
    "df_spark2_diagnosis = df_spark2_mod.withColumn('diagnosis_desc',\n",
    "                                            # quando na coluna de diagnostico tiver a letra m, escrever na coluna de descrição 'maligno'\n",
    "                                            when(col('diagnosis') == 'M', 'Maligno')\n",
    "                                            # quando na coluna de diagnostico tiver a letra b, escrever na coluna de descrição 'benigno'\n",
    "                                            .when(col('diagnosis')== 'B', 'Benigno')\n",
    "                                            .otherwise('outros'))\n",
    "\n",
    "df_spark2_diagnosis.show(2)"
   ]
  },
  {
   "cell_type": "code",
   "execution_count": 15,
   "metadata": {},
   "outputs": [
    {
     "name": "stdout",
     "output_type": "stream",
     "text": [
      "+---------+-----------+------------+--------------+---------+---------------+----------------+--------------+-------------------+-------------+----------------------+---------+----------+------------+-------+-------------+--------------+------------+-----------------+-----------+--------------------+------------+-------------+---------------+----------+----------------+-----------------+---------------+--------------------+--------------+-----------------------+-----------+--------------+\n",
      "|diagnosis|radius_mean|texture_mean|perimeter_mean|area_mean|smoothness_mean|compactness_mean|concavity_mean|concave points_mean|symmetry_mean|fractal_dimension_mean|radius_se|texture_se|perimeter_se|area_se|smoothness_se|compactness_se|concavity_se|concave points_se|symmetry_se|fractal_dimension_se|radius_worst|texture_worst|perimeter_worst|area_worst|smoothness_worst|compactness_worst|concavity_worst|concave points_worst|symmetry_worst|fractal_dimension_worst|       base|diagnosis_desc|\n",
      "+---------+-----------+------------+--------------+---------+---------------+----------------+--------------+-------------------+-------------+----------------------+---------+----------+------------+-------+-------------+--------------+------------+-----------------+-----------+--------------------+------------+-------------+---------------+----------+----------------+-----------------+---------------+--------------------+--------------+-----------------------+-----------+--------------+\n",
      "|        B|      13.54|       14.36|         87.46|    566.3|        0.09779|         0.08129|       0.06664|            0.04781|       0.1885|               0.05766|   0.2699|    0.7886|       2.058|  23.56|     0.008462|        0.0146|     0.02387|          0.01315|     0.0198|              0.0023|       15.11|        19.26|           99.7|     711.2|           0.144|           0.1773|          0.239|              0.1288|        0.2977|                0.07259|cancer_data|       Benigno|\n",
      "|        B|      13.08|       15.71|         85.63|      520|         0.1075|           0.127|       0.04568|             0.0311|       0.1967|               0.06811|   0.1852|    0.7477|       1.383|  14.67|     0.004097|       0.01898|     0.01698|          0.00649|    0.01678|            0.002425|        14.5|        20.49|          96.09|     630.5|          0.1312|           0.2776|          0.189|             0.07283|        0.3184|                0.08183|cancer_data|       Benigno|\n",
      "|        B|      9.504|       12.44|         60.34|    273.9|         0.1024|         0.06492|       0.02956|            0.02076|       0.1815|               0.06905|   0.2773|    0.9768|       1.909|   15.7|     0.009606|       0.01432|     0.01985|          0.01421|    0.02027|            0.002968|       10.23|        15.66|          65.13|     314.9|          0.1324|           0.1148|        0.08867|             0.06227|         0.245|                0.07773|cancer_data|       Benigno|\n",
      "+---------+-----------+------------+--------------+---------+---------------+----------------+--------------+-------------------+-------------+----------------------+---------+----------+------------+-------+-------------+--------------+------------+-----------------+-----------+--------------------+------------+-------------+---------------+----------+----------------+-----------------+---------------+--------------------+--------------+-----------------------+-----------+--------------+\n",
      "only showing top 3 rows\n",
      "\n"
     ]
    }
   ],
   "source": [
    "# filtrando linhas de um df com base em uma condição\n",
    "df_benigno = df_spark2_diagnosis.filter(col('diagnosis_desc')== 'Benigno')\n",
    "df_benigno.show(3)"
   ]
  },
  {
   "cell_type": "code",
   "execution_count": 16,
   "metadata": {},
   "outputs": [
    {
     "name": "stdout",
     "output_type": "stream",
     "text": [
      "+---------+-----------+------------+--------------+---------+---------------+----------------+--------------+-------------------+-------------+----------------------+---------+----------+------------+-------+-------------+--------------+------------+-----------------+-----------+--------------------+------------+-------------+---------------+----------+----------------+-----------------+---------------+--------------------+--------------+-----------------------+-----------+--------------+\n",
      "|diagnosis|radius_mean|texture_mean|perimeter_mean|area_mean|smoothness_mean|compactness_mean|concavity_mean|concave points_mean|symmetry_mean|fractal_dimension_mean|radius_se|texture_se|perimeter_se|area_se|smoothness_se|compactness_se|concavity_se|concave points_se|symmetry_se|fractal_dimension_se|radius_worst|texture_worst|perimeter_worst|area_worst|smoothness_worst|compactness_worst|concavity_worst|concave points_worst|symmetry_worst|fractal_dimension_worst|       base|diagnosis_desc|\n",
      "+---------+-----------+------------+--------------+---------+---------------+----------------+--------------+-------------------+-------------+----------------------+---------+----------+------------+-------+-------------+--------------+------------+-----------------+-----------+--------------------+------------+-------------+---------------+----------+----------------+-----------------+---------------+--------------------+--------------+-----------------------+-----------+--------------+\n",
      "|        B|      13.54|       14.36|         87.46|    566.3|        0.09779|         0.08129|       0.06664|            0.04781|       0.1885|               0.05766|   0.2699|    0.7886|       2.058|  23.56|     0.008462|        0.0146|     0.02387|          0.01315|     0.0198|              0.0023|       15.11|        19.26|           99.7|     711.2|           0.144|           0.1773|          0.239|              0.1288|        0.2977|                0.07259|cancer_data|       Benigno|\n",
      "|        B|      13.08|       15.71|         85.63|      520|         0.1075|           0.127|       0.04568|             0.0311|       0.1967|               0.06811|   0.1852|    0.7477|       1.383|  14.67|     0.004097|       0.01898|     0.01698|          0.00649|    0.01678|            0.002425|        14.5|        20.49|          96.09|     630.5|          0.1312|           0.2776|          0.189|             0.07283|        0.3184|                0.08183|cancer_data|       Benigno|\n",
      "+---------+-----------+------------+--------------+---------+---------------+----------------+--------------+-------------------+-------------+----------------------+---------+----------+------------+-------+-------------+--------------+------------+-----------------+-----------+--------------------+------------+-------------+---------------+----------+----------------+-----------------+---------------+--------------------+--------------+-----------------------+-----------+--------------+\n",
      "only showing top 2 rows\n",
      "\n"
     ]
    }
   ],
   "source": [
    "# outros tipos de filtro\n",
    "df_benigno2 = df_spark2_diagnosis.filter(\"diagnosis_desc == 'Benigno'\")\n",
    "df_benigno2.show(2)"
   ]
  },
  {
   "cell_type": "code",
   "execution_count": 17,
   "metadata": {},
   "outputs": [
    {
     "name": "stdout",
     "output_type": "stream",
     "text": [
      "+---------+-----------+------------+--------------+---------+---------------+----------------+--------------+-------------------+-------------+----------------------+---------+----------+------------+-------+-------------+--------------+------------+-----------------+-----------+--------------------+------------+-------------+---------------+----------+----------------+-----------------+---------------+--------------------+--------------+-----------------------+-----------+--------------+\n",
      "|diagnosis|radius_mean|texture_mean|perimeter_mean|area_mean|smoothness_mean|compactness_mean|concavity_mean|concave points_mean|symmetry_mean|fractal_dimension_mean|radius_se|texture_se|perimeter_se|area_se|smoothness_se|compactness_se|concavity_se|concave points_se|symmetry_se|fractal_dimension_se|radius_worst|texture_worst|perimeter_worst|area_worst|smoothness_worst|compactness_worst|concavity_worst|concave points_worst|symmetry_worst|fractal_dimension_worst|       base|diagnosis_desc|\n",
      "+---------+-----------+------------+--------------+---------+---------------+----------------+--------------+-------------------+-------------+----------------------+---------+----------+------------+-------+-------------+--------------+------------+-----------------+-----------+--------------------+------------+-------------+---------------+----------+----------------+-----------------+---------------+--------------------+--------------+-----------------------+-----------+--------------+\n",
      "|        B|      9.504|       12.44|         60.34|    273.9|         0.1024|         0.06492|       0.02956|            0.02076|       0.1815|               0.06905|   0.2773|    0.9768|       1.909|   15.7|     0.009606|       0.01432|     0.01985|          0.01421|    0.02027|            0.002968|       10.23|        15.66|          65.13|     314.9|          0.1324|           0.1148|        0.08867|             0.06227|         0.245|                0.07773|cancer_data|       Benigno|\n",
      "|        B|      8.196|       16.84|         51.71|    201.9|          0.086|         0.05943|       0.01588|           0.005917|       0.1769|               0.06503|   0.1563|    0.9567|       1.094|  8.205|     0.008968|       0.01646|     0.01588|         0.005917|    0.02574|            0.002582|       8.964|        21.96|          57.26|     242.2|          0.1297|           0.1357|         0.0688|             0.02564|        0.3105|                0.07409|cancer_data|       Benigno|\n",
      "|        B|      8.618|       11.79|         54.34|    224.5|        0.09752|         0.05272|       0.02061|           0.007799|       0.1683|               0.07187|   0.1559|    0.5796|       1.046|  8.322|      0.01011|       0.01055|     0.01981|         0.005742|     0.0209|            0.002788|       9.507|         15.4|           59.9|     274.9|          0.1733|           0.1239|         0.1168|             0.04419|         0.322|                0.09026|cancer_data|       Benigno|\n",
      "+---------+-----------+------------+--------------+---------+---------------+----------------+--------------+-------------------+-------------+----------------------+---------+----------+------------+-------+-------------+--------------+------------+-----------------+-----------+--------------------+------------+-------------+---------------+----------+----------------+-----------------+---------------+--------------------+--------------+-----------------------+-----------+--------------+\n",
      "only showing top 3 rows\n",
      "\n"
     ]
    }
   ],
   "source": [
    "# outros tipos de filtro \n",
    "df_benigno3 = df_spark2_diagnosis.filter((col('diagnosis_desc')== 'Benigno') & (col('radius_mean') <= 10))\n",
    "df_benigno3.show(3)"
   ]
  },
  {
   "cell_type": "code",
   "execution_count": 18,
   "metadata": {},
   "outputs": [
    {
     "name": "stderr",
     "output_type": "stream",
     "text": [
      "                                                                                \r"
     ]
    },
    {
     "name": "stdout",
     "output_type": "stream",
     "text": [
      "base full: 569\n"
     ]
    },
    {
     "name": "stderr",
     "output_type": "stream",
     "text": [
      "                                                                                \r"
     ]
    },
    {
     "name": "stdout",
     "output_type": "stream",
     "text": [
      "base benigno: 357\n"
     ]
    },
    {
     "name": "stderr",
     "output_type": "stream",
     "text": [
      "[Stage 20:=============================>                            (4 + 4) / 8]\r"
     ]
    },
    {
     "name": "stdout",
     "output_type": "stream",
     "text": [
      "base benigno2: 84\n"
     ]
    },
    {
     "name": "stderr",
     "output_type": "stream",
     "text": [
      "                                                                                \r"
     ]
    }
   ],
   "source": [
    "# contando o número de linhas de um dataframe\n",
    "print(f\"base full: {df_spark2_mod.count()}\")\n",
    "print(f\"base benigno: {df_benigno2.count()}\")\n",
    "print(f\"base benigno2: {df_benigno3.count()}\")"
   ]
  },
  {
   "cell_type": "markdown",
   "metadata": {},
   "source": [
    "## Operações transformação e ação\n",
    "No contexto do PySpark, as operações podem ser classificadas em operações ativas (ações) e operações passivas (transformações). \n",
    "* Passivas: não são executadas imediatamente, só são executadas até que uma ação seja acionada.\n",
    "   \n",
    "   select(),\n",
    "   \n",
    "   filter(), \n",
    "   \n",
    "   withColumn(), \n",
    "   \n",
    "   groupBy(), \n",
    "   \n",
    "   join(), \n",
    "   \n",
    "   sort()\n",
    "\n",
    "* Ativas: desencadeiam a execução das transformações em um DataFrame. As ações são executadas quando são chamadas e acionam todo o processo de execução das transformações.\n",
    "  \n",
    "  show(), \n",
    "  \n",
    "  count(), \n",
    "  \n",
    "  collect(), \n",
    "  \n",
    "  write(),\n",
    "  \n",
    "  save() \n",
    "\n"
   ]
  },
  {
   "cell_type": "markdown",
   "metadata": {},
   "source": [
    "# Parquet\n",
    "O Parquet é um formato de arquivo colunar otimizado para processamento de big data. Projetado para oferecer uma compressão eficiente e um acesso rápido aos dados (utilizando metadados para pular blocos de dados). \n"
   ]
  },
  {
   "cell_type": "markdown",
   "metadata": {},
   "source": [
    "- A operação **write.parquet** é usada para escrever um DataFrame em formato Parquet em um local específico. O parâmetro mode permite especificar o modo de gravação (append ou overwrite).\n",
    "- A operação **read.parquet** é usada para ler um arquivo ou diretório no formato Parquet\n"
   ]
  },
  {
   "cell_type": "code",
   "execution_count": 19,
   "metadata": {},
   "outputs": [
    {
     "name": "stderr",
     "output_type": "stream",
     "text": [
      "23/11/05 10:53:32 WARN MemoryManager: Total allocation exceeds 95,00% (1.020.054.720 bytes) of heap memory\n",
      "Scaling row group sizes to 95,00% for 8 writers\n",
      "                                                                                \r"
     ]
    }
   ],
   "source": [
    "# write\n",
    "df_spark2_mod.write.parquet('cancer_parquet.parquet', mode='overwrite')"
   ]
  },
  {
   "cell_type": "code",
   "execution_count": 21,
   "metadata": {},
   "outputs": [
    {
     "data": {
      "text/plain": [
       "DataFrame[diagnosis: string, radius_mean: string, texture_mean: string, perimeter_mean: string, area_mean: string, smoothness_mean: string, compactness_mean: string, concavity_mean: string, concave points_mean: string, symmetry_mean: string, fractal_dimension_mean: string, radius_se: string, texture_se: string, perimeter_se: string, area_se: string, smoothness_se: string, compactness_se: string, concavity_se: string, concave points_se: string, symmetry_se: string, fractal_dimension_se: string, radius_worst: string, texture_worst: string, perimeter_worst: string, area_worst: string, smoothness_worst: string, compactness_worst: string, concavity_worst: string, concave points_worst: string, symmetry_worst: string, fractal_dimension_worst: string, base: string]"
      ]
     },
     "execution_count": 21,
     "metadata": {},
     "output_type": "execute_result"
    }
   ],
   "source": [
    "df = spark.read.parquet('cancer_parquet.parquet')\n",
    "df"
   ]
  },
  {
   "cell_type": "markdown",
   "metadata": {},
   "source": [
    "### Agrupamento\n",
    "Assim como no pandas, a função groupBy é usada para agrupar os dados em um DataFrame com base em uma ou mais colunas."
   ]
  },
  {
   "cell_type": "code",
   "execution_count": 22,
   "metadata": {},
   "outputs": [
    {
     "name": "stderr",
     "output_type": "stream",
     "text": [
      "[Stage 26:====================================>                     (5 + 3) / 8]\r"
     ]
    },
    {
     "name": "stdout",
     "output_type": "stream",
     "text": [
      "+---------+-----+\n",
      "|diagnosis|count|\n",
      "+---------+-----+\n",
      "|        B|  357|\n",
      "|        M|  212|\n",
      "+---------+-----+\n",
      "\n"
     ]
    },
    {
     "name": "stderr",
     "output_type": "stream",
     "text": [
      "                                                                                \r"
     ]
    }
   ],
   "source": [
    "df_agg = (df_spark2_mod\n",
    "        .groupBy('diagnosis')\n",
    "        .count())\n",
    "\n",
    "df_agg.show()"
   ]
  },
  {
   "cell_type": "markdown",
   "metadata": {},
   "source": [
    "A função **agg** é usada para realizar operações de agregação. Ela permite que você especifique operações de agregação, como soma, média, contagem, mínimo, máximo, entre outras. Além de poder executar suas próprias funções personalizadas.\n",
    "alias() permite a personalização do nome da coluna. \n",
    "\n",
    "**não confundir F.min, F.max com as funções nativas do Python min, max**\n"
   ]
  },
  {
   "cell_type": "code",
   "execution_count": 24,
   "metadata": {},
   "outputs": [
    {
     "name": "stderr",
     "output_type": "stream",
     "text": [
      "[Stage 29:==============>                                           (2 + 6) / 8]\r"
     ]
    },
    {
     "name": "stdout",
     "output_type": "stream",
     "text": [
      "+---------+---+---------------+------------------+---------------+\n",
      "|diagnosis|  n|min_radius_mean|   avg_radius_mean|max_radius_mean|\n",
      "+---------+---+---------------+------------------+---------------+\n",
      "|        B|357|          10.03|12.146523809523808|          9.904|\n",
      "|        M|212|          10.95| 17.46283018867925|          28.11|\n",
      "+---------+---+---------------+------------------+---------------+\n",
      "\n"
     ]
    },
    {
     "name": "stderr",
     "output_type": "stream",
     "text": [
      "                                                                                \r"
     ]
    }
   ],
   "source": [
    "df_spark_agg = (df_spark2_mod\n",
    "                .groupBy('diagnosis')\n",
    "                .agg(f.count('radius_mean').alias('n'),\n",
    "                    f.min('radius_mean').alias('min_radius_mean'),\n",
    "                    f.mean('radius_mean').alias('avg_radius_mean'),\n",
    "                    f.max('radius_mean').alias('max_radius_mean')))\n",
    "df_spark_agg.show()"
   ]
  },
  {
   "cell_type": "markdown",
   "metadata": {},
   "source": [
    "A função pivot é usada para transformar os valores exclusivos de uma coluna em colunas individuais. A operação pivot requer uma coluna para os valores, uma coluna para as colunas de pivô e uma função de agregação opcional para combinar os valores se houver duplicatas."
   ]
  },
  {
   "cell_type": "code",
   "execution_count": 25,
   "metadata": {},
   "outputs": [
    {
     "name": "stderr",
     "output_type": "stream",
     "text": [
      "[Stage 40:==================================================>       (7 + 1) / 8]\r"
     ]
    },
    {
     "name": "stdout",
     "output_type": "stream",
     "text": [
      "+------+----+---+\n",
      "|bigger|   B|  M|\n",
      "+------+----+---+\n",
      "|  true|NULL| 92|\n",
      "| false| 357|120|\n",
      "+------+----+---+\n",
      "\n"
     ]
    },
    {
     "name": "stderr",
     "output_type": "stream",
     "text": [
      "                                                                                \r"
     ]
    }
   ],
   "source": [
    "df_spark2_pivot = (df_spark2_mod\n",
    "                .withColumn('bigger', col('area_mean')>1000)\n",
    "                .groupBy('bigger')\n",
    "                .pivot('diagnosis')\n",
    "                .count())\n",
    "\n",
    "df_spark2_pivot.show()"
   ]
  },
  {
   "cell_type": "markdown",
   "metadata": {},
   "source": [
    "### Ordenamento\n",
    "orderBy é usada para ordenar os dados em um DataFrame com base em uma ou mais colunas."
   ]
  },
  {
   "cell_type": "code",
   "execution_count": 26,
   "metadata": {},
   "outputs": [
    {
     "name": "stderr",
     "output_type": "stream",
     "text": [
      "[Stage 46:====================================>                     (5 + 3) / 8]\r"
     ]
    },
    {
     "name": "stdout",
     "output_type": "stream",
     "text": [
      "+---------+-----------+------------+--------------+---------+---------------+----------------+--------------+-------------------+-------------+----------------------+---------+----------+------------+-------+-------------+--------------+------------+-----------------+-----------+--------------------+------------+-------------+---------------+----------+----------------+-----------------+---------------+--------------------+--------------+-----------------------+-----------+\n",
      "|diagnosis|radius_mean|texture_mean|perimeter_mean|area_mean|smoothness_mean|compactness_mean|concavity_mean|concave points_mean|symmetry_mean|fractal_dimension_mean|radius_se|texture_se|perimeter_se|area_se|smoothness_se|compactness_se|concavity_se|concave points_se|symmetry_se|fractal_dimension_se|radius_worst|texture_worst|perimeter_worst|area_worst|smoothness_worst|compactness_worst|concavity_worst|concave points_worst|symmetry_worst|fractal_dimension_worst|       base|\n",
      "+---------+-----------+------------+--------------+---------+---------------+----------------+--------------+-------------------+-------------+----------------------+---------+----------+------------+-------+-------------+--------------+------------+-----------------+-----------+--------------------+------------+-------------+---------------+----------+----------------+-----------------+---------------+--------------------+--------------+-----------------------+-----------+\n",
      "|        B|      10.03|       21.28|         63.19|    307.3|        0.08117|         0.03912|       0.00247|           0.005159|        0.163|               0.06439|   0.1851|     1.341|       1.184|   11.6|     0.005724|      0.005697|    0.002074|         0.003527|    0.01445|            0.002411|       11.11|        28.94|          69.92|     376.3|          0.1126|          0.07094|        0.01235|             0.02579|        0.2349|                0.08061|cancer_data|\n",
      "|        B|      10.05|       17.53|         64.41|    310.8|         0.1007|         0.07326|       0.02511|            0.01775|        0.189|               0.06331|   0.2619|     2.015|       1.778|  16.85|     0.007803|       0.01449|      0.0169|         0.008043|      0.021|            0.002778|       11.16|        26.84|          71.98|       384|          0.1402|           0.1402|         0.1055|             0.06499|        0.2894|                0.07664|cancer_data|\n",
      "|        B|      10.08|       15.11|         63.76|    317.5|        0.09267|         0.04695|      0.001597|           0.002404|       0.1703|               0.06048|   0.4245|     1.268|        2.68|  26.43|      0.01439|         0.012|    0.001597|         0.002404|    0.02538|             0.00347|       11.87|        21.18|          75.39|       437|          0.1521|           0.1019|        0.00692|             0.01042|        0.2933|                0.07697|cancer_data|\n",
      "|        B|      10.16|       19.59|         64.73|    311.7|         0.1003|         0.07504|      0.005025|            0.01116|       0.1791|               0.06331|   0.2441|      2.09|       1.648|   16.8|      0.01291|       0.02222|    0.004174|         0.007082|    0.02572|            0.002278|       10.65|        22.88|          67.88|     347.3|          0.1265|             0.12|        0.01005|             0.02232|        0.2262|                0.06742|cancer_data|\n",
      "|        B|      10.17|       14.88|         64.55|    311.9|         0.1134|         0.08061|       0.01084|             0.0129|       0.2743|                0.0696|   0.5158|     1.441|       3.312|  34.62|     0.007514|       0.01099|    0.007665|         0.008193|    0.04183|            0.005953|       11.02|        17.45|          69.86|     368.6|          0.1275|          0.09866|        0.02168|             0.02579|        0.3557|                 0.0802|cancer_data|\n",
      "|        B|      10.18|       17.53|         65.12|    313.1|         0.1061|         0.08502|       0.01768|            0.01915|        0.191|               0.06908|   0.2467|     1.217|       1.641|  15.05|     0.007899|         0.014|    0.008534|         0.007624|    0.02637|            0.003761|       11.17|        22.84|          71.94|     375.6|          0.1406|            0.144|        0.06572|             0.05575|        0.3055|                0.08797|cancer_data|\n",
      "|        B|       10.2|       17.48|         65.05|    321.2|        0.08054|         0.05907|       0.05774|            0.01071|       0.1964|               0.06315|   0.3567|     1.922|       2.747|  22.79|      0.00468|        0.0312|     0.05774|          0.01071|     0.0256|            0.004613|       11.48|        24.47|           75.4|     403.7|         0.09527|           0.1397|         0.1925|             0.03571|        0.2868|                0.07809|cancer_data|\n",
      "|        B|      10.25|       16.18|         66.52|    324.2|         0.1061|          0.1111|       0.06726|            0.03965|       0.1743|               0.07279|   0.3677|     1.471|       1.597|  22.68|      0.01049|       0.04265|     0.04004|          0.01544|    0.02719|            0.007596|       11.28|        20.61|          71.53|     390.4|          0.1402|            0.236|         0.1898|             0.09744|        0.2608|                0.09702|cancer_data|\n",
      "|        B|      10.26|       12.22|         65.75|    321.6|        0.09996|         0.07542|       0.01923|            0.01968|         0.18|               0.06569|   0.1911|    0.5477|       1.348|  11.88|     0.005682|       0.01365|    0.008496|         0.006929|    0.01938|            0.002371|       11.38|        15.65|          73.23|     394.5|          0.1343|            0.165|        0.08615|             0.06696|        0.2937|                0.07722|cancer_data|\n",
      "|        B|      10.26|       14.71|          66.2|    321.6|        0.09882|         0.09159|       0.03581|            0.02037|       0.1633|               0.07005|    0.338|     2.509|       2.394|  19.33|      0.01736|       0.04671|     0.02611|          0.01296|    0.03675|            0.006758|       10.88|        19.48|          70.89|     357.1|           0.136|           0.1636|        0.07162|             0.04074|        0.2434|                0.08488|cancer_data|\n",
      "|        B|      10.26|       16.58|         65.85|    320.8|        0.08877|         0.08066|       0.04358|            0.02438|       0.1669|               0.06714|   0.1144|     1.023|      0.9887|  7.326|      0.01027|       0.03084|     0.02613|          0.01097|    0.02277|             0.00589|       10.83|        22.04|          71.08|     357.4|          0.1461|           0.2246|         0.1783|             0.08333|        0.2691|                0.09479|cancer_data|\n",
      "|        B|      10.29|       27.61|         65.67|    321.4|         0.0903|         0.07658|       0.05999|            0.02738|       0.1593|               0.06127|   0.2199|     2.239|       1.437|  14.46|      0.01205|       0.02736|     0.04804|          0.01721|    0.01843|            0.004938|       10.84|        34.91|          69.57|     357.6|          0.1384|            0.171|            0.2|             0.09127|        0.2226|                0.08283|cancer_data|\n",
      "|        B|      10.32|       16.35|         65.31|    324.9|        0.09434|         0.04994|       0.01012|           0.005495|       0.1885|               0.06201|   0.2104|     0.967|       1.356|  12.97|     0.007086|      0.007247|     0.01012|         0.005495|     0.0156|            0.002606|       11.25|        21.77|          71.12|     384.9|          0.1285|          0.08842|        0.04384|             0.02381|        0.2681|                0.07399|cancer_data|\n",
      "|        B|      10.44|       15.46|         66.62|    329.6|         0.1053|         0.07722|      0.006643|            0.01216|       0.1788|                0.0645|   0.1913|    0.9027|       1.208|  11.86|     0.006513|      0.008061|    0.002817|         0.004972|    0.01502|            0.002821|       11.52|         19.8|          73.47|     395.4|          0.1341|           0.1153|        0.02639|             0.04464|        0.2615|                0.08269|cancer_data|\n",
      "|        B|      10.48|       14.98|         67.49|    333.6|        0.09816|          0.1013|       0.06335|            0.02218|       0.1925|               0.06915|   0.3276|     1.127|       2.564|  20.77|     0.007364|       0.03867|     0.05263|          0.01264|    0.02161|             0.00483|       12.13|        21.57|          81.41|     440.4|          0.1327|           0.2996|         0.2939|              0.0931|         0.302|                0.09646|cancer_data|\n",
      "|        B|      10.48|       19.86|         66.72|    337.7|          0.107|         0.05971|       0.04831|             0.0307|       0.1737|                0.0644|   0.3719|     2.612|       2.517|  23.22|      0.01604|       0.01386|     0.01865|          0.01133|    0.03476|             0.00356|       11.48|        29.46|          73.68|     402.8|          0.1515|           0.1026|         0.1181|             0.06736|        0.2883|                0.07748|cancer_data|\n",
      "|        B|      10.49|       18.61|         66.86|    334.3|         0.1068|         0.06678|       0.02297|             0.0178|       0.1482|                 0.066|   0.1485|     1.563|       1.035|  10.08|     0.008875|      0.009362|     0.01808|         0.009199|    0.01791|            0.003317|       11.06|        24.54|          70.76|     375.4|          0.1413|           0.1044|        0.08423|             0.06528|        0.2213|                0.07842|cancer_data|\n",
      "|        B|      10.49|       19.29|         67.41|    336.1|        0.09989|         0.08578|       0.02995|            0.01201|       0.2217|               0.06481|    0.355|     1.534|       2.302|  23.13|     0.007595|       0.02219|      0.0288|         0.008614|     0.0271|            0.003451|       11.54|        23.31|          74.22|     402.8|          0.1219|           0.1486|        0.07987|             0.03203|        0.2826|                0.07552|cancer_data|\n",
      "|        B|      10.51|       23.09|         66.85|    334.2|         0.1015|         0.06797|       0.02495|            0.01875|       0.1695|               0.06556|   0.2868|     1.143|       2.289|  20.56|      0.01017|       0.01443|     0.01861|           0.0125|    0.03464|            0.001971|       10.93|        24.22|           70.1|     362.7|          0.1143|          0.08614|        0.04158|             0.03125|        0.2227|                0.06777|cancer_data|\n",
      "|        B|      10.51|       20.19|         68.64|    334.2|         0.1122|          0.1303|       0.06476|            0.03068|       0.1922|               0.07782|   0.3336|      1.86|       2.041|  19.91|      0.01188|       0.03747|     0.04591|          0.01544|    0.02287|            0.006792|       11.16|        22.75|          72.62|     374.4|            0.13|           0.2049|         0.1295|             0.06136|        0.2383|                0.09026|cancer_data|\n",
      "+---------+-----------+------------+--------------+---------+---------------+----------------+--------------+-------------------+-------------+----------------------+---------+----------+------------+-------+-------------+--------------+------------+-----------------+-----------+--------------------+------------+-------------+---------------+----------+----------------+-----------------+---------------+--------------------+--------------+-----------------------+-----------+\n",
      "only showing top 20 rows\n",
      "\n"
     ]
    },
    {
     "name": "stderr",
     "output_type": "stream",
     "text": [
      "                                                                                \r"
     ]
    }
   ],
   "source": [
    "df_spark_sort = (df_spark2_mod.orderBy('radius_mean'))\n",
    "df_spark_sort.show()"
   ]
  },
  {
   "cell_type": "markdown",
   "metadata": {},
   "source": [
    "Podemos adicionar mais de uma coluna. \n",
    "Para classificar em ordem decrescente, utilizamos a função desc."
   ]
  },
  {
   "cell_type": "code",
   "execution_count": 27,
   "metadata": {},
   "outputs": [
    {
     "name": "stderr",
     "output_type": "stream",
     "text": [
      "[Stage 47:==============>                                           (2 + 6) / 8]\r"
     ]
    },
    {
     "name": "stdout",
     "output_type": "stream",
     "text": [
      "+---------+-----------+------------+--------------+---------+---------------+----------------+--------------+-------------------+-------------+----------------------+---------+----------+------------+-------+-------------+--------------+------------+-----------------+-----------+--------------------+------------+-------------+---------------+----------+----------------+-----------------+---------------+--------------------+--------------+-----------------------+-----------+\n",
      "|diagnosis|radius_mean|texture_mean|perimeter_mean|area_mean|smoothness_mean|compactness_mean|concavity_mean|concave points_mean|symmetry_mean|fractal_dimension_mean|radius_se|texture_se|perimeter_se|area_se|smoothness_se|compactness_se|concavity_se|concave points_se|symmetry_se|fractal_dimension_se|radius_worst|texture_worst|perimeter_worst|area_worst|smoothness_worst|compactness_worst|concavity_worst|concave points_worst|symmetry_worst|fractal_dimension_worst|       base|\n",
      "+---------+-----------+------------+--------------+---------+---------------+----------------+--------------+-------------------+-------------+----------------------+---------+----------+------------+-------+-------------+--------------+------------+-----------------+-----------+--------------------+------------+-------------+---------------+----------+----------------+-----------------+---------------+--------------------+--------------+-----------------------+-----------+\n",
      "|        B|      9.904|       18.06|          64.6|    302.4|        0.09699|          0.1294|        0.1307|            0.03716|       0.1669|               0.08116|   0.4311|     2.261|       3.132|  27.48|      0.01286|       0.08808|      0.1197|           0.0246|     0.0388|             0.01792|       11.26|        24.39|          73.07|     390.2|          0.1301|            0.295|         0.3486|              0.0991|        0.2614|                 0.1162|cancer_data|\n",
      "|        B|      9.876|        19.4|         63.95|    298.3|         0.1005|         0.09697|       0.06154|            0.03029|       0.1945|               0.06322|   0.1803|     1.222|       1.528|  11.77|     0.009058|       0.02196|     0.03029|          0.01112|    0.01609|             0.00357|       10.76|        26.83|          72.22|     361.2|          0.1559|           0.2302|         0.2644|             0.09749|        0.2622|                 0.0849|cancer_data|\n",
      "|        B|      9.876|       17.27|         62.92|    295.4|         0.1089|         0.07232|       0.01756|            0.01952|       0.1934|               0.06285|   0.2137|     1.342|       1.517|  12.33|     0.009719|       0.01249|    0.007975|         0.007527|     0.0221|            0.002472|       10.42|        23.22|          67.08|     331.6|          0.1415|           0.1247|        0.06213|             0.05588|        0.2989|                 0.0738|cancer_data|\n",
      "|        B|      9.847|       15.68|            63|    293.2|        0.09492|         0.08419|        0.0233|            0.02416|       0.1387|               0.06891|   0.2498|     1.216|       1.976|  15.24|     0.008732|       0.02042|     0.01062|         0.006801|    0.01824|            0.003494|       11.24|        22.99|          74.32|     376.5|          0.1419|           0.2243|        0.08434|             0.06528|        0.2502|                0.09209|cancer_data|\n",
      "|        B|      9.787|       19.94|         62.11|    294.5|         0.1024|         0.05301|      0.006829|           0.007937|        0.135|                0.0689|    0.335|     2.043|       2.132|  20.05|      0.01113|       0.01463|    0.005308|          0.00525|    0.01801|            0.005667|       10.92|        26.29|          68.81|     366.1|          0.1316|          0.09473|        0.02049|             0.02381|        0.1934|                0.08988|cancer_data|\n",
      "+---------+-----------+------------+--------------+---------+---------------+----------------+--------------+-------------------+-------------+----------------------+---------+----------+------------+-------+-------------+--------------+------------+-----------------+-----------+--------------------+------------+-------------+---------------+----------+----------------+-----------------+---------------+--------------------+--------------+-----------------------+-----------+\n",
      "only showing top 5 rows\n",
      "\n"
     ]
    },
    {
     "name": "stderr",
     "output_type": "stream",
     "text": [
      "                                                                                \r"
     ]
    }
   ],
   "source": [
    "df_spark_sort2 = (df_spark2_mod.orderBy('diagnosis', f.desc('radius_mean')))\n",
    "df_spark_sort2.show(5)"
   ]
  },
  {
   "cell_type": "markdown",
   "metadata": {},
   "source": [
    "### Join\n",
    "Semelhante ao merge do pandas. O método join do PySpark é usado para combinar dois DataFrames com base em uma ou mais colunas em comum. Ele retorna um novo DataFrame contendo os registros que satisfazem a condição de junção."
   ]
  },
  {
   "cell_type": "code",
   "execution_count": 28,
   "metadata": {},
   "outputs": [
    {
     "name": "stdout",
     "output_type": "stream",
     "text": [
      "+------+---------+\n",
      "|    id|diagnosis|\n",
      "+------+---------+\n",
      "|842302|        M|\n",
      "|842517|        M|\n",
      "+------+---------+\n",
      "only showing top 2 rows\n",
      "\n",
      "+------+-----------+\n",
      "|    id|radius_mean|\n",
      "+------+-----------+\n",
      "|842302|      17.99|\n",
      "|842517|      20.57|\n",
      "+------+-----------+\n",
      "only showing top 2 rows\n",
      "\n"
     ]
    }
   ],
   "source": [
    "df1 = df_spark2.select('id', 'diagnosis')\n",
    "df2 = df_spark2.select('id', 'radius_mean')\n",
    "df1.show(2)\n",
    "df2.show(2)"
   ]
  },
  {
   "cell_type": "code",
   "execution_count": 29,
   "metadata": {},
   "outputs": [
    {
     "name": "stderr",
     "output_type": "stream",
     "text": [
      "                                                                                \r"
     ]
    },
    {
     "name": "stdout",
     "output_type": "stream",
     "text": [
      "569\n"
     ]
    },
    {
     "name": "stderr",
     "output_type": "stream",
     "text": [
      "                                                                                \r"
     ]
    },
    {
     "name": "stdout",
     "output_type": "stream",
     "text": [
      "+------+---------+-----------+\n",
      "|    id|diagnosis|radius_mean|\n",
      "+------+---------+-----------+\n",
      "|852631|        M|      17.14|\n",
      "|859487|        B|      12.78|\n",
      "|857156|        B|      13.49|\n",
      "+------+---------+-----------+\n",
      "only showing top 3 rows\n",
      "\n"
     ]
    }
   ],
   "source": [
    "df_join = df1.join(df2, 'id', 'inner')\n",
    "print(df_join.count())\n",
    "df_join.show(3)"
   ]
  },
  {
   "cell_type": "markdown",
   "metadata": {},
   "source": [
    "### Cache\n",
    "Cache refere-se à técnica de armazenar temporariamente os dados de um DataFrame em memória para acelerar o acesso subsequente aos mesmos. (df.cache())\n",
    "\n",
    "O cache é particularmente útil quando você precisa executar várias ações em um DataFrame.\n",
    "\n",
    "Para liberar os dados em cache, você pode usar o método unpersist().\n"
   ]
  },
  {
   "cell_type": "markdown",
   "metadata": {},
   "source": [
    "### Partições\n",
    "Um DataFrame é dividido em partições para permitir o processamento paralelo de dados em um cluster de computação distribuída. \n",
    "\n",
    "A escolha adequada do número de partições depende do tamanho dos dados, da quantidade de recursos disponíveis no cluster e do tipo de operações que serão realizadas no DataFrame.\n",
    "\n",
    "É possível particionar por colunas e salvar arquivos parquet de forma particionada.\n"
   ]
  },
  {
   "cell_type": "code",
   "execution_count": 31,
   "metadata": {},
   "outputs": [
    {
     "name": "stderr",
     "output_type": "stream",
     "text": [
      "[Stage 64:=====================>                                    (3 + 5) / 8]\r"
     ]
    },
    {
     "data": {
      "text/plain": [
       "10"
      ]
     },
     "execution_count": 31,
     "metadata": {},
     "output_type": "execute_result"
    }
   ],
   "source": [
    "df_part = df_spark2.repartition(10)\n",
    "df_part.rdd.getNumPartitions()"
   ]
  }
 ],
 "metadata": {
  "kernelspec": {
   "display_name": "Python 3",
   "language": "python",
   "name": "python3"
  },
  "language_info": {
   "codemirror_mode": {
    "name": "ipython",
    "version": 3
   },
   "file_extension": ".py",
   "mimetype": "text/x-python",
   "name": "python",
   "nbconvert_exporter": "python",
   "pygments_lexer": "ipython3",
   "version": "3.11.6"
  }
 },
 "nbformat": 4,
 "nbformat_minor": 2
}
