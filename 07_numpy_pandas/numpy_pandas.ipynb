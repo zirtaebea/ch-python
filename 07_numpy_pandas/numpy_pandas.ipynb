{
 "cells": [
  {
   "cell_type": "markdown",
   "metadata": {},
   "source": [
    "## Numpy\n",
    "operações matemáticas e calculos científicos\n",
    "\n",
    "- Arrays: coleção de elementos acessiveis por meio de índices. Coleção ordenada de elementos do *MESMO TIPO*\n",
    "\n",
    "### Criando arrays"
   ]
  },
  {
   "cell_type": "code",
   "execution_count": 1,
   "metadata": {},
   "outputs": [
    {
     "name": "stdout",
     "output_type": "stream",
     "text": [
      "Array from list: [1 2 3 4]\n"
     ]
    }
   ],
   "source": [
    "import numpy as np\n",
    "\n",
    "#criando um array através de uma lista\n",
    "array_from_list = np.array([1, 2, 3, 4])\n",
    "print(f\"Array from list: {array_from_list}\")"
   ]
  },
  {
   "cell_type": "code",
   "execution_count": 2,
   "metadata": {},
   "outputs": [
    {
     "name": "stdout",
     "output_type": "stream",
     "text": [
      "Arrays de zero:\n",
      "[[0. 0. 0.]\n",
      " [0. 0. 0.]\n",
      " [0. 0. 0.]]\n"
     ]
    }
   ],
   "source": [
    "#mais de uma dimensão\n",
    "\n",
    "#array de zeros\n",
    "a_zeros = np.zeros([3, 3])\n",
    "print(\"Arrays de zero:\")\n",
    "print(a_zeros)"
   ]
  },
  {
   "cell_type": "code",
   "execution_count": 4,
   "metadata": {},
   "outputs": [
    {
     "name": "stdout",
     "output_type": "stream",
     "text": [
      "Array from range: [0 2 4 6 8]\n"
     ]
    }
   ],
   "source": [
    "a_range = np.arange(0, 10, 2)\n",
    "print(f\"Array from range: {a_range}\") #um array no range de 0 a 10 (sendo o 10 não inclusivo), pulando de 2 em 2"
   ]
  },
  {
   "cell_type": "code",
   "execution_count": 5,
   "metadata": {},
   "outputs": [
    {
     "name": "stdout",
     "output_type": "stream",
     "text": [
      "[[1. 2.]\n",
      " [3. 4.]]\n"
     ]
    }
   ],
   "source": [
    "matriz = np.array([[1.0, 2], [3, 4]]) # matriz 2x2\n",
    "print(matriz)"
   ]
  },
  {
   "cell_type": "code",
   "execution_count": 7,
   "metadata": {},
   "outputs": [
    {
     "name": "stdout",
     "output_type": "stream",
     "text": [
      "[[[1 2]\n",
      "  [3 4]]\n",
      "\n",
      " [[5 6]\n",
      "  [7 8]]]\n"
     ]
    }
   ],
   "source": [
    "tensor = np.array([[[1,2], [3,4]], [[5,6], [7,8]]]) #um array 2x2 de arrays 2x2\n",
    "print(tensor)"
   ]
  },
  {
   "cell_type": "code",
   "execution_count": 8,
   "metadata": {},
   "outputs": [
    {
     "name": "stdout",
     "output_type": "stream",
     "text": [
      "(2, 2)\n",
      "(2, 2, 2)\n"
     ]
    }
   ],
   "source": [
    "print(matriz.shape)\n",
    "print(tensor.shape)"
   ]
  },
  {
   "cell_type": "markdown",
   "metadata": {},
   "source": [
    "Operações"
   ]
  },
  {
   "cell_type": "code",
   "execution_count": 9,
   "metadata": {},
   "outputs": [
    {
     "name": "stdout",
     "output_type": "stream",
     "text": [
      "[5 7 9]\n"
     ]
    }
   ],
   "source": [
    "a = np.array([1, 2, 3])\n",
    "b = np.array([4, 5, 6])\n",
    "c = a + b\n",
    "\n",
    "print(c)"
   ]
  },
  {
   "cell_type": "code",
   "execution_count": 10,
   "metadata": {},
   "outputs": [
    {
     "name": "stdout",
     "output_type": "stream",
     "text": [
      "[ 4 10 18]\n"
     ]
    }
   ],
   "source": [
    "d = a * b\n",
    "print(d)"
   ]
  },
  {
   "cell_type": "code",
   "execution_count": 11,
   "metadata": {},
   "outputs": [
    {
     "name": "stdout",
     "output_type": "stream",
     "text": [
      "[4.  2.5 2. ]\n"
     ]
    }
   ],
   "source": [
    "e = b/a\n",
    "print(e)"
   ]
  },
  {
   "cell_type": "code",
   "execution_count": 1,
   "metadata": {},
   "outputs": [
    {
     "data": {
      "text/plain": [
       "array([[0.29852795, 0.09489553, 0.66659026],\n",
       "       [0.99704258, 0.71590702, 0.29095991]])"
      ]
     },
     "execution_count": 1,
     "metadata": {},
     "output_type": "execute_result"
    }
   ],
   "source": [
    "import numpy as np\n",
    "np.random.rand(2, 3) #MATRIZ DUAS LINHAS E 3 COLUNAS (o rand só gera valores entre 0 e 1)"
   ]
  },
  {
   "cell_type": "code",
   "execution_count": 2,
   "metadata": {},
   "outputs": [
    {
     "data": {
      "text/plain": [
       "array([[9, 0, 7],\n",
       "       [4, 1, 2]])"
      ]
     },
     "execution_count": 2,
     "metadata": {},
     "output_type": "execute_result"
    }
   ],
   "source": [
    "import numpy as np\n",
    "np.random.randint(0, 10, size = (2, 3)) #uma matriz 2x3 de numeros no range de inteiros entre 0 e 10 (sendo o 10 não inclusivo)"
   ]
  },
  {
   "cell_type": "code",
   "execution_count": 3,
   "metadata": {},
   "outputs": [
    {
     "name": "stdout",
     "output_type": "stream",
     "text": [
      "1\n",
      "3\n",
      "6\n"
     ]
    }
   ],
   "source": [
    "#indexação\n",
    "\n",
    "import numpy as np\n",
    "a = np.array([[1, 2, 3], [4, 5, 6]]) #item possui um índice\n",
    "print(a[0, 0]) # print o item que está na linha e coluna de indice 0\n",
    "print(a[0, 2]) # print o item que na linha está na posição 0 e na coluna 2\n",
    "print(a[-1, -1]) #print o item que está na linha e coluna -1 "
   ]
  },
  {
   "cell_type": "code",
   "execution_count": 7,
   "metadata": {},
   "outputs": [
    {
     "name": "stdout",
     "output_type": "stream",
     "text": [
      "[[1 2 3]\n",
      " [4 5 6]]\n",
      "[[2 3]\n",
      " [5 6]]\n",
      "soma = 21\n",
      "máximo = 6\n",
      "mínimo = 1\n",
      "média = 3.5\n",
      "std = 1.707825127659933\n",
      "var = 2.9166666666666665\n"
     ]
    }
   ],
   "source": [
    "import numpy as np\n",
    "a = np.array([[1, 2, 3], [4, 5, 6]])\n",
    "print(a)\n",
    "print (a[0:2, 1:3]) #indice 0 a 2 sendo o 0 exclusivo; indice de 1 a 3 sendo o 1 exclusivo e o 3 inclusivo\n",
    "\n",
    "#operações\n",
    "print(f\"soma = {a.sum()}\")\n",
    "print(f\"máximo = {a.max()}\")\n",
    "print(f\"mínimo = {a.min()}\")\n",
    "print(f\"média = {a.mean()}\")\n",
    "print(f\"std = {a.std()}\")\n",
    "print(f\"var = {a.var()}\")"
   ]
  },
  {
   "cell_type": "code",
   "execution_count": 10,
   "metadata": {},
   "outputs": [
    {
     "name": "stdout",
     "output_type": "stream",
     "text": [
      "Livros - Média: 4.0, Mediana: 4.0, Desvio padrão: 1.0\n",
      "Roupas - Média: 2.75, Mediana: 3.0, Desvio padrão: 0.9682458365518543\n",
      "Eletrônicos - Média: 3.875, Mediana: 4.0, Desvio padrão: 1.0532687216470449\n"
     ]
    }
   ],
   "source": [
    "#suponha que uma loja venda três tipos de produtos: livros, roupas e eletrônicos. você coleta avaliações para cada tipo de produto em uma escala de 1 a 5 estrelas\n",
    "\n",
    "#importando biblioteca numpy\n",
    "import numpy as np\n",
    "\n",
    "#dados de avaliação\n",
    "#cada lista contém avaliações de uma escala de 1 a 5 para cada tipo de produto\n",
    "books = np.array([5, 4, 4, 3, 5, 2, 4, 5])\n",
    "clothes = np.array([2, 3, 1, 4, 3, 3, 4, 2])\n",
    "electronics = np.array([3, 5, 4, 4, 5, 2, 3, 5])\n",
    "\n",
    "# calculo de estatisticas \n",
    "\n",
    "#livros\n",
    "media_books = np.mean(books)\n",
    "mediana_books = np.median(books)\n",
    "desvio_books = np.std(books)\n",
    "\n",
    "#roupas\n",
    "media_clothes = np.mean(clothes)\n",
    "mediana_clothes = np.median(clothes)\n",
    "desvio_clothes = np.std(clothes)\n",
    "\n",
    "#eletronicos\n",
    "media_eletro = np.mean(electronics)\n",
    "mediana_eletro = np.median(electronics)\n",
    "desvio_eletro = np.std(electronics)\n",
    "\n",
    "#exibindo resultados\n",
    "print(f\"Livros - Média: {media_books}, Mediana: {mediana_books}, Desvio padrão: {desvio_books}\")\n",
    "print(f\"Roupas - Média: {media_clothes}, Mediana: {mediana_clothes}, Desvio padrão: {desvio_clothes}\")\n",
    "print(f\"Eletrônicos - Média: {media_eletro}, Mediana: {mediana_eletro}, Desvio padrão: {desvio_eletro}\")"
   ]
  },
  {
   "cell_type": "markdown",
   "metadata": {},
   "source": [
    "# Pandas\n",
    "## Pandas possui duas estruturas de dados principais:\n",
    "- Series: Array unidimensional com rótulos\n",
    "- DataFrame: Estrutura tabular 2D (como uma planilha) que pode conter diferentes tipos de dados"
   ]
  },
  {
   "cell_type": "code",
   "execution_count": 1,
   "metadata": {},
   "outputs": [
    {
     "name": "stdout",
     "output_type": "stream",
     "text": [
      "0    1\n",
      "1    2\n",
      "2    3\n",
      "3    4\n",
      "dtype: int64\n"
     ]
    }
   ],
   "source": [
    "import pandas as pd\n",
    "\n",
    "#criando uma series\n",
    "s = pd.Series([1, 2, 3, 4])\n",
    "print(s) #na tela aparece duas colunas sendo a primeira indicando o índice e a segunda indicando o número "
   ]
  },
  {
   "cell_type": "code",
   "execution_count": 2,
   "metadata": {},
   "outputs": [
    {
     "name": "stdout",
     "output_type": "stream",
     "text": [
      "     Nome  Idade          Cidade\n",
      "0   Alice     25  Rio de Janeiro\n",
      "1     Bob     30     Nova Iorque\n",
      "2  Carlos     20        Salvador\n"
     ]
    }
   ],
   "source": [
    "import pandas as pd\n",
    "df = pd.DataFrame({\n",
    "    'Nome': ['Alice', 'Bob', 'Carlos'],\n",
    "    'Idade': [25, 30, 20],\n",
    "    'Cidade': ['Rio de Janeiro', 'Nova Iorque', 'Salvador'] \n",
    "})\n",
    "\n",
    "print(df) #o resultado é similar de uma planilha"
   ]
  },
  {
   "cell_type": "markdown",
   "metadata": {},
   "source": [
    "Também é possivel exportar um dataframe com o:\n",
    "pd.read_csv('planilha.csv') -> pode ler outros tipos de arquivo \n",
    "genericamente: \n",
    "\n",
    "pd.read_tipo('arquivo.tipo')\n",
    "\n",
    "TEM QUE ESTÁ NO MESMO DIRETÓRIO, se não será necessario especificar o caminho\n",
    "\n",
    "para mostrar apenas as 5 primeiras linhas do DataFrame, utilizamos:\n",
    "arquivo.head() -> o valor pode ser modificado se inserirmos um número dentro dos parênteses. o número 5 é default\n",
    "\n",
    "metodo info mostra:\n",
    "- quantidade de colunas\n",
    "- numero total de elementos\n",
    "- índices dos elementos\n",
    "- nome das colunas\n",
    "- quantidade de valores não nulos por linha\n",
    "- tipo do item (int, objeto/string etc etc)\n",
    "\n",
    "arquivo.info()"
   ]
  },
  {
   "cell_type": "code",
   "execution_count": 3,
   "metadata": {},
   "outputs": [
    {
     "name": "stdout",
     "output_type": "stream",
     "text": [
      "0     Alice\n",
      "1       Bob\n",
      "2    Carlos\n",
      "Name: Nome, dtype: object\n",
      "Nome               Alice\n",
      "Idade                 25\n",
      "Cidade    Rio de Janeiro\n",
      "Name: 0, dtype: object\n"
     ]
    }
   ],
   "source": [
    "import pandas as pd\n",
    "df = pd.DataFrame({\n",
    "    'Nome': ['Alice', 'Bob', 'Carlos'],\n",
    "    'Idade': [25, 30, 20],\n",
    "    'Cidade': ['Rio de Janeiro', 'Nova Iorque', 'Salvador'] \n",
    "})\n",
    "\n",
    "nome_col = df['Nome']\n",
    "nome_lin = df.loc[0] #primeira linha\n",
    "\n",
    "print(nome_col) #nome da coluna e o tipo de dado\n",
    "print(nome_lin) #traz as informações da linha especificada"
   ]
  },
  {
   "cell_type": "code",
   "execution_count": 4,
   "metadata": {},
   "outputs": [
    {
     "data": {
      "text/html": [
       "<div>\n",
       "<style scoped>\n",
       "    .dataframe tbody tr th:only-of-type {\n",
       "        vertical-align: middle;\n",
       "    }\n",
       "\n",
       "    .dataframe tbody tr th {\n",
       "        vertical-align: top;\n",
       "    }\n",
       "\n",
       "    .dataframe thead th {\n",
       "        text-align: right;\n",
       "    }\n",
       "</style>\n",
       "<table border=\"1\" class=\"dataframe\">\n",
       "  <thead>\n",
       "    <tr style=\"text-align: right;\">\n",
       "      <th></th>\n",
       "      <th>0</th>\n",
       "      <th>1</th>\n",
       "      <th>2</th>\n",
       "    </tr>\n",
       "  </thead>\n",
       "  <tbody>\n",
       "    <tr>\n",
       "      <th>0</th>\n",
       "      <td>1</td>\n",
       "      <td>2</td>\n",
       "      <td>3</td>\n",
       "    </tr>\n",
       "    <tr>\n",
       "      <th>1</th>\n",
       "      <td>4</td>\n",
       "      <td>5</td>\n",
       "      <td>6</td>\n",
       "    </tr>\n",
       "  </tbody>\n",
       "</table>\n",
       "</div>"
      ],
      "text/plain": [
       "   0  1  2\n",
       "0  1  2  3\n",
       "1  4  5  6"
      ]
     },
     "execution_count": 4,
     "metadata": {},
     "output_type": "execute_result"
    }
   ],
   "source": [
    "#criando dataframe a partir de um array\n",
    "\n",
    "#importando bibliotecas\n",
    "import pandas as pd\n",
    "import numpy as np\n",
    "\n",
    "#criando array/matriz\n",
    "mat = np.array([[1, 2, 3], [4, 5, 6]])\n",
    "\n",
    "#transformando matriz em um dataframe\n",
    "\n",
    "df = pd.DataFrame(mat)\n",
    "df\n"
   ]
  },
  {
   "cell_type": "code",
   "execution_count": 5,
   "metadata": {},
   "outputs": [
    {
     "data": {
      "text/html": [
       "<div>\n",
       "<style scoped>\n",
       "    .dataframe tbody tr th:only-of-type {\n",
       "        vertical-align: middle;\n",
       "    }\n",
       "\n",
       "    .dataframe tbody tr th {\n",
       "        vertical-align: top;\n",
       "    }\n",
       "\n",
       "    .dataframe thead th {\n",
       "        text-align: right;\n",
       "    }\n",
       "</style>\n",
       "<table border=\"1\" class=\"dataframe\">\n",
       "  <thead>\n",
       "    <tr style=\"text-align: right;\">\n",
       "      <th></th>\n",
       "      <th>col1</th>\n",
       "      <th>col2</th>\n",
       "      <th>col3</th>\n",
       "    </tr>\n",
       "  </thead>\n",
       "  <tbody>\n",
       "    <tr>\n",
       "      <th>0</th>\n",
       "      <td>1</td>\n",
       "      <td>2</td>\n",
       "      <td>3</td>\n",
       "    </tr>\n",
       "    <tr>\n",
       "      <th>1</th>\n",
       "      <td>4</td>\n",
       "      <td>5</td>\n",
       "      <td>6</td>\n",
       "    </tr>\n",
       "  </tbody>\n",
       "</table>\n",
       "</div>"
      ],
      "text/plain": [
       "   col1  col2  col3\n",
       "0     1     2     3\n",
       "1     4     5     6"
      ]
     },
     "execution_count": 5,
     "metadata": {},
     "output_type": "execute_result"
    }
   ],
   "source": [
    "#criando dataframe a partir de um array\n",
    "\n",
    "#importando bibliotecas\n",
    "import pandas as pd\n",
    "import numpy as np\n",
    "\n",
    "#criando array/matriz\n",
    "mat = np.array([[1, 2, 3], [4, 5, 6]])\n",
    "\n",
    "#transformando matriz em um dataframe E NOMEANDO AS COLUNAS\n",
    "\n",
    "df = pd.DataFrame(mat, columns=['col1', 'col2', 'col3'])\n",
    "df\n"
   ]
  },
  {
   "cell_type": "code",
   "execution_count": 8,
   "metadata": {},
   "outputs": [
    {
     "data": {
      "text/html": [
       "<div>\n",
       "<style scoped>\n",
       "    .dataframe tbody tr th:only-of-type {\n",
       "        vertical-align: middle;\n",
       "    }\n",
       "\n",
       "    .dataframe tbody tr th {\n",
       "        vertical-align: top;\n",
       "    }\n",
       "\n",
       "    .dataframe thead th {\n",
       "        text-align: right;\n",
       "    }\n",
       "</style>\n",
       "<table border=\"1\" class=\"dataframe\">\n",
       "  <thead>\n",
       "    <tr style=\"text-align: right;\">\n",
       "      <th></th>\n",
       "      <th>Nome</th>\n",
       "      <th>Idade</th>\n",
       "      <th>Cidade</th>\n",
       "    </tr>\n",
       "  </thead>\n",
       "  <tbody>\n",
       "    <tr>\n",
       "      <th>0</th>\n",
       "      <td>Alice</td>\n",
       "      <td>25</td>\n",
       "      <td>Rio de Janeiro</td>\n",
       "    </tr>\n",
       "    <tr>\n",
       "      <th>1</th>\n",
       "      <td>Bob</td>\n",
       "      <td>30</td>\n",
       "      <td>Nova Iorque</td>\n",
       "    </tr>\n",
       "    <tr>\n",
       "      <th>2</th>\n",
       "      <td>Carlos</td>\n",
       "      <td>20</td>\n",
       "      <td>Salvador</td>\n",
       "    </tr>\n",
       "  </tbody>\n",
       "</table>\n",
       "</div>"
      ],
      "text/plain": [
       "     Nome  Idade          Cidade\n",
       "0   Alice     25  Rio de Janeiro\n",
       "1     Bob     30     Nova Iorque\n",
       "2  Carlos     20        Salvador"
      ]
     },
     "execution_count": 8,
     "metadata": {},
     "output_type": "execute_result"
    }
   ],
   "source": [
    "#ADICIONAR NOVAS COLUNAS e depois removendo\n",
    "\n",
    "import pandas as pd\n",
    "df = pd.DataFrame({\n",
    "    'Nome': ['Alice', 'Bob', 'Carlos'],\n",
    "    'Idade': [25, 30, 20],\n",
    "    'Cidade': ['Rio de Janeiro', 'Nova Iorque', 'Salvador'] \n",
    "})\n",
    "\n",
    "df['Salário'] = [5000, 6000, 7000]\n",
    "df.head()\n",
    "\n",
    "df.drop('Salário', axis=1, inplace=True) #axis=1 indica que estamos removendo 1 coluna e o inplace=True aplica a alteração diretamente no dataframe original\n",
    "df.head()"
   ]
  },
  {
   "cell_type": "code",
   "execution_count": 9,
   "metadata": {},
   "outputs": [
    {
     "name": "stdout",
     "output_type": "stream",
     "text": [
      "  Nome  Idade       Cidade\n",
      "1  Bob     30  Nova Iorque\n"
     ]
    }
   ],
   "source": [
    "#Filtragem de dados\n",
    "import pandas as pd\n",
    "df = pd.DataFrame({\n",
    "    'Nome': ['Alice', 'Bob', 'Carlos'],\n",
    "    'Idade': [25, 30, 20],\n",
    "    'Cidade': ['Rio de Janeiro', 'Nova Iorque', 'Salvador'] \n",
    "})\n",
    "\n",
    "filtro = df['Idade'] > 25\n",
    "df_filtrado = df[filtro]\n",
    "print(df_filtrado)"
   ]
  }
 ],
 "metadata": {
  "kernelspec": {
   "display_name": "Python 3",
   "language": "python",
   "name": "python3"
  },
  "language_info": {
   "codemirror_mode": {
    "name": "ipython",
    "version": 3
   },
   "file_extension": ".py",
   "mimetype": "text/x-python",
   "name": "python",
   "nbconvert_exporter": "python",
   "pygments_lexer": "ipython3",
   "version": "3.11.6"
  },
  "orig_nbformat": 4
 },
 "nbformat": 4,
 "nbformat_minor": 2
}
