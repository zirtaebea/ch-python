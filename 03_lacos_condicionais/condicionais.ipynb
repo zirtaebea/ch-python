{
 "cells": [
  {
   "cell_type": "code",
   "execution_count": 1,
   "metadata": {},
   "outputs": [
    {
     "name": "stdout",
     "output_type": "stream",
     "text": [
      "x é 5\n"
     ]
    }
   ],
   "source": [
    "x = 5\n",
    "if x == 5:\n",
    "    print(\"x é 5\")"
   ]
  },
  {
   "cell_type": "code",
   "execution_count": 9,
   "metadata": {},
   "outputs": [
    {
     "name": "stdout",
     "output_type": "stream",
     "text": [
      "Você mais de duas restrições\n"
     ]
    }
   ],
   "source": [
    "idade = int(input(\"Digite sua idade: \")) \n",
    "altura = float(input(\"Digite sua altura em metros (ex: 1.57): \"))\n",
    "dia = input(\"Digite o dia da semana: \")\n",
    "\n",
    "if (idade >= 12) and (altura >= 1.5) and (dia.lower() == 'sabado' or dia.lower() == 'domingo'):\n",
    "    print(\"montanha russa liberada\")\n",
    "elif(idade < 12) and (altura >= 1.5) and (dia.lower() == 'sabado' or dia.lower() == 'domingo'): \n",
    "    print(\"Você não tem a idade necessária\")\n",
    "elif (idade >= 12) and (altura < 1.5) and (dia.lower() == 'sabado' or dia.lower() == 'domingo'):\n",
    "    print(\"Você não tem a altura necessária\")\n",
    "elif (idade >= 12) and (altura >= 1.5) and (dia.lower() != 'sabado' or dia.lower() != 'domingo'):\n",
    "    print(\"Você escolheu o dia da semana errado\")\n",
    "else:\n",
    "    print(\"Você mais de duas restrições\")"
   ]
  },
  {
   "cell_type": "code",
   "execution_count": 10,
   "metadata": {},
   "outputs": [
    {
     "name": "stdout",
     "output_type": "stream",
     "text": [
      "1\n"
     ]
    }
   ],
   "source": [
    "x = 5\n",
    "y = 3\n",
    "\n",
    "if x > 2: #x é maior que 2? sim, dai entra na condicional\n",
    "    if y < 3: # y é menor que 3: não, entra no elif\n",
    "        x = 2\n",
    "    elif x == 6: #x é igual a 6? não, entra no else\n",
    "        x == 3\n",
    "    else:  \n",
    "        x = 1 # como as outras condições não são validadas, o x passa a valer 1\n",
    "else:\n",
    "    x = 4 # como a condição do if inicial foi validado, não foi preciso usar o else externo\n",
    "    \n",
    "print(x) #x vai ser igual a 1               "
   ]
  },
  {
   "cell_type": "code",
   "execution_count": 11,
   "metadata": {},
   "outputs": [
    {
     "name": "stdout",
     "output_type": "stream",
     "text": [
      "9\n"
     ]
    }
   ],
   "source": [
    "x = 5\n",
    "y = 3\n",
    "\n",
    "if x > 2*y: # x é maior que 2 x y? não, então entra no else\n",
    "    x = 3\n",
    "else: \n",
    "    x = 2 # x passa a ser 2\n",
    "    x = x*3 # x passa a ser 6\n",
    "\n",
    "if x/2 < y+2: # se 6/2 < 5+2 então (o que é verdadeiro pois 3 < 7)\n",
    "    x = x + y # x = 6 + 3\n",
    "    \n",
    "print(x)    #x = 9"
   ]
  },
  {
   "cell_type": "code",
   "execution_count": 12,
   "metadata": {},
   "outputs": [
    {
     "name": "stdout",
     "output_type": "stream",
     "text": [
      "thats the question\n"
     ]
    }
   ],
   "source": [
    "if x or not x: # se for x ou não x imprima\n",
    "    print(\"thats the question\")"
   ]
  }
 ],
 "metadata": {
  "kernelspec": {
   "display_name": "Python 3",
   "language": "python",
   "name": "python3"
  },
  "language_info": {
   "codemirror_mode": {
    "name": "ipython",
    "version": 3
   },
   "file_extension": ".py",
   "mimetype": "text/x-python",
   "name": "python",
   "nbconvert_exporter": "python",
   "pygments_lexer": "ipython3",
   "version": "3.11.4"
  },
  "orig_nbformat": 4
 },
 "nbformat": 4,
 "nbformat_minor": 2
}
