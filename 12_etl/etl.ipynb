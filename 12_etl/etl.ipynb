{
 "cells": [
  {
   "cell_type": "markdown",
   "metadata": {},
   "source": [
    "# ETL \n",
    "O termo ETL é um acrônimo para as três etapas principais do processo: **Extração, Transformação e Carga (Extract, Transform e Load)**.\n",
    "O processo ETL é um conjunto de atividades que são realizadas para integrar, transformar e carregar dados de diversas fontes em um único destino, geralmente um data warehouse ou um data lake. \n",
    "\n",
    "## Extração\n",
    "Coleta de dados de diversas fontes e formatos:\n",
    "- Sistema de arquivos\n",
    "- Sistema de banco de dados\n",
    "- Fontes externas\n",
    "- Dispositivos IoT\n",
    "\n",
    "## Transformação\n",
    "A etapa de transformação (Transform) [T] tem como objetivo transformar os dados extraídos em um formato que possa ser integrado, consolidado e analisado de forma eficiente.\n",
    "Suas principais etapas são:\n",
    "- **Limpeza de dados:** valores duplicados, eliminação de valores inválidos, correção de erros de digitação, preenchimento de valores ausentes;\n",
    "- **Normalização de dados:** conversão de dados em um formato comum para garantir a consistência dos dados;\n",
    "- **Filtragem de dados:** seleção de dados relevantes para a análise e eliminação de dados irrelevantes;\n",
    "- **Derivação de dados:** criação de novos campos e cálculos a partir de dados existentes;\n",
    "- **Agregação de dados:** criação de sumarizações e resumos a partir de dados detalhados;\n",
    "- **Combinação de dados:** combinação de dados de várias fontes para criar um conjunto de dados completos;\n",
    "- **Enriquecimento de dados:** adição de informações externas para melhorar a qualidade e valor dos dados.\n",
    "\n",
    "## Carga\n",
    "A etapa de carga (Load) [L] é a terceira e última etapa do processo ETL, que consiste em carregar os dados transformados no destino final, geralmente um data warehouse ou data lake. O objetivo desta etapa é tornar os dados disponíveis para consumo.\n",
    "- **Mapeamento de dados:** Mapeamento dos dados transformados para o esquema do destino final, garantindo que os dados sejam armazenados corretamente.\n",
    "- **Validação de dados:** Verificação da integridade e consistência dos dados carregados no destino final, comparando com os dados originais e/ou com as regras de negócios definidas.\n",
    "- **Atualização de metadados:** Atualização dos metadados do destino final para refletir as mudanças nos dados e/ou no esquema.\n",
    "- **Tratamento de erros:** Identificação e tratamento de erros que podem ocorrer durante a carga, como dados inválidos ou conflitos de chave primária.\n"
   ]
  },
  {
   "cell_type": "markdown",
   "metadata": {},
   "source": [
    "# API\n",
    "O uso de APIs é fundamental para a integração de sistemas e serviços na era da computação em nuvem, onde é essencial para a criação de soluções escaláveis e flexíveis.\n",
    "Existem vários tipos de requisições que podem ser feitas com API, sendo as principais:\n",
    "### **GET:** \n",
    "é usada para recuperar informações de um recurso específico na API. \n",
    "Suponha que você quer coletar dados de previsão do tempo para um projeto de Ciência de Dados. Você pode usar um GET para buscar essas informações de uma API de previsão do tempo.\n",
    "- Coleta de dados de APIs públicas ou privadas para análise posterior.\n",
    "- Recuperação do status de um job de treinamento de modelo em um serviço em nuvem.\n",
    "- Consulta de resultados previamente calculados armazenados em um banco de dados.\n",
    "\n",
    "### **POST:** \n",
    "é usada para enviar informações para a API para criar ou atualizar um recurso.\n",
    "Você tem um modelo de classificação de imagens hospedado em um servidor. Você envia uma imagem como um request POST para esse servidor, que retorna a classe da imagem.\n",
    "- Enviar dados para uma API que irá processá-los e retornar o resultado. Útil para aplicar transformações ou algoritmos específicos que estão disponíveis apenas remotamente.\n",
    "- Iniciar um treinamento de modelo de Machine Learning em um cluster remoto.\n",
    "- Fazer uma inferência usando um modelo de Machine Learning hospedado remotamente.\n",
    "\n",
    "### **PUT:** \n",
    "é usada para atualizar um recurso específico na API. \n",
    "Você tem um conjunto de dados armazenado em um armazenamento em nuvem e quer atualizar uma parte dele. Você usaria um PUT para fazer isso.\n",
    "- Atualizar um recurso remoto com novos dados. Por exemplo, você pode querer atualizar um conjunto de dados armazenado remotamente.\n",
    "- Atualizar parâmetros ou configurações de um modelo de Machine Learning em produção.\n",
    "\n",
    "### **DELETE:** \n",
    "é usada para excluir um recurso específico na API. \n",
    "Você treinou várias versões de um modelo de Machine Learning e hospedou-as em um serviço em nuvem. Posteriormente, você quer remover as versões antigas para economizar custos de armazenamento. Você usaria um DELETE para fazer isso.\n",
    "- Excluir recursos remotos que não são mais necessários, como um conjunto de dados armazenado em um armazenamento em nuvem ou um modelo de aprendizado de máquina que foi depreciado."
   ]
  }
 ],
 "metadata": {
  "kernelspec": {
   "display_name": "Python 3",
   "language": "python",
   "name": "python3"
  },
  "language_info": {
   "name": "python",
   "version": "3.11.5"
  },
  "orig_nbformat": 4
 },
 "nbformat": 4,
 "nbformat_minor": 2
}
