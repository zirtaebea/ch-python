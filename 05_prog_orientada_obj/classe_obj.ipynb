{
 "cells": [
  {
   "cell_type": "markdown",
   "metadata": {},
   "source": [
    "Objeto = estado + comportamento\n",
    "objeto = atributo + método\n",
    "\n",
    "atributo: objeto.meu_objeto\n",
    "metodo: objeto.meu_metodo()\n",
    "\n",
    "- as classes são tipos de dados definidos pelo desenvolvedor que atuam como um modelo para objetos\n",
    "- objetos são instâncias de uma classe e podem modelar entidades do mundo real ou abstratas\n",
    "- métodos são funcoes definidas dentro de uma classe e definem o comportamento de um objeto\n",
    "- atributos são definidos na classe e representam o estado de um objeto\n",
    "\n",
    "Exemplo: \n",
    "Cachorro (embaixo os atributos)\n",
    "    - nome \n",
    "    - peso \n",
    "    - idade\n",
    "    - raça\n",
    "    - cor"
   ]
  },
  {
   "cell_type": "code",
   "execution_count": 32,
   "metadata": {},
   "outputs": [
    {
     "name": "stdout",
     "output_type": "stream",
     "text": [
      "Cuidado seu cachorro está acima do peso\n"
     ]
    },
    {
     "data": {
      "text/plain": [
       "'O cachorro se chama nick, é da raça border collie, tem 5 anos e pesa atualmente 28 kg'"
      ]
     },
     "execution_count": 32,
     "metadata": {},
     "output_type": "execute_result"
    }
   ],
   "source": [
    "class Cachorro:\n",
    "    def __init__(self, nome, raca, idade, peso):\n",
    "        self.qtd_patas = 4\n",
    "        self.nome = nome\n",
    "        self.raca = raca\n",
    "        self.idade = idade\n",
    "        self.peso = peso  # Adicionar valor ao atributo peso\n",
    "        \n",
    "    # Método de descrição\n",
    "    def descricao(self):\n",
    "        return f\"O cachorro se chama {self.nome}, é da raça {self.raca}, tem {self.idade} anos e pesa atualmente {self.peso} kg\"\n",
    "    \n",
    "    # Método latir\n",
    "    def latir(self, som):\n",
    "        return f\"{self.nome} diz {som}\"\n",
    "    \n",
    "    # Método de atualizar peso\n",
    "    def atualiza_peso(self, peso):\n",
    "        self.peso = peso\n",
    "        if peso > 25:\n",
    "            print(\"Cuidado seu cachorro está acima do peso\")\n",
    "\n",
    "# Adicionando cachorros à classe Cachorro\n",
    "meu_cachorro = Cachorro(\"nick\", \"border collie\", 5, 15)\n",
    "\n",
    "# Chamar o método descricao para obter informações sobre o cachorro\n",
    "meu_cachorro.descricao()\n",
    "\n",
    "# Método de latir\n",
    "meu_cachorro.latir(\"auau\")\n",
    "\n",
    "#metodo de peso\n",
    "meu_cachorro.atualiza_peso(28)\n",
    "\n",
    "#verificando se o peso foi atualizado\n",
    "meu_cachorro.descricao()\n",
    "\n"
   ]
  },
  {
   "cell_type": "code",
   "execution_count": 36,
   "metadata": {},
   "outputs": [
    {
     "name": "stdout",
     "output_type": "stream",
     "text": [
      "cor: vermelho\n",
      "marca: Volskvagen\n",
      "modelo: fox\n",
      "ano: 2012\n",
      "km rodados: 0\n",
      "cor: vermelho\n",
      "marca: Volskvagen\n",
      "modelo: fox\n",
      "ano: 2012\n",
      "km rodados: 12345\n"
     ]
    }
   ],
   "source": [
    "#criando objeto\n",
    "class Carro:\n",
    "  cor = 'sem cor'\n",
    "  marca = 'sem marca'\n",
    "  modelo = 'sem modelo'\n",
    "  ano = 2010\n",
    "  km_rodados = 0\n",
    "  def detalhes(self):   #método 'detalhes' pra mostrar informações do carro\n",
    "    print('cor:', self.cor)\n",
    "    print('marca:', self.marca)\n",
    "    print('modelo:', self.modelo)\n",
    "    print('ano:', self.ano)\n",
    "    print('km rodados:', self.km_rodados)\n",
    "\n",
    "  def adiciona_km_rodados(self, km):\n",
    "    self.km_rodados = self.km_rodados + km\n",
    "#adicionando atributos    \n",
    "carro1 = Carro()\n",
    "carro1.cor = \"vermelho\"\n",
    "carro1.marca = \"Volskvagen\"\n",
    "carro1.modelo = \"fox\"\n",
    "carro1.ano = 2012\n",
    "\n",
    "#exibindo detlahes\n",
    "carro1.detalhes()\n",
    "\n",
    "#add km rodados\n",
    "carro1.adiciona_km_rodados(12345)\n",
    "\n",
    "#verificando se os km rodados foram adicionados com o metodo detalhes\n",
    "carro1.detalhes()"
   ]
  }
 ],
 "metadata": {
  "kernelspec": {
   "display_name": "Python 3",
   "language": "python",
   "name": "python3"
  },
  "language_info": {
   "codemirror_mode": {
    "name": "ipython",
    "version": 3
   },
   "file_extension": ".py",
   "mimetype": "text/x-python",
   "name": "python",
   "nbconvert_exporter": "python",
   "pygments_lexer": "ipython3",
   "version": "3.11.4"
  },
  "orig_nbformat": 4
 },
 "nbformat": 4,
 "nbformat_minor": 2
}
