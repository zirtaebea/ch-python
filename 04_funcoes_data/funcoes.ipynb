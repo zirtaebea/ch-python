{
 "cells": [
  {
   "cell_type": "code",
   "execution_count": 2,
   "metadata": {},
   "outputs": [
    {
     "data": {
      "text/plain": [
       "20"
      ]
     },
     "execution_count": 2,
     "metadata": {},
     "output_type": "execute_result"
    }
   ],
   "source": [
    "#definida pela chave def\n",
    "def mult(a, b): #a e b argumentos que a função vai receber\n",
    "    x=a*b\n",
    "    return x\n",
    "mult(4,5)"
   ]
  },
  {
   "cell_type": "code",
   "execution_count": 3,
   "metadata": {},
   "outputs": [
    {
     "name": "stdout",
     "output_type": "stream",
     "text": [
      "Olá\n"
     ]
    }
   ],
   "source": [
    "def diga_ola():\n",
    "    print(\"Olá\") #imprime a palavra olá\n",
    "diga_ola()"
   ]
  },
  {
   "cell_type": "code",
   "execution_count": 6,
   "metadata": {},
   "outputs": [
    {
     "name": "stdout",
     "output_type": "stream",
     "text": [
      "print a: 200\n",
      "print b: 200\n",
      "print c: 10\n",
      "print d: 3\n",
      "print e: 200\n"
     ]
    }
   ],
   "source": [
    "x = 200\n",
    "print(\"print a:\", x) #x é 200\n",
    "\n",
    "def mostraX(x):\n",
    "    print(\"print c:\", x) #x é o valor que for inserido no argumento\n",
    "    x = 3\n",
    "    print(\"print d:\", x) #x é 3\n",
    "    \n",
    "print(\"print b:\", x) #x é 200\n",
    "mostraX(10) #x é 10 e dps 3\n",
    "print(\"print e:\", x) #x é 200\n"
   ]
  },
  {
   "cell_type": "code",
   "execution_count": 9,
   "metadata": {},
   "outputs": [
    {
     "name": "stdout",
     "output_type": "stream",
     "text": [
      "Imposto de: 500.0\n",
      "Imposto de: 750.0\n",
      "Imposto de: 500.0\n"
     ]
    }
   ],
   "source": [
    "def calcular_imposto(sal, taxa=0.1): #valor default caso não seja inserido no argumento da função y=z\n",
    "    imposto = sal * taxa\n",
    "    print(f\"Imposto de: {imposto}\")\n",
    "    \n",
    "calcular_imposto(5000) #sem argumento\n",
    "calcular_imposto(5000, 0.15) #com argumento\n",
    "calcular_imposto(5000, 0.1) #com argumento igual ao default"
   ]
  }
 ],
 "metadata": {
  "kernelspec": {
   "display_name": "Python 3",
   "language": "python",
   "name": "python3"
  },
  "language_info": {
   "codemirror_mode": {
    "name": "ipython",
    "version": 3
   },
   "file_extension": ".py",
   "mimetype": "text/x-python",
   "name": "python",
   "nbconvert_exporter": "python",
   "pygments_lexer": "ipython3",
   "version": "3.11.4"
  },
  "orig_nbformat": 4
 },
 "nbformat": 4,
 "nbformat_minor": 2
}
