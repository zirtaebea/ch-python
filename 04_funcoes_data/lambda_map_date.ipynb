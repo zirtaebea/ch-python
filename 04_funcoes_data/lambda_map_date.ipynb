{
 "cells": [
  {
   "cell_type": "code",
   "execution_count": 1,
   "metadata": {},
   "outputs": [
    {
     "data": {
      "text/plain": [
       "16"
      ]
     },
     "execution_count": 1,
     "metadata": {},
     "output_type": "execute_result"
    }
   ],
   "source": [
    "#função anonima que pode ser usada p criar funçoes simples\n",
    "quadrado = lambda x: x**2 #nome da funçao = lambda argumento: função \n",
    "quadrado(4)"
   ]
  },
  {
   "cell_type": "code",
   "execution_count": 2,
   "metadata": {},
   "outputs": [
    {
     "name": "stdout",
     "output_type": "stream",
     "text": [
      "sim\n"
     ]
    },
    {
     "data": {
      "text/plain": [
       "True"
      ]
     },
     "execution_count": 2,
     "metadata": {},
     "output_type": "execute_result"
    }
   ],
   "source": [
    "eh_par = lambda x: (x%2) == 0; print(\"sim\") #apenas 1 argumento, e a função é realizada em uma linha só\n",
    "\n",
    "eh_par(4)"
   ]
  },
  {
   "cell_type": "code",
   "execution_count": 3,
   "metadata": {},
   "outputs": [
    {
     "name": "stdout",
     "output_type": "stream",
     "text": [
      "[6, 7, 4]\n"
     ]
    }
   ],
   "source": [
    "#map\n",
    "frutas = ['banana', 'laranja', 'maçã']\n",
    "tamanhos = map(len, frutas) #utiliza uma função em uma lista/um iteravel\n",
    "print(list(tamanhos))"
   ]
  },
  {
   "cell_type": "code",
   "execution_count": 4,
   "metadata": {},
   "outputs": [
    {
     "name": "stdout",
     "output_type": "stream",
     "text": [
      "[9, 16, 25]\n"
     ]
    }
   ],
   "source": [
    "\n",
    "lista_quadrados = list(map(quadrado, [3, 4, 5])) #utiliza função quadrado na lista \n",
    "print(lista_quadrados)"
   ]
  },
  {
   "cell_type": "code",
   "execution_count": 1,
   "metadata": {},
   "outputs": [
    {
     "name": "stdout",
     "output_type": "stream",
     "text": [
      "2023-01-25\n"
     ]
    }
   ],
   "source": [
    "from datetime import date\n",
    "\n",
    "aniversario = date(2023, 1, 25) #ano mes dia\n",
    "print(aniversario) "
   ]
  },
  {
   "cell_type": "code",
   "execution_count": 2,
   "metadata": {},
   "outputs": [
    {
     "data": {
      "text/plain": [
       "datetime.date(2023, 8, 24)"
      ]
     },
     "execution_count": 2,
     "metadata": {},
     "output_type": "execute_result"
    }
   ],
   "source": [
    "date.today() #data de hj"
   ]
  },
  {
   "cell_type": "code",
   "execution_count": 3,
   "metadata": {},
   "outputs": [
    {
     "data": {
      "text/plain": [
       "'2023-08-24 20:12:45.592829'"
      ]
     },
     "execution_count": 3,
     "metadata": {},
     "output_type": "execute_result"
    }
   ],
   "source": [
    "from datetime import datetime\n",
    "str(datetime.now()) #data e hora de hj"
   ]
  },
  {
   "cell_type": "code",
   "execution_count": 2,
   "metadata": {},
   "outputs": [
    {
     "name": "stdout",
     "output_type": "stream",
     "text": [
      "16/02/1999\n"
     ]
    }
   ],
   "source": [
    "from datetime import date\n",
    "#formatação de data\n",
    "aniversario = date(1999, 2, 16)\n",
    "formatado = aniversario.strftime(\"%d/%m/%Y\") #transforma o formato da data para o desejado\n",
    "print(formatado)"
   ]
  },
  {
   "cell_type": "code",
   "execution_count": 4,
   "metadata": {},
   "outputs": [
    {
     "name": "stdout",
     "output_type": "stream",
     "text": [
      "2023-08-23\n",
      "2023-02-16\n",
      "2024-02-16\n"
     ]
    }
   ],
   "source": [
    "from datetime import date, timedelta #timedelta calcula diferença entre datas e horas\n",
    "\n",
    "hoje = date.today() #data de hoje\n",
    "ontem = hoje - timedelta(days=1) #data de ontem vai ser hj menos o timedelta de 1 dia (a diferença de um dia do dia fornecido pela variavel 'hoje')\n",
    "\n",
    "print(ontem)\n",
    "\n",
    "#aniversario data ano seguinte\n",
    "aniversario = date(2023, 2, 16) \n",
    "prox_niver = aniversario.replace(year=aniversario.year + 1) #muda o ano para um ano a mais do ano atual\n",
    "print(aniversario)\n",
    "print(prox_niver)"
   ]
  }
 ],
 "metadata": {
  "kernelspec": {
   "display_name": "Python 3",
   "language": "python",
   "name": "python3"
  },
  "language_info": {
   "codemirror_mode": {
    "name": "ipython",
    "version": 3
   },
   "file_extension": ".py",
   "mimetype": "text/x-python",
   "name": "python",
   "nbconvert_exporter": "python",
   "pygments_lexer": "ipython3",
   "version": "3.11.4"
  },
  "orig_nbformat": 4
 },
 "nbformat": 4,
 "nbformat_minor": 2
}
