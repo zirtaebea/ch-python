{
 "cells": [
  {
   "cell_type": "code",
   "execution_count": 1,
   "metadata": {},
   "outputs": [
    {
     "name": "stderr",
     "output_type": "stream",
     "text": [
      "Setting default log level to \"WARN\".\n",
      "To adjust logging level use sc.setLogLevel(newLevel). For SparkR, use setLogLevel(newLevel).\n",
      "23/11/05 11:25:06 WARN NativeCodeLoader: Unable to load native-hadoop library for your platform... using builtin-java classes where applicable\n",
      "23/11/05 11:25:08 WARN Utils: Service 'SparkUI' could not bind on port 4040. Attempting port 4041.\n"
     ]
    }
   ],
   "source": [
    "# importando bibliotecas\n",
    "from pyspark.sql import SparkSession\n",
    "import pyspark as ps\n",
    "spark = (SparkSession\n",
    "        .builder\n",
    "        .appName('atv-sala')\n",
    "        .config('spark.some.config.option', 'some-value')\n",
    "        .getOrCreate())"
   ]
  },
  {
   "cell_type": "code",
   "execution_count": 2,
   "metadata": {},
   "outputs": [
    {
     "data": {
      "text/plain": [
       "<pyspark.conf.SparkConf at 0x7f973840cc50>"
      ]
     },
     "execution_count": 2,
     "metadata": {},
     "output_type": "execute_result"
    }
   ],
   "source": [
    "# configurando sessao\n",
    "conf = ps.SparkConf().setMaster(\"yarn-client\").setAppName(\"spark-mer\")\n",
    "conf.set('spark.executor.heartbeatInterval', '3600s')"
   ]
  },
  {
   "cell_type": "code",
   "execution_count": 3,
   "metadata": {},
   "outputs": [
    {
     "name": "stderr",
     "output_type": "stream",
     "text": [
      "                                                                                \r"
     ]
    },
    {
     "data": {
      "text/plain": [
       "DataFrame[status: string, bed: string, bath: string, acre_lot: string, city: string, state: string, zip_code: string, house_size: string, prev_sold_date: string, price: string]"
      ]
     },
     "execution_count": 3,
     "metadata": {},
     "output_type": "execute_result"
    }
   ],
   "source": [
    "spark_realtor = (spark.read.format('csv')\n",
    "                .option(\"header\", \"true\")\n",
    "                .load(\"realtor-data.csv\"))\n",
    "spark_realtor"
   ]
  },
  {
   "cell_type": "code",
   "execution_count": 4,
   "metadata": {},
   "outputs": [
    {
     "name": "stdout",
     "output_type": "stream",
     "text": [
      "Total de registros: 100000\n"
     ]
    }
   ],
   "source": [
    "# 1) conte os registros\n",
    "print(f\"Total de registros: {spark_realtor.count()}\")"
   ]
  },
  {
   "cell_type": "code",
   "execution_count": 5,
   "metadata": {},
   "outputs": [
    {
     "name": "stdout",
     "output_type": "stream",
     "text": [
      "+--------+---+----+--------+--------+-----------+--------+----------+--------------+--------+\n",
      "|  status|bed|bath|acre_lot|    city|      state|zip_code|house_size|prev_sold_date|   price|\n",
      "+--------+---+----+--------+--------+-----------+--------+----------+--------------+--------+\n",
      "|for_sale|3.0| 2.0|    0.12|Adjuntas|Puerto Rico|   601.0|     920.0|          NULL|105000.0|\n",
      "|for_sale|4.0| 2.0|    0.08|Adjuntas|Puerto Rico|   601.0|    1527.0|          NULL| 80000.0|\n",
      "+--------+---+----+--------+--------+-----------+--------+----------+--------------+--------+\n",
      "only showing top 2 rows\n",
      "\n"
     ]
    }
   ],
   "source": [
    "# verificando tabela\n",
    "spark_realtor.show(2)"
   ]
  },
  {
   "cell_type": "code",
   "execution_count": 6,
   "metadata": {},
   "outputs": [],
   "source": [
    "# importando funções\n",
    "import pyspark.sql.functions as f   \n",
    "from pyspark.sql.functions import col, lit, when"
   ]
  },
  {
   "cell_type": "code",
   "execution_count": 7,
   "metadata": {},
   "outputs": [
    {
     "name": "stdout",
     "output_type": "stream",
     "text": [
      "+--------+---+----+--------+-------------+-----------+--------+----------+--------------+--------+\n",
      "|  status|bed|bath|acre_lot|         city|      state|zip_code|house_size|prev_sold_date|   price|\n",
      "+--------+---+----+--------+-------------+-----------+--------+----------+--------------+--------+\n",
      "|for_sale|3.0| 2.0|    0.12|     Adjuntas|Puerto Rico|   601.0|     920.0|          NULL|105000.0|\n",
      "|for_sale|4.0| 2.0|     0.1|        Ponce|Puerto Rico|   731.0|    1800.0|          NULL|145000.0|\n",
      "|for_sale|4.0| 3.0|    0.46|San Sebastian|Puerto Rico|   612.0|    2520.0|          NULL|179000.0|\n",
      "|for_sale|5.0| 3.0|    7.46|   Las Marias|Puerto Rico|   670.0|    5403.0|          NULL|300000.0|\n",
      "|for_sale|3.0| 2.0|    0.08|   Juana Diaz|Puerto Rico|   795.0|    1045.0|          NULL|150000.0|\n",
      "+--------+---+----+--------+-------------+-----------+--------+----------+--------------+--------+\n",
      "only showing top 5 rows\n",
      "\n"
     ]
    }
   ],
   "source": [
    "# 2) total de registros no estado de puerto rico com preço maior que 100.000\n",
    "realtor_pr_100k = spark_realtor.filter((col('state')== 'Puerto Rico') & (col('price') > 100000))\n",
    "realtor_pr_100k.show(5)"
   ]
  },
  {
   "cell_type": "code",
   "execution_count": 8,
   "metadata": {},
   "outputs": [
    {
     "name": "stderr",
     "output_type": "stream",
     "text": [
      "[Stage 6:=============================>                             (1 + 1) / 2]\r"
     ]
    },
    {
     "name": "stdout",
     "output_type": "stream",
     "text": [
      "Número de registros no Estado do Porto Rico com valor maior que 100 mil dolares: 17127\n"
     ]
    },
    {
     "name": "stderr",
     "output_type": "stream",
     "text": [
      "                                                                                \r"
     ]
    }
   ],
   "source": [
    "# fazendo o count \n",
    "print(f\"Número de registros no Estado do Porto Rico com valor maior que 100 mil dolares: {realtor_pr_100k.count()}\")"
   ]
  },
  {
   "cell_type": "code",
   "execution_count": 9,
   "metadata": {},
   "outputs": [
    {
     "name": "stdout",
     "output_type": "stream",
     "text": [
      "+--------+---+----+--------+----------+-----------+--------+----------+--------------+--------+--------+\n",
      "|  status|bed|bath|acre_lot|      city|      state|zip_code|house_size|prev_sold_date|   price| tamanho|\n",
      "+--------+---+----+--------+----------+-----------+--------+----------+--------------+--------+--------+\n",
      "|for_sale|3.0| 2.0|    0.12|  Adjuntas|Puerto Rico|   601.0|     920.0|          NULL|105000.0| pequena|\n",
      "|for_sale|4.0| 2.0|    0.08|  Adjuntas|Puerto Rico|   601.0|    1527.0|          NULL| 80000.0|   media|\n",
      "|for_sale|2.0| 1.0|    0.15|Juana Diaz|Puerto Rico|   795.0|     748.0|          NULL| 67000.0| pequena|\n",
      "|for_sale|4.0| 2.0|     0.1|     Ponce|Puerto Rico|   731.0|    1800.0|          NULL|145000.0|   media|\n",
      "|for_sale|6.0| 2.0|    0.05|  Mayaguez|Puerto Rico|   680.0|      NULL|          NULL| 65000.0|sem info|\n",
      "+--------+---+----+--------+----------+-----------+--------+----------+--------------+--------+--------+\n",
      "only showing top 5 rows\n",
      "\n"
     ]
    }
   ],
   "source": [
    "realtor_tamanho = spark_realtor.withColumn('tamanho',\n",
    "                                        when(col('house_size') < 1000, 'pequena')\n",
    "                                        .when((col('house_size') > 1000) & (col('house_size') < 5000), 'media')\n",
    "                                        .when(col('house_size') > 5000, 'grande')\n",
    "                                        .otherwise('sem info'))\n",
    "realtor_tamanho.show(5)"
   ]
  },
  {
   "cell_type": "code",
   "execution_count": 10,
   "metadata": {},
   "outputs": [
    {
     "name": "stderr",
     "output_type": "stream",
     "text": [
      "                                                                                \r"
     ]
    },
    {
     "data": {
      "text/plain": [
       "DataFrame[status: string, bed: string, bath: string, acre_lot: string, city: string, state: string, zip_code: string, house_size: string, prev_sold_date: string, price: string]"
      ]
     },
     "execution_count": 10,
     "metadata": {},
     "output_type": "execute_result"
    }
   ],
   "source": [
    "# salve e leia o arquivo em parquet\n",
    "spark_realtor.write.parquet('parquet_realtor.parquet', mode='overwrite')\n",
    "realtor_parquet = spark.read.parquet('parquet_realtor.parquet')\n",
    "realtor_parquet"
   ]
  },
  {
   "cell_type": "code",
   "execution_count": 13,
   "metadata": {},
   "outputs": [
    {
     "name": "stderr",
     "output_type": "stream",
     "text": [
      "[Stage 14:>                                                         (0 + 2) / 2]\r"
     ]
    },
    {
     "data": {
      "text/plain": [
       "32"
      ]
     },
     "execution_count": 13,
     "metadata": {},
     "output_type": "execute_result"
    }
   ],
   "source": [
    "# gere um cache da tabela com 32 partições\n",
    "#antes\n",
    "realtor_part = spark_realtor.repartition(32)\n",
    "realtor_part.rdd.getNumPartitions()"
   ]
  },
  {
   "cell_type": "code",
   "execution_count": 15,
   "metadata": {},
   "outputs": [
    {
     "data": {
      "text/plain": [
       "32"
      ]
     },
     "execution_count": 15,
     "metadata": {},
     "output_type": "execute_result"
    }
   ],
   "source": [
    "# depois\n",
    "realtor_part = spark_realtor.repartition(32)\n",
    "realtor_part.rdd.getNumPartitions()"
   ]
  },
  {
   "cell_type": "code",
   "execution_count": 18,
   "metadata": {},
   "outputs": [
    {
     "name": "stdout",
     "output_type": "stream",
     "text": [
      "+--------------+--------+--------------+\n",
      "|         state|for_sale|ready_to_build|\n",
      "+--------------+--------+--------------+\n",
      "|   Connecticut|   12178|          NULL|\n",
      "|       Vermont|    1324|          NULL|\n",
      "|   Puerto Rico|   24679|          NULL|\n",
      "|Virgin Islands|    2573|          NULL|\n",
      "|  Rhode Island|    2401|          NULL|\n",
      "|      Virginia|       3|          NULL|\n",
      "|    New Jersey|       2|          NULL|\n",
      "| Massachusetts|   52513|           181|\n",
      "| New Hampshire|    2232|          NULL|\n",
      "|     Tennessee|      16|          NULL|\n",
      "|South Carolina|      24|          NULL|\n",
      "|      New York|    1874|          NULL|\n",
      "+--------------+--------+--------------+\n",
      "\n"
     ]
    }
   ],
   "source": [
    "# pivot table da contagem de state e status\n",
    "realtor_pivot = (spark_realtor\n",
    "                .groupBy('state')\n",
    "                .pivot('status')\n",
    "                .count())\n",
    "realtor_pivot.show()"
   ]
  },
  {
   "cell_type": "code",
   "execution_count": 28,
   "metadata": {},
   "outputs": [
    {
     "name": "stdout",
     "output_type": "stream",
     "text": [
      "+----------+-------+\n",
      "|      city| hs_max|\n",
      "+----------+-------+\n",
      "|     Acton|99999.0|\n",
      "|Middletown|99999.0|\n",
      "|  Chicopee| 9999.0|\n",
      "|   Holyoke| 9999.0|\n",
      "|    Dorado|  999.0|\n",
      "+----------+-------+\n",
      "only showing top 5 rows\n",
      "\n"
     ]
    }
   ],
   "source": [
    "# mostre 5 cidades que possuem as maiores casas \n",
    "import pandas as pd\n",
    "(spark_realtor.fillna(0, subset='house_size')\n",
    "            .groupBy('city')\n",
    "            .agg(f.max('house_size').alias('hs_max'))\n",
    "            .orderBy(f.desc('hs_max'))\n",
    "            .show(5))\n"
   ]
  },
  {
   "cell_type": "code",
   "execution_count": 31,
   "metadata": {},
   "outputs": [
    {
     "name": "stderr",
     "output_type": "stream",
     "text": [
      "/home/bgsantos/.local/lib/python3.11/site-packages/pyspark/sql/pandas/conversion.py:485: FutureWarning: is_datetime64tz_dtype is deprecated and will be removed in a future version. Check `isinstance(dtype, pd.DatetimeTZDtype)` instead.\n",
      "  if should_localize and is_datetime64tz_dtype(s.dtype) and s.dt.tz is not None:\n"
     ]
    }
   ],
   "source": [
    "pd_realtor = spark_realtor.toPandas()\n",
    "pd_realtor = pd_realtor.reset_index()\n",
    "realtor_spark_novo = spark.createDataFrame(pd_realtor)"
   ]
  },
  {
   "cell_type": "code",
   "execution_count": 47,
   "metadata": {},
   "outputs": [
    {
     "data": {
      "text/html": [
       "<div>\n",
       "<style scoped>\n",
       "    .dataframe tbody tr th:only-of-type {\n",
       "        vertical-align: middle;\n",
       "    }\n",
       "\n",
       "    .dataframe tbody tr th {\n",
       "        vertical-align: top;\n",
       "    }\n",
       "\n",
       "    .dataframe thead th {\n",
       "        text-align: right;\n",
       "    }\n",
       "</style>\n",
       "<table border=\"1\" class=\"dataframe\">\n",
       "  <thead>\n",
       "    <tr style=\"text-align: right;\">\n",
       "      <th></th>\n",
       "      <th>state</th>\n",
       "      <th>population</th>\n",
       "    </tr>\n",
       "  </thead>\n",
       "  <tbody>\n",
       "    <tr>\n",
       "      <th>0</th>\n",
       "      <td>Connecticuti</td>\n",
       "      <td>3606</td>\n",
       "    </tr>\n",
       "    <tr>\n",
       "      <th>1</th>\n",
       "      <td>Puerto Rico</td>\n",
       "      <td>3264</td>\n",
       "    </tr>\n",
       "    <tr>\n",
       "      <th>2</th>\n",
       "      <td>Massachusetts</td>\n",
       "      <td>6985</td>\n",
       "    </tr>\n",
       "    <tr>\n",
       "      <th>3</th>\n",
       "      <td>New York</td>\n",
       "      <td>8468</td>\n",
       "    </tr>\n",
       "  </tbody>\n",
       "</table>\n",
       "</div>"
      ],
      "text/plain": [
       "           state  population\n",
       "0   Connecticuti        3606\n",
       "1    Puerto Rico        3264\n",
       "2  Massachusetts        6985\n",
       "3       New York        8468"
      ]
     },
     "execution_count": 47,
     "metadata": {},
     "output_type": "execute_result"
    }
   ],
   "source": [
    "df = pd.DataFrame({'state': ['Connecticuti',\n",
    "                            'Puerto Rico',\n",
    "                            'Massachusetts',\n",
    "                            'New York'],\n",
    "                'population': [3606, 3264, 6985, 8468]})\n",
    "df"
   ]
  },
  {
   "cell_type": "code",
   "execution_count": 49,
   "metadata": {},
   "outputs": [
    {
     "name": "stderr",
     "output_type": "stream",
     "text": [
      "/home/bgsantos/.local/lib/python3.11/site-packages/pyspark/sql/pandas/conversion.py:485: FutureWarning: is_datetime64tz_dtype is deprecated and will be removed in a future version. Check `isinstance(dtype, pd.DatetimeTZDtype)` instead.\n",
      "  if should_localize and is_datetime64tz_dtype(s.dtype) and s.dt.tz is not None:\n",
      "                                                                                \r"
     ]
    },
    {
     "data": {
      "text/plain": [
       "79247"
      ]
     },
     "execution_count": 49,
     "metadata": {},
     "output_type": "execute_result"
    }
   ],
   "source": [
    "\n",
    "df_spark = spark.createDataFrame(df)\n",
    "df_join = spark_realtor.join(df_spark, 'state', 'inner')\n",
    "df_join.count()"
   ]
  },
  {
   "cell_type": "code",
   "execution_count": 50,
   "metadata": {},
   "outputs": [
    {
     "name": "stdout",
     "output_type": "stream",
     "text": [
      "+-----------+--------+----+----+--------+------------+--------+----------+--------------+---------+----------+\n",
      "|      state|  status| bed|bath|acre_lot|        city|zip_code|house_size|prev_sold_date|    price|population|\n",
      "+-----------+--------+----+----+--------+------------+--------+----------+--------------+---------+----------+\n",
      "|Puerto Rico|for_sale|NULL| 6.0|    NULL|    San Juan|   907.0|    5530.0|          NULL|2500000.0|      3264|\n",
      "|Puerto Rico|for_sale| 1.0| 1.0|    0.07|    San Juan|   995.0|    4180.0|          NULL| 410000.0|      3264|\n",
      "|Puerto Rico|for_sale| 4.0| 3.0|    NULL|    San Juan|   907.0|    3000.0|          NULL|2975000.0|      3264|\n",
      "|Puerto Rico|for_sale|NULL|NULL|    0.32|    Toa Baja|   949.0|      NULL|          NULL|  24900.0|      3264|\n",
      "|Puerto Rico|for_sale| 1.0| 1.0|    NULL|    San Juan|   907.0|     812.0|          NULL| 450000.0|      3264|\n",
      "|Puerto Rico|for_sale| 2.0| 2.0|    NULL|      Dorado|   646.0|    1172.0|          NULL|1125000.0|      3264|\n",
      "|Puerto Rico|for_sale| 2.0| 2.0|    NULL|    San Juan|   907.0|    1930.0|          NULL|1150000.0|      3264|\n",
      "|Puerto Rico|for_sale| 2.0| 1.0|    NULL|    San Juan|   907.0|     702.0|          NULL| 317000.0|      3264|\n",
      "|Puerto Rico|for_sale| 4.0| 3.0|    0.12|      Dorado|   646.0|    2490.0|          NULL| 895000.0|      3264|\n",
      "|Puerto Rico|for_sale| 3.0| 3.0|    NULL|    San Juan|   901.0|    3900.0|          NULL|3950000.0|      3264|\n",
      "|Puerto Rico|for_sale| 3.0| 4.0|    NULL|Old San Juan|   901.0|    3900.0|          NULL|4250000.0|      3264|\n",
      "|Puerto Rico|for_sale| 1.0| 1.0|    NULL|    San Juan|   909.0|     718.0|          NULL| 359000.0|      3264|\n",
      "|Puerto Rico|for_sale| 6.0| 7.0|    0.26|    Guaynabo|   966.0|    7037.0|          NULL|3000000.0|      3264|\n",
      "|Puerto Rico|for_sale| 3.0| 3.0|    0.52|      Dorado|   646.0|    1500.0|          NULL| 575000.0|      3264|\n",
      "|Puerto Rico|for_sale|12.0| 9.0|    0.18|     Bayamon|   959.0|     850.0|          NULL| 450000.0|      3264|\n",
      "|Puerto Rico|for_sale| 3.0| 3.0|    0.13|    Carolina|   979.0|    2100.0|          NULL| 750000.0|      3264|\n",
      "|Puerto Rico|for_sale| 1.0| 1.0|    NULL|    San Juan|   907.0|     664.0|          NULL| 191000.0|      3264|\n",
      "|Puerto Rico|for_sale| 7.0| 6.0|    1.08|    San Juan|   969.0|    7246.0|          NULL|3200000.0|      3264|\n",
      "|Puerto Rico|for_sale| 4.0| 2.0|    0.07|    Toa Baja|   949.0|    2400.0|          NULL| 420000.0|      3264|\n",
      "|Puerto Rico|for_sale| 2.0| 1.0|     0.1|     Bayamon|   956.0|     730.0|          NULL| 156000.0|      3264|\n",
      "+-----------+--------+----+----+--------+------------+--------+----------+--------------+---------+----------+\n",
      "only showing top 20 rows\n",
      "\n"
     ]
    }
   ],
   "source": [
    "df_join.show()"
   ]
  }
 ],
 "metadata": {
  "kernelspec": {
   "display_name": "Python 3",
   "language": "python",
   "name": "python3"
  },
  "language_info": {
   "codemirror_mode": {
    "name": "ipython",
    "version": 3
   },
   "file_extension": ".py",
   "mimetype": "text/x-python",
   "name": "python",
   "nbconvert_exporter": "python",
   "pygments_lexer": "ipython3",
   "version": "3.11.6"
  }
 },
 "nbformat": 4,
 "nbformat_minor": 2
}
