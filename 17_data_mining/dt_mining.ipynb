{
 "cells": [
  {
   "cell_type": "markdown",
   "metadata": {},
   "source": [
    "# Data mining\n",
    "Conhecido também como mineração de dados, é o processo de descoberta e extração de padrões, informações e conhecimentos úteis ou previamente desconhecidos a partir de grandes conjuntos de dados.\n",
    "\n",
    "- Dataset (base de dados)\n",
    "- Pré-processamento\n",
    "- Classificação\n",
    "- Database\n",
    "- Estatística\n",
    "- Análise\n",
    "- Avaliação\n",
    "\n"
   ]
  },
  {
   "cell_type": "markdown",
   "metadata": {},
   "source": [
    "# Expressões regulares\n",
    "São padrões de busca utilizados para selecionar sequências de caracteres em textos. Elas são amplamente utilizadas em linguagens de programação e ferramentas de processamento de texto para realizar operações complexas de busca, substituição e validação de padrões."
   ]
  },
  {
   "cell_type": "markdown",
   "metadata": {},
   "source": [
    "## Gramática Regex\n",
    "EXEMPLO: Buscando email no exemploregex.txt: \n",
    "``[\\w.-]+@[\\w.-]+\\.[a-zA-Z]{2,4} ``\n",
    "\n",
    "- [\\w.-] - todos os caracteres alfanuméricos + ponto ou hífen\n",
    "- @ - depois dos caracteres alfanuméricos, identificar um arroba\n",
    "- [\\w.-]  - todos os caracteres alfanuméricos + ponto ou hífen\n",
    "- ``\\.`` - um ponto depois dos caracteres alfanuméricos\n",
    "- [a-zA-z]{2,4} - procura um conjunto de letras de a a z com comprimento de 2 a 4 caracteres."
   ]
  },
  {
   "cell_type": "code",
   "execution_count": 1,
   "metadata": {},
   "outputs": [
    {
     "name": "stdout",
     "output_type": "stream",
     "text": [
      "Correspondência encontrada!\n"
     ]
    }
   ],
   "source": [
    "# importando modulo de regex\n",
    "import re\n",
    "\n",
    "# definindo string\n",
    "texto = \"\"\"O telefone da farmacia é 3000-3232, mas eles só atentem até as 18h em dias úteis\"\"\"\n",
    "\n",
    "# tentando encontrar a frase \"o telefone\" NO COMEÇO DA FRASE!\n",
    "# O match só busca por elementos no inicio da string\n",
    "match = re.match(\"O telefone\", texto)\n",
    "\n",
    "# se o match for verdadeiro, retorne\n",
    "if match:\n",
    "    print(\"Correspondência encontrada!\")\n"
   ]
  },
  {
   "cell_type": "code",
   "execution_count": 3,
   "metadata": {},
   "outputs": [
    {
     "name": "stdout",
     "output_type": "stream",
     "text": [
      "Correspondência encontrada!\n"
     ]
    }
   ],
   "source": [
    "# para encontrar uma palavra em qualquer lugar do texto re.search()\n",
    "match = re.search(\"telefone\", texto)\n",
    "\n",
    "# se o match for verdadeiro, retorne\n",
    "if match:\n",
    "    print(\"Correspondência encontrada!\")"
   ]
  },
  {
   "cell_type": "code",
   "execution_count": 5,
   "metadata": {},
   "outputs": [
    {
     "name": "stdout",
     "output_type": "stream",
     "text": [
      "Correspondência encontrada!\n"
     ]
    }
   ],
   "source": [
    "# utilizando regex para encontrar um formato de horário no padrão XXh \n",
    "\n",
    "match = re.search(\"[0-9][0-9]h\", texto)\n",
    "\n",
    "# se o match for verdadeiro, retorne\n",
    "if match:\n",
    "    print(\"Correspondência encontrada!\")"
   ]
  },
  {
   "cell_type": "code",
   "execution_count": 6,
   "metadata": {},
   "outputs": [
    {
     "name": "stdout",
     "output_type": "stream",
     "text": [
      "63 66\n",
      "18h\n"
     ]
    }
   ],
   "source": [
    "# imprimindo o índice inicial e final onde se encontra a correspondencia da string\n",
    "print(match.start(), match.end())\n",
    "\n",
    "# imprime a parte da string que corresponde a expressão regular\n",
    "print(match.group(0))"
   ]
  },
  {
   "cell_type": "code",
   "execution_count": 8,
   "metadata": {},
   "outputs": [
    {
     "data": {
      "text/plain": [
       "['3000', '3232', '18']"
      ]
     },
     "execution_count": 8,
     "metadata": {},
     "output_type": "execute_result"
    }
   ],
   "source": [
    "# função findall para encontrar todas as ocorrências na string que correspondem a expressão regular desejada\n",
    "# exemplo: [0-9]* - uma ou mais ocorrências de dígitos numéricos\n",
    "matches = re.findall(\"[0-9]+\", texto)\n",
    "matches"
   ]
  },
  {
   "cell_type": "code",
   "execution_count": 9,
   "metadata": {},
   "outputs": [],
   "source": [
    "texto2 = \"\"\"Lorem ipsum dolor support3@ddd.com sit amet, consectetur adipiscing elit. Fusce dapibus, felis a tempor tristique, turpis enim feugiat tortor, a varius justo lectus sed velit. Ut eu ligula euismod, lacinia elit eu,\n",
    "commodo Nullam sales@salesforce.com lobortis lacus sed lorem malesuada, vel tristique quam tempus. \n",
    "Proin 3003-2312 aliquet malesuada condimentum arcu, id malesuada sagittis ex john.doe@uol.com scelerisque vitae. \n",
    "Suspendisse commodo, sapien eu vulputate viverra, metus nunc ultrices odio, at gravida turpis justo nec odio. \n",
    "In hac habitasse platea dictumst. Pellentesque habitant morbi tristique senectus et netus et malesuada fames ac turpis egestas. Sed eget leo ac justo commodo rutrum.\n",
    "Curabitur malesuada jane.smith@ddd.com luctus efficitur 98993-3102 mauris, \n",
    "vitae bibendum turpis. Nulla facilisi. In ullamcorper nisi vel congue pretium. Quisque sed enim non urna fermentum tincidunt\"\"\""
   ]
  },
  {
   "cell_type": "code",
   "execution_count": 10,
   "metadata": {},
   "outputs": [
    {
     "data": {
      "text/plain": [
       "['sales@salesforce', 'doe@uol', 'smith@ddd']"
      ]
     },
     "execution_count": 10,
     "metadata": {},
     "output_type": "execute_result"
    }
   ],
   "source": [
    "# encontrar todas as ocorrências de sequencias de letras minusculas seguidas\n",
    "# pelo simbolo @ e seguidas novamente por outra sequencia de letra minusculas\n",
    "# '[a-z]+@[a-z]+'\n",
    "# padroes simples de email sem domínio ou extensão\n",
    "\n",
    "matches2 = re.findall(\"[a-z]+@[a-z]+\", texto2)\n",
    "matches2"
   ]
  },
  {
   "cell_type": "code",
   "execution_count": 11,
   "metadata": {},
   "outputs": [
    {
     "data": {
      "text/plain": [
       "['support3@ddd.com',\n",
       " 'sales@salesforce.com',\n",
       " 'john.doe@uol.com',\n",
       " 'jane.smith@ddd.com']"
      ]
     },
     "execution_count": 11,
     "metadata": {},
     "output_type": "execute_result"
    }
   ],
   "source": [
    "# mesma lógica mas agora incluindo pontos e números também\n",
    "matches3 = re.findall(\"[a-z.0-9]+@[a-z.0-9]+\", texto2)\n",
    "matches3"
   ]
  },
  {
   "cell_type": "markdown",
   "metadata": {},
   "source": [
    "### Para auxiliar\n",
    "https://regexr.com\n",
    "\n",
    "https://projects.lukehaas.me/regexhub/"
   ]
  },
  {
   "cell_type": "markdown",
   "metadata": {},
   "source": [
    "## HTML\n",
    "É a linguagem padrão utilizada para criar e estruturar páginas da web. É composto por uma série de elementos ou tags, permitindo a exibição e o formato de textos, imagens, videos, links, tabelas e outros elementos em um navegador. "
   ]
  },
  {
   "cell_type": "markdown",
   "metadata": {},
   "source": [
    "# Web scraping\n",
    "É o processo de extrair automaticamente dados de sites da web. Ao realizar web scraping, um programa automatizado, muitas vezes chamado de \"scraper\" ou \"bot\", navega por páginas web fazendo download do código-fonte HTML e, em seguida, analisando e extraindo os dados relevantes"
   ]
  },
  {
   "cell_type": "markdown",
   "metadata": {},
   "source": [
    "## Beautiful Soup\n",
    "Biblioteca python usada para fazer análise e extração de dados de documentos HTML e XML. Ela cria uma árvore de análise a partir do documento fornecido e, em seguida, oferece uma interface simples para interagir com essa árvore. A combinação da BEAUTIFUL SOUP com a biblioteca requests, que é utilizada para fazer requesições HTTP."
   ]
  },
  {
   "cell_type": "markdown",
   "metadata": {},
   "source": [
    "Crie um objeto beautifulsoup para analias o conteúdo HTML. O método prettify() retorna uma string num formato legível das hierarquias do documento analisado. "
   ]
  },
  {
   "cell_type": "code",
   "execution_count": 14,
   "metadata": {},
   "outputs": [
    {
     "data": {
      "text/plain": [
       "200"
      ]
     },
     "execution_count": 14,
     "metadata": {},
     "output_type": "execute_result"
    }
   ],
   "source": [
    "from bs4 import BeautifulSoup\n",
    "import requests\n",
    "\n",
    "url = 'https://www.google.com'\n",
    "response = requests.get(url)\n",
    "response.status_code"
   ]
  },
  {
   "cell_type": "code",
   "execution_count": 15,
   "metadata": {},
   "outputs": [
    {
     "data": {
      "text/plain": [
       "'<!DOCTYPE html>\\n<html itemscope=\"\" itemtype=\"http://schema.org/WebPage\" lang=\"pt-BR\">\\n <head>\\n  <meta content=\"text/html; charset=utf-8\" http-equiv=\"Content-Type\"/>\\n  <meta content=\"/images/branding/googleg/1x/googleg_standard_color_128dp.png\" itemprop=\"image\"/>\\n  <title>\\n   Google\\n  </title>\\n  <script nonce=\"2dmlVHgCrYcB7TVCVQ-lZA\">\\n   (function(){var _g={kEI:\\'8Bs1ZYLeMu3M1sQPpvaQgAw\\',kEXPI:\\'0,1365467,207,4804,2316,383,246,5,1129120,1197758,380733,16114,28684,22431,1361,12314,4750,12835,4998,17075,6884,31560,2872,2891,4139,4210,3405,606,12205,17638,30847,16016,319,20583,4,32894,26723,27038,6636,7596,1,42154,2,16395,23366,5679,1021,31122,4567,6256,23421,1252,33064,2,2,1,24626,2006,8155,23350,873,7829,11805,6,1923,9779,42459,3142,17057,927,4869,11,14329,14,82,20206,8377,408,18580,2278,3097,782,1483,765,15816,1804,22837,21261,2984,1632,13496,9867,3339,7768,146,7857,987,785,6812,5214429,826,189,2,195,101,284,397,5992779,1209,97,2806428,141,795,29230,5,3,2,47,87,165,2,41,6,17,5,10,7,9,23940932,578,4043528,16672,43887,3,2105,3,2442,1391500,23759270,7954,1,4844,8408,2093,786,1598,108,4020,296,5799,1965,5,3380,7747,3276,3042,877,3,6580,3117,3999,1879,2048,1187,303,2458,6774,312,420,777,1960,7143,1717,1,613,2657,2820,3730,2,75,172,393,1504,53,1,2692,3,387,2,1299,969,1083,27,6,5,15,311,1340,5,1,768,505,412,839,927,683,4,877,439,536,891,9,777,214,6,1326,28,689,7,1,8,407,369,22,1162,42,1116,761,746,1072,129,454,206,126,1317,706,233,47,1129,259,444,874,22,3,543,408,61,6,3,44,127,1002,127,3,390,629,683,437,88,639,3,2,2,2,198,147,5,268,41,4,219,141,310,130,180,236,501,267,63,44,64,412,660,4,763,526,5,906,449,60,438,193,153,47,28,439,933,572,377,129,203,219,100,274,823,50,31,97,511,289,55,1198,472,146,80,30,337,2455,2837,3\\',kBL:\\'p8DK\\',kOPI:89978449};(function(){var a;(null==(a=window.google)?0:a.stvsc)?google.kEI=_g.kEI:window.google=_g;}).call(this);})();(function(){google.sn=\\'webhp\\';google.kHL=\\'pt-BR\\';})();(function(){\\nvar h=this||self;function l(){return void 0!==window.google&&void 0!==window.google.kOPI&&0!==window.google.kOPI?window.google.kOPI:null};var m,n=[];function p(a){for(var b;a&&(!a.getAttribute||!(b=a.getAttribute(\"eid\")));)a=a.parentNode;return b||m}function q(a){for(var b=null;a&&(!a.getAttribute||!(b=a.getAttribute(\"leid\")));)a=a.parentNode;return b}function r(a){/^http:/i.test(a)&&\"https:\"===window.location.protocol&&(google.ml&&google.ml(Error(\"a\"),!1,{src:a,glmm:1}),a=\"\");return a}\\nfunction t(a,b,c,d,k){var e=\"\";-1===b.search(\"&ei=\")&&(e=\"&ei=\"+p(d),-1===b.search(\"&lei=\")&&(d=q(d))&&(e+=\"&lei=\"+d));d=\"\";var g=-1===b.search(\"&cshid=\")&&\"slh\"!==a,f=[];f.push([\"zx\",Date.now().toString()]);h._cshid&&g&&f.push([\"cshid\",h._cshid]);c=c();null!=c&&f.push([\"opi\",c.toString()]);for(c=0;c<f.length;c++){if(0===c||0<c)d+=\"&\";d+=f[c][0]+\"=\"+f[c][1]}return\"/\"+(k||\"gen_204\")+\"?atyp=i&ct=\"+String(a)+\"&cad=\"+(b+e+d)};m=google.kEI;google.getEI=p;google.getLEI=q;google.ml=function(){return null};google.log=function(a,b,c,d,k,e){e=void 0===e?l:e;c||(c=t(a,b,e,d,k));if(c=r(c)){a=new Image;var g=n.length;n[g]=a;a.onerror=a.onload=a.onabort=function(){delete n[g]};a.src=c}};google.logUrl=function(a,b){b=void 0===b?l:b;return t(\"\",a,b)};}).call(this);(function(){google.y={};google.sy=[];google.x=function(a,b){if(a)var c=a.id;else{do c=Math.random();while(google.y[c])}google.y[c]=[a,b];return!1};google.sx=function(a){google.sy.push(a)};google.lm=[];google.plm=function(a){google.lm.push.apply(google.lm,a)};google.lq=[];google.load=function(a,b,c){google.lq.push([[a],b,c])};google.loadAll=function(a,b){google.lq.push([a,b])};google.bx=!1;google.lx=function(){};var d=[];google.fce=function(a,b,c,e){d.push([a,b,c,e])};google.qce=d;}).call(this);google.f={};(function(){\\ndocument.documentElement.addEventListener(\"submit\",function(b){var a;if(a=b.target){var c=a.getAttribute(\"data-submitfalse\");a=\"1\"===c||\"q\"===c&&!a.elements.q.value?!0:!1}else a=!1;a&&(b.preventDefault(),b.stopPropagation())},!0);document.documentElement.addEventListener(\"click\",function(b){var a;a:{for(a=b.target;a&&a!==document.documentElement;a=a.parentElement)if(\"A\"===a.tagName){a=\"1\"===a.getAttribute(\"data-nohref\");break a}a=!1}a&&b.preventDefault()},!0);}).call(this);\\n  </script>\\n  <style>\\n   #gbar,#guser{font-size:13px;padding-top:1px !important;}#gbar{height:22px}#guser{padding-bottom:7px !important;text-align:right}.gbh,.gbd{border-top:1px solid #c9d7f1;font-size:1px}.gbh{height:0;position:absolute;top:24px;width:100%}@media all{.gb1{height:22px;margin-right:.5em;vertical-align:top}#gbar{float:left}}a.gb1,a.gb4{text-decoration:underline !important}a.gb1,a.gb4{color:#00c !important}.gbi .gb4{color:#dd8e27 !important}.gbf .gb4{color:#900 !important}\\n  </style>\\n  <style>\\n   body,td,a,p,.h{font-family:arial,sans-serif}body{margin:0;overflow-y:scroll}#gog{padding:3px 8px 0}td{line-height:.8em}.gac_m td{line-height:17px}form{margin-bottom:20px}.h{color:#1967d2}em{font-weight:bold;font-style:normal}.lst{height:25px;width:496px}.gsfi,.lst{font:18px arial,sans-serif}.gsfs{font:17px arial,sans-serif}.ds{display:inline-box;display:inline-block;margin:3px 0 4px;margin-left:4px}input{font-family:inherit}body{background:#fff;color:#000}a{color:#681da8;text-decoration:none}a:hover,a:active{text-decoration:underline}.fl a{color:#1967d2}a:visited{color:#681da8}.sblc{padding-top:5px}.sblc a{display:block;margin:2px 0;margin-left:13px;font-size:11px}.lsbb{background:#f8f9fa;border:solid 1px;border-color:#dadce0 #70757a #70757a #dadce0;height:30px}.lsbb{display:block}#WqQANb a{display:inline-block;margin:0 12px}.lsb{background:url(/images/nav_logo229.png) 0 -261px repeat-x;color:#000;border:none;cursor:pointer;height:30px;margin:0;outline:0;font:15px arial,sans-serif;vertical-align:top}.lsb:active{background:#dadce0}.lst:focus{outline:none}.Ucigb{width:458px}\\n  </style>\\n  <script nonce=\"2dmlVHgCrYcB7TVCVQ-lZA\">\\n   (function(){window.google.erd={jsr:1,bv:1887,de:true};\\nvar h=this||self;var k,l=null!=(k=h.mei)?k:1,n,p=null!=(n=h.sdo)?n:!0,q=0,r,t=google.erd,v=t.jsr;google.ml=function(a,b,d,m,e){e=void 0===e?2:e;b&&(r=a&&a.message);void 0===d&&(d={});d.cad=\"ple_\"+google.ple+\".aple_\"+google.aple;if(google.dl)return google.dl(a,e,d),null;if(0>v){window.console&&console.error(a,d);if(-2===v)throw a;b=!1}else b=!a||!a.message||\"Error loading script\"===a.message||q>=l&&!m?!1:!0;if(!b)return null;q++;d=d||{};b=encodeURIComponent;var c=\"/gen_204?atyp=i&ei=\"+b(google.kEI);google.kEXPI&&(c+=\"&jexpid=\"+b(google.kEXPI));c+=\"&srcpg=\"+b(google.sn)+\"&jsr=\"+b(t.jsr)+\"&bver=\"+\\nb(t.bv);var f=a.lineNumber;void 0!==f&&(c+=\"&line=\"+f);var g=a.fileName;g&&(0<g.indexOf(\"-extension:/\")&&(e=3),c+=\"&script=\"+b(g),f&&g===window.location.href&&(f=document.documentElement.outerHTML.split(\"\\\\n\")[f],c+=\"&cad=\"+b(f?f.substring(0,300):\"No script found.\")));google.ple&&1===google.ple&&(e=2);c+=\"&jsel=\"+e;for(var u in d)c+=\"&\",c+=b(u),c+=\"=\",c+=b(d[u]);c=c+\"&emsg=\"+b(a.name+\": \"+a.message);c=c+\"&jsst=\"+b(a.stack||\"N/A\");12288<=c.length&&(c=c.substr(0,12288));a=c;m||google.log(0,\"\",a);return a};window.onerror=function(a,b,d,m,e){r!==a&&(a=e instanceof Error?e:Error(a),void 0===d||\"lineNumber\"in a||(a.lineNumber=d),void 0===b||\"fileName\"in a||(a.fileName=b),google.ml(a,!1,void 0,!1,\"SyntaxError\"===a.name||\"SyntaxError\"===a.message.substring(0,11)||-1!==a.message.indexOf(\"Script error\")?3:0));r=null;p&&q>=l&&(window.onerror=null)};})();\\n  </script>\\n </head>\\n <body bgcolor=\"#fff\">\\n  <script nonce=\"2dmlVHgCrYcB7TVCVQ-lZA\">\\n   (function(){var src=\\'/images/nav_logo229.png\\';var iesg=false;document.body.onload = function(){window.n && window.n();if (document.images){new Image().src=src;}\\nif (!iesg){document.f&&document.f.q.focus();document.gbqf&&document.gbqf.q.focus();}\\n}\\n})();\\n  </script>\\n  <div id=\"mngb\">\\n   <div id=\"gbar\">\\n    <nobr>\\n     <b class=\"gb1\">\\n      Pesquisa\\n     </b>\\n     <a class=\"gb1\" href=\"https://www.google.com/imghp?hl=pt-BR&amp;tab=wi\">\\n      Imagens\\n     </a>\\n     <a class=\"gb1\" href=\"https://maps.google.com.br/maps?hl=pt-BR&amp;tab=wl\">\\n      Maps\\n     </a>\\n     <a class=\"gb1\" href=\"https://play.google.com/?hl=pt-BR&amp;tab=w8\">\\n      Play\\n     </a>\\n     <a class=\"gb1\" href=\"https://www.youtube.com/?tab=w1\">\\n      YouTube\\n     </a>\\n     <a class=\"gb1\" href=\"https://news.google.com/?tab=wn\">\\n      Notícias\\n     </a>\\n     <a class=\"gb1\" href=\"https://mail.google.com/mail/?tab=wm\">\\n      Gmail\\n     </a>\\n     <a class=\"gb1\" href=\"https://drive.google.com/?tab=wo\">\\n      Drive\\n     </a>\\n     <a class=\"gb1\" href=\"https://www.google.com.br/intl/pt-BR/about/products?tab=wh\" style=\"text-decoration:none\">\\n      <u>\\n       Mais\\n      </u>\\n      »\\n     </a>\\n    </nobr>\\n   </div>\\n   <div id=\"guser\" width=\"100%\">\\n    <nobr>\\n     <span class=\"gbi\" id=\"gbn\">\\n     </span>\\n     <span class=\"gbf\" id=\"gbf\">\\n     </span>\\n     <span id=\"gbe\">\\n     </span>\\n     <a class=\"gb4\" href=\"http://www.google.com.br/history/optout?hl=pt-BR\">\\n      Histórico da Web\\n     </a>\\n     |\\n     <a class=\"gb4\" href=\"/preferences?hl=pt-BR\">\\n      Configurações\\n     </a>\\n     |\\n     <a class=\"gb4\" href=\"https://accounts.google.com/ServiceLogin?hl=pt-BR&amp;passive=true&amp;continue=https://www.google.com/&amp;ec=GAZAAQ\" id=\"gb_70\" target=\"_top\">\\n      Fazer login\\n     </a>\\n    </nobr>\\n   </div>\\n   <div class=\"gbh\" style=\"left:0\">\\n   </div>\\n   <div class=\"gbh\" style=\"right:0\">\\n   </div>\\n  </div>\\n  <center>\\n   <br clear=\"all\" id=\"lgpd\"/>\\n   <div id=\"lga\">\\n    <img alt=\"Google\" height=\"92\" id=\"hplogo\" src=\"/images/branding/googlelogo/1x/googlelogo_white_background_color_272x92dp.png\" style=\"padding:28px 0 14px\" width=\"272\"/>\\n    <br/>\\n    <br/>\\n   </div>\\n   <form action=\"/search\" name=\"f\">\\n    <table cellpadding=\"0\" cellspacing=\"0\">\\n     <tr valign=\"top\">\\n      <td width=\"25%\">\\n      </td>\\n      <td align=\"center\" nowrap=\"\">\\n       <input name=\"ie\" type=\"hidden\" value=\"ISO-8859-1\"/>\\n       <input name=\"hl\" type=\"hidden\" value=\"pt-BR\"/>\\n       <input name=\"source\" type=\"hidden\" value=\"hp\"/>\\n       <input name=\"biw\" type=\"hidden\"/>\\n       <input name=\"bih\" type=\"hidden\"/>\\n       <div class=\"ds\" style=\"height:32px;margin:4px 0\">\\n        <div style=\"position:relative;zoom:1\">\\n         <input autocomplete=\"off\" class=\"lst Ucigb\" maxlength=\"2048\" name=\"q\" size=\"57\" style=\"margin:0;padding:5px 8px 0 6px;vertical-align:top;color:#000;padding-right:38px\" title=\"Pesquisa Google\" value=\"\"/>\\n         <img alt=\"\" data-script-url=\"/textinputassistant/13/pt-BR_tia.js\" height=\"23\" id=\"tsuid_1\" src=\"/textinputassistant/tia.png\" style=\"position:absolute;cursor:pointer;right:5px;top:4px;z-index:300\" width=\"27\"/>\\n         <script nonce=\"2dmlVHgCrYcB7TVCVQ-lZA\">\\n          (function(){var id=\\'tsuid_1\\';document.getElementById(id).onclick = function(){var s = document.createElement(\\'script\\');s.src = this.getAttribute(\\'data-script-url\\');(document.getElementById(\\'xjsc\\')||document.body).appendChild(s);};})();\\n         </script>\\n        </div>\\n       </div>\\n       <br style=\"line-height:0\"/>\\n       <span class=\"ds\">\\n        <span class=\"lsbb\">\\n         <input class=\"lsb\" name=\"btnG\" type=\"submit\" value=\"Pesquisa Google\"/>\\n        </span>\\n       </span>\\n       <span class=\"ds\">\\n        <span class=\"lsbb\">\\n         <input class=\"lsb\" id=\"tsuid_2\" name=\"btnI\" type=\"submit\" value=\"Estou com sorte\"/>\\n         <script nonce=\"2dmlVHgCrYcB7TVCVQ-lZA\">\\n          (function(){var id=\\'tsuid_2\\';document.getElementById(id).onclick = function(){if (this.form.q.value){this.checked = 1;if (this.form.iflsig)this.form.iflsig.disabled = false;}\\nelse top.location=\\'/doodles/\\';};})();\\n         </script>\\n         <input name=\"iflsig\" type=\"hidden\" value=\"AO6bgOgAAAAAZTUqABPq_9eJkYN3tkREiiZ0q9hlogdO\"/>\\n        </span>\\n       </span>\\n      </td>\\n      <td align=\"left\" class=\"fl sblc\" nowrap=\"\" width=\"25%\">\\n       <a href=\"/advanced_search?hl=pt-BR&amp;authuser=0\">\\n        Pesquisa avançada\\n       </a>\\n      </td>\\n     </tr>\\n    </table>\\n    <input id=\"gbv\" name=\"gbv\" type=\"hidden\" value=\"1\"/>\\n    <script nonce=\"2dmlVHgCrYcB7TVCVQ-lZA\">\\n     (function(){var a,b=\"1\";if(document&&document.getElementById)if(\"undefined\"!=typeof XMLHttpRequest)b=\"2\";else if(\"undefined\"!=typeof ActiveXObject){var c,d,e=[\"MSXML2.XMLHTTP.6.0\",\"MSXML2.XMLHTTP.3.0\",\"MSXML2.XMLHTTP\",\"Microsoft.XMLHTTP\"];for(c=0;d=e[c++];)try{new ActiveXObject(d),b=\"2\"}catch(h){}}a=b;if(\"2\"==a&&-1==location.search.indexOf(\"&gbv=2\")){var f=google.gbvu,g=document.getElementById(\"gbv\");g&&(g.value=a);f&&window.setTimeout(function(){location.href=f},0)};}).call(this);\\n    </script>\\n   </form>\\n   <div id=\"gac_scont\">\\n   </div>\\n   <div style=\"font-size:83%;min-height:3.5em\">\\n    <br/>\\n   </div>\\n   <span id=\"footer\">\\n    <div style=\"font-size:10pt\">\\n     <div id=\"WqQANb\" style=\"margin:19px auto;text-align:center\">\\n      <a href=\"/intl/pt-BR/ads/\">\\n       Publicidade\\n      </a>\\n      <a href=\"/services/\">\\n       Soluções empresariais\\n      </a>\\n      <a href=\"/intl/pt-BR/about.html\">\\n       Sobre o Google\\n      </a>\\n      <a href=\"https://www.google.com/setprefdomain?prefdom=BR&amp;prev=https://www.google.com.br/&amp;sig=K_ns1Jwbyu5YRKciHuwXjw4oh88v0%3D\">\\n       Google.com.br\\n      </a>\\n     </div>\\n    </div>\\n    <p style=\"font-size:8pt;color:#70757a\">\\n     © 2023 -\\n     <a href=\"/intl/pt-BR/policies/privacy/\">\\n      Privacidade\\n     </a>\\n     -\\n     <a href=\"/intl/pt-BR/policies/terms/\">\\n      Termos\\n     </a>\\n    </p>\\n   </span>\\n  </center>\\n  <script nonce=\"2dmlVHgCrYcB7TVCVQ-lZA\">\\n   (function(){window.google.cdo={height:757,width:1440};(function(){var a=window.innerWidth,b=window.innerHeight;if(!a||!b){var c=window.document,d=\"CSS1Compat\"==c.compatMode?c.documentElement:c.body;a=d.clientWidth;b=d.clientHeight}\\nif(a&&b&&(a!=google.cdo.width||b!=google.cdo.height)){var e=google,f=e.log,g=\"/client_204?&atyp=i&biw=\"+a+\"&bih=\"+b+\"&ei=\"+google.kEI,h=\"\",k=[],l=void 0!==window.google&&void 0!==window.google.kOPI&&0!==window.google.kOPI?window.google.kOPI:null;null!=l&&k.push([\"opi\",l.toString()]);for(var m=0;m<k.length;m++){if(0===m||0<m)h+=\"&\";h+=k[m][0]+\"=\"+k[m][1]}f.call(e,\"\",\"\",g+h)};}).call(this);})();\\n  </script>\\n  <script nonce=\"2dmlVHgCrYcB7TVCVQ-lZA\">\\n   (function(){google.xjs={ck:\\'xjs.hp.KyKuuSDuphM.L.X.O\\',cs:\\'ACT90oGNiVOgUn1GVgzGQFHRHtWgEZND0A\\',cssopt:false,csss:\\'ACT90oGy_7MtmpeDDXIDwD4FtWvogRNZjA\\',excm:[],sepcss:false};})();\\n  </script>\\n  <script nonce=\"2dmlVHgCrYcB7TVCVQ-lZA\">\\n   (function(){var u=\\'/xjs/_/js/k\\\\x3dxjs.hp.en.wLOnoTYhcK0.O/am\\\\x3dAAAAAAAAAAAAAAAAAAAAAAIAAAAAQAEAAQIAAAAAAAAAIAAAHQEAsAAAFw/d\\\\x3d1/ed\\\\x3d1/rs\\\\x3dACT90oFA7LHiJ-VV1j_HBWbaeTfbBxx0iQ/m\\\\x3dsb_he,d,cEt90b,SNUn3,qddgKe,sTsDMc,dtl0hd,eHDfl\\';var amd=0;\\nvar e=this||self,f=function(a){return a};var g;var h=function(a){this.g=a};h.prototype.toString=function(){return this.g+\"\"};var k={};var l=function(){var a=document;var b=\"SCRIPT\";\"application/xhtml+xml\"===a.contentType&&(b=b.toLowerCase());return a.createElement(b)};\\nfunction m(a,b){a.src=b instanceof h&&b.constructor===h?b.g:\"type_error:TrustedResourceUrl\";var c,d;(c=(b=null==(d=(c=(a.ownerDocument&&a.ownerDocument.defaultView||window).document).querySelector)?void 0:d.call(c,\"script[nonce]\"))?b.nonce||b.getAttribute(\"nonce\")||\"\":\"\")&&a.setAttribute(\"nonce\",c)};function n(a){a=null===a?\"null\":void 0===a?\"undefined\":a;if(void 0===g){var b=null;var c=e.trustedTypes;if(c&&c.createPolicy){try{b=c.createPolicy(\"goog#html\",{createHTML:f,createScript:f,createScriptURL:f})}catch(d){e.console&&e.console.error(d.message)}g=b}else g=b}a=(b=g)?b.createScriptURL(a):a;return new h(a,k)};void 0===google.ps&&(google.ps=[]);function p(){var a=u,b=function(){};google.lx=google.stvsc?b:function(){q(a);google.lx=b};google.bx||google.lx()}function r(a,b){b&&m(a,n(b));var c=a.onload;a.onload=function(d){c&&c(d);google.ps=google.ps.filter(function(t){return a!==t})};google.ps.push(a);document.body.appendChild(a)}google.as=r;function q(a){google.timers&&google.timers.load&&google.tick&&google.tick(\"load\",\"xjsls\");var b=l();b.onerror=function(){google.ple=1};b.onload=function(){google.ple=0};google.xjsus=void 0;r(b,a);google.aple=-1;google.psa=!0};google.xjsu=u;e._F_jsUrl=u;setTimeout(function(){0<amd?google.caft(function(){return p()},amd):p()},0);})();window._ = window._ || {};window._DumpException = _._DumpException = function(e){throw e;};window._s = window._s || {};_s._DumpException = _._DumpException;window._qs = window._qs || {};_qs._DumpException = _._DumpException;(function(){var t=[1,0,0,0,512,352321600,2101248,0,536871168,74711040,720896,1472];window._F_toggles = window._xjs_toggles = t;})();function _F_installCss(c){}\\n(function(){google.jl={blt:\\'none\\',chnk:0,dw:false,dwu:true,emtn:0,end:0,ico:false,ikb:0,ine:false,injs:\\'none\\',injt:0,injth:0,injv2:false,lls:\\'default\\',pdt:0,rep:0,snet:true,strt:0,ubm:false,uwp:true};})();(function(){var pmc=\\'{\\\\x22d\\\\x22:{},\\\\x22sb_he\\\\x22:{\\\\x22agen\\\\x22:false,\\\\x22cgen\\\\x22:false,\\\\x22client\\\\x22:\\\\x22heirloom-hp\\\\x22,\\\\x22dh\\\\x22:true,\\\\x22ds\\\\x22:\\\\x22\\\\x22,\\\\x22fl\\\\x22:true,\\\\x22host\\\\x22:\\\\x22google.com\\\\x22,\\\\x22jsonp\\\\x22:true,\\\\x22msgs\\\\x22:{\\\\x22cibl\\\\x22:\\\\x22Limpar pesquisa\\\\x22,\\\\x22dym\\\\x22:\\\\x22Voc\\\\\\\\u00ea quis dizer:\\\\x22,\\\\x22lcky\\\\x22:\\\\x22Estou com sorte\\\\x22,\\\\x22lml\\\\x22:\\\\x22Saiba mais\\\\x22,\\\\x22psrc\\\\x22:\\\\x22Esta pesquisa foi removida do seu\\\\\\\\u003Ca href\\\\x3d\\\\\\\\\\\\x22/history\\\\\\\\\\\\x22\\\\\\\\u003EHist\\\\\\\\u00f3rico da web\\\\\\\\u003C/a\\\\\\\\u003E\\\\x22,\\\\x22psrl\\\\x22:\\\\x22Remover\\\\x22,\\\\x22sbit\\\\x22:\\\\x22Pesquisa por imagem\\\\x22,\\\\x22srch\\\\x22:\\\\x22Pesquisa Google\\\\x22},\\\\x22ovr\\\\x22:{},\\\\x22pq\\\\x22:\\\\x22\\\\x22,\\\\x22rfs\\\\x22:[],\\\\x22sbas\\\\x22:\\\\x220 3px 8px 0 rgba(0,0,0,0.2),0 0 0 1px rgba(0,0,0,0.08)\\\\x22,\\\\x22stok\\\\x22:\\\\x22i_YFRsL1ZlZ0vg4Zg_SbfFDjhaQ\\\\x22}}\\';google.pmc=JSON.parse(pmc);})();(function(){var b=function(a){var c=0;return function(){return c<a.length?{done:!1,value:a[c++]}:{done:!0}}};\\nvar e=this||self;var g,h;a:{for(var k=[\"CLOSURE_FLAGS\"],l=e,n=0;n<k.length;n++)if(l=l[k[n]],null==l){h=null;break a}h=l}var p=h&&h[610401301];g=null!=p?p:!1;var q,r=e.navigator;q=r?r.userAgentData||null:null;function t(a){return g?q?q.brands.some(function(c){return(c=c.brand)&&-1!=c.indexOf(a)}):!1:!1}function u(a){var c;a:{if(c=e.navigator)if(c=c.userAgent)break a;c=\"\"}return-1!=c.indexOf(a)};function v(){return g?!!q&&0<q.brands.length:!1}function w(){return u(\"Safari\")&&!(x()||(v()?0:u(\"Coast\"))||(v()?0:u(\"Opera\"))||(v()?0:u(\"Edge\"))||(v()?t(\"Microsoft Edge\"):u(\"Edg/\"))||(v()?t(\"Opera\"):u(\"OPR\"))||u(\"Firefox\")||u(\"FxiOS\")||u(\"Silk\")||u(\"Android\"))}function x(){return v()?t(\"Chromium\"):(u(\"Chrome\")||u(\"CriOS\"))&&!(v()?0:u(\"Edge\"))||u(\"Silk\")}function y(){return u(\"Android\")&&!(x()||u(\"Firefox\")||u(\"FxiOS\")||(v()?0:u(\"Opera\"))||u(\"Silk\"))};var z=v()?!1:u(\"Trident\")||u(\"MSIE\");y();x();w();Object.freeze({});var A=!z&&!w(),D=function(a){if(/-[a-z]/.test(\"ved\"))return null;if(A&&a.dataset){if(y()&&!(\"ved\"in a.dataset))return null;a=a.dataset.ved;return void 0===a?null:a}return a.getAttribute(\"data-\"+\"ved\".replace(/([A-Z])/g,\"-$1\").toLowerCase())};var E=[],F=null;function G(a){a=a.target;var c=performance.now(),f=[],H=f.concat,d=E;if(!(d instanceof Array)){var m=\"undefined\"!=typeof Symbol&&Symbol.iterator&&d[Symbol.iterator];if(m)d=m.call(d);else if(\"number\"==typeof d.length)d={next:b(d)};else throw Error(\"a`\"+String(d));for(var B=[];!(m=d.next()).done;)B.push(m.value);d=B}E=H.call(f,d,[c]);if(a&&a instanceof HTMLElement)if(a===F){if(c=4<=E.length)c=5>(E[E.length-1]-E[E.length-4])/1E3;if(c){c=google.getEI(a);a.hasAttribute(\"data-ved\")?f=a?D(a)||\"\":\"\":f=(f=\\na.closest(\"[data-ved]\"))?D(f)||\"\":\"\";f=f||\"\";if(a.hasAttribute(\"jsname\"))a=a.getAttribute(\"jsname\");else{var C;a=null==(C=a.closest(\"[jsname]\"))?void 0:C.getAttribute(\"jsname\")}google.log(\"rcm\",\"&ei=\"+c+\"&ved=\"+f+\"&jsname=\"+(a||\"\"))}}else F=a,E=[c]}window.document.addEventListener(\"DOMContentLoaded\",function(){document.body.addEventListener(\"click\",G)});}).call(this);\\n  </script>\\n </body>\\n</html>\\n'"
      ]
     },
     "execution_count": 15,
     "metadata": {},
     "output_type": "execute_result"
    }
   ],
   "source": [
    "soup = BeautifulSoup(response.text, 'html.parser')\n",
    "soup.prettify()"
   ]
  },
  {
   "cell_type": "markdown",
   "metadata": {},
   "source": [
    "Use os métodos e atributos do BSoup para extrair dados desejados. Por exemplo, se você quiser extrair todos os links da página você pode utilizar o seguinte código:"
   ]
  },
  {
   "cell_type": "code",
   "execution_count": 16,
   "metadata": {},
   "outputs": [
    {
     "name": "stdout",
     "output_type": "stream",
     "text": [
      "https://www.google.com/imghp?hl=pt-BR&tab=wi\n",
      "https://maps.google.com.br/maps?hl=pt-BR&tab=wl\n",
      "https://play.google.com/?hl=pt-BR&tab=w8\n",
      "https://www.youtube.com/?tab=w1\n",
      "https://news.google.com/?tab=wn\n",
      "https://mail.google.com/mail/?tab=wm\n",
      "https://drive.google.com/?tab=wo\n",
      "https://www.google.com.br/intl/pt-BR/about/products?tab=wh\n",
      "http://www.google.com.br/history/optout?hl=pt-BR\n",
      "/preferences?hl=pt-BR\n",
      "https://accounts.google.com/ServiceLogin?hl=pt-BR&passive=true&continue=https://www.google.com/&ec=GAZAAQ\n",
      "/advanced_search?hl=pt-BR&authuser=0\n",
      "/intl/pt-BR/ads/\n",
      "/services/\n",
      "/intl/pt-BR/about.html\n",
      "https://www.google.com/setprefdomain?prefdom=BR&prev=https://www.google.com.br/&sig=K_ns1Jwbyu5YRKciHuwXjw4oh88v0%3D\n",
      "/intl/pt-BR/policies/privacy/\n",
      "/intl/pt-BR/policies/terms/\n"
     ]
    }
   ],
   "source": [
    "links = soup.find_all('a')\n",
    "for link in links:\n",
    "    print(link.get('href'))"
   ]
  },
  {
   "cell_type": "markdown",
   "metadata": {},
   "source": [
    "## Outra ferramentas\n",
    "- Scrapy\n",
    "- Selenium\n",
    "- Urllib3\n",
    "- Mechanical Soup"
   ]
  },
  {
   "cell_type": "markdown",
   "metadata": {},
   "source": [
    "https://www.youtube.com/watch?v=kqvWOcPog4s\n",
    "\n",
    "https://colab.research.google.com/github/programacaodinamica/mini-projetos/blob/master/src/Raspagem_de_dados_com_Beautiful_Soup.ipynb"
   ]
  },
  {
   "cell_type": "markdown",
   "metadata": {},
   "source": [
    "## OBS\n",
    "A tag `<a>` é uma tag HTML utilizada para definir hiperlinks, que permitem aos usuários navegar de uma página ou recurso para outro. A letra \"a\" na tag `<a>` vem de \"âncora\" (anchor em inglês).\n",
    "\n",
    "Os hiperlinks podem apontar para qualquer URL, como outra página web, um arquivo para download, uma imagem ou qualquer outro tipo de recurso na web. Além disso, podem também apontar para outras seções da mesma página.\n",
    "\n",
    "O atributo mais comum usado com a tag `<a>` é o `href`, que indica o destino do link. Por exemplo:\n",
    "\n",
    "```html\n",
    "<a href=\"https://www.example.com\">Visite o nosso site</a>\n",
    "```\n",
    "\n",
    "Neste exemplo, o texto \"Visite o nosso site\" será exibido como um link clicável que, quando clicado, levará o usuário para \"https://www.example.com\".\n",
    "\n",
    "Além do `href`, a tag `<a>` pode ter vários outros atributos, como `target` (para definir onde o novo link será aberto, por exemplo, em uma nova janela ou aba) e `title` (para fornecer informações adicionais sobre o link, geralmente exibidas como uma dica de ferramenta quando o mouse é colocado sobre o link).\n",
    "\n",
    "Em resumo, a tag `<a>` é fundamental para a web, pois permite a interconexão de documentos e recursos, tornando a web uma rede interligada de informações."
   ]
  },
  {
   "cell_type": "code",
   "execution_count": 17,
   "metadata": {},
   "outputs": [
    {
     "name": "stdout",
     "output_type": "stream",
     "text": [
      "                         url\n",
      "0         https://google.com\n",
      "1  https://stackoverflow.com\n",
      "2        https://example.org\n",
      "3         https://github.com\n",
      "4          https://bbc.co.uk\n"
     ]
    }
   ],
   "source": [
    "# EXEMPLOS\n",
    "# df com uma coluna de urls\n",
    "import pandas as pd\n",
    "\n",
    "data = { \n",
    "    'url': [\n",
    "        'https://google.com',\n",
    "        'https://stackoverflow.com',\n",
    "        'https://example.org',\n",
    "        'https://github.com',\n",
    "        'https://bbc.co.uk'\n",
    "    ]\n",
    "}\n",
    "\n",
    "df = pd.DataFrame(data)\n",
    "print(df)"
   ]
  },
  {
   "cell_type": "code",
   "execution_count": 18,
   "metadata": {},
   "outputs": [
    {
     "data": {
      "text/html": [
       "<div>\n",
       "<style scoped>\n",
       "    .dataframe tbody tr th:only-of-type {\n",
       "        vertical-align: middle;\n",
       "    }\n",
       "\n",
       "    .dataframe tbody tr th {\n",
       "        vertical-align: top;\n",
       "    }\n",
       "\n",
       "    .dataframe thead th {\n",
       "        text-align: right;\n",
       "    }\n",
       "</style>\n",
       "<table border=\"1\" class=\"dataframe\">\n",
       "  <thead>\n",
       "    <tr style=\"text-align: right;\">\n",
       "      <th></th>\n",
       "      <th>url</th>\n",
       "    </tr>\n",
       "  </thead>\n",
       "  <tbody>\n",
       "    <tr>\n",
       "      <th>0</th>\n",
       "      <td>https://google.com</td>\n",
       "    </tr>\n",
       "    <tr>\n",
       "      <th>1</th>\n",
       "      <td>https://stackoverflow.com</td>\n",
       "    </tr>\n",
       "    <tr>\n",
       "      <th>3</th>\n",
       "      <td>https://github.com</td>\n",
       "    </tr>\n",
       "  </tbody>\n",
       "</table>\n",
       "</div>"
      ],
      "text/plain": [
       "                         url\n",
       "0         https://google.com\n",
       "1  https://stackoverflow.com\n",
       "3         https://github.com"
      ]
     },
     "execution_count": 18,
     "metadata": {},
     "output_type": "execute_result"
    }
   ],
   "source": [
    "# filtrando urls que apondam para dominios com .com\n",
    "com_df = df[df['url'].str.contains(r'\\.com$', regex=True)] # $: Indica o fim da linha.\n",
    "com_df"
   ]
  },
  {
   "cell_type": "code",
   "execution_count": 19,
   "metadata": {},
   "outputs": [
    {
     "name": "stderr",
     "output_type": "stream",
     "text": [
      "C:\\Users\\beago\\AppData\\Local\\Temp\\ipykernel_4792\\907124537.py:2: SettingWithCopyWarning: \n",
      "A value is trying to be set on a copy of a slice from a DataFrame.\n",
      "Try using .loc[row_indexer,col_indexer] = value instead\n",
      "\n",
      "See the caveats in the documentation: https://pandas.pydata.org/pandas-docs/stable/user_guide/indexing.html#returning-a-view-versus-a-copy\n",
      "  com_df['domain'] = com_df['url'].str.extract(r'https://([\\w\\-]+)\\.com')\n"
     ]
    },
    {
     "data": {
      "text/html": [
       "<div>\n",
       "<style scoped>\n",
       "    .dataframe tbody tr th:only-of-type {\n",
       "        vertical-align: middle;\n",
       "    }\n",
       "\n",
       "    .dataframe tbody tr th {\n",
       "        vertical-align: top;\n",
       "    }\n",
       "\n",
       "    .dataframe thead th {\n",
       "        text-align: right;\n",
       "    }\n",
       "</style>\n",
       "<table border=\"1\" class=\"dataframe\">\n",
       "  <thead>\n",
       "    <tr style=\"text-align: right;\">\n",
       "      <th></th>\n",
       "      <th>url</th>\n",
       "      <th>domain</th>\n",
       "    </tr>\n",
       "  </thead>\n",
       "  <tbody>\n",
       "    <tr>\n",
       "      <th>0</th>\n",
       "      <td>https://google.com</td>\n",
       "      <td>google</td>\n",
       "    </tr>\n",
       "    <tr>\n",
       "      <th>1</th>\n",
       "      <td>https://stackoverflow.com</td>\n",
       "      <td>stackoverflow</td>\n",
       "    </tr>\n",
       "    <tr>\n",
       "      <th>3</th>\n",
       "      <td>https://github.com</td>\n",
       "      <td>github</td>\n",
       "    </tr>\n",
       "  </tbody>\n",
       "</table>\n",
       "</div>"
      ],
      "text/plain": [
       "                         url         domain\n",
       "0         https://google.com         google\n",
       "1  https://stackoverflow.com  stackoverflow\n",
       "3         https://github.com         github"
      ]
     },
     "execution_count": 19,
     "metadata": {},
     "output_type": "execute_result"
    }
   ],
   "source": [
    "# extraindo o nome do domínio e criando uma nova coluna\n",
    "# extraia o conjunto de caracteres alfanuméricos que estão entre https:// e .com\n",
    "com_df['domain'] = com_df['url'].str.extract(r'https://([\\w\\-]+)\\.com')\n",
    "com_df"
   ]
  },
  {
   "cell_type": "code",
   "execution_count": 20,
   "metadata": {},
   "outputs": [
    {
     "name": "stderr",
     "output_type": "stream",
     "text": [
      "C:\\Users\\beago\\AppData\\Local\\Temp\\ipykernel_4792\\560665915.py:2: SettingWithCopyWarning: \n",
      "A value is trying to be set on a copy of a slice from a DataFrame.\n",
      "Try using .loc[row_indexer,col_indexer] = value instead\n",
      "\n",
      "See the caveats in the documentation: https://pandas.pydata.org/pandas-docs/stable/user_guide/indexing.html#returning-a-view-versus-a-copy\n",
      "  com_df['url'] = com_df['url'].str.replace(r'https://', 'http://')\n"
     ]
    },
    {
     "data": {
      "text/html": [
       "<div>\n",
       "<style scoped>\n",
       "    .dataframe tbody tr th:only-of-type {\n",
       "        vertical-align: middle;\n",
       "    }\n",
       "\n",
       "    .dataframe tbody tr th {\n",
       "        vertical-align: top;\n",
       "    }\n",
       "\n",
       "    .dataframe thead th {\n",
       "        text-align: right;\n",
       "    }\n",
       "</style>\n",
       "<table border=\"1\" class=\"dataframe\">\n",
       "  <thead>\n",
       "    <tr style=\"text-align: right;\">\n",
       "      <th></th>\n",
       "      <th>url</th>\n",
       "      <th>domain</th>\n",
       "    </tr>\n",
       "  </thead>\n",
       "  <tbody>\n",
       "    <tr>\n",
       "      <th>0</th>\n",
       "      <td>http://google.com</td>\n",
       "      <td>google</td>\n",
       "    </tr>\n",
       "    <tr>\n",
       "      <th>1</th>\n",
       "      <td>http://stackoverflow.com</td>\n",
       "      <td>stackoverflow</td>\n",
       "    </tr>\n",
       "    <tr>\n",
       "      <th>3</th>\n",
       "      <td>http://github.com</td>\n",
       "      <td>github</td>\n",
       "    </tr>\n",
       "  </tbody>\n",
       "</table>\n",
       "</div>"
      ],
      "text/plain": [
       "                        url         domain\n",
       "0         http://google.com         google\n",
       "1  http://stackoverflow.com  stackoverflow\n",
       "3         http://github.com         github"
      ]
     },
     "execution_count": 20,
     "metadata": {},
     "output_type": "execute_result"
    }
   ],
   "source": [
    "# modificando as urls para usar http ao inves de https \n",
    "com_df['url'] = com_df['url'].str.replace(r'https://', 'http://')\n",
    "com_df"
   ]
  },
  {
   "cell_type": "code",
   "execution_count": 23,
   "metadata": {},
   "outputs": [
    {
     "data": {
      "text/html": [
       "<div>\n",
       "<style scoped>\n",
       "    .dataframe tbody tr th:only-of-type {\n",
       "        vertical-align: middle;\n",
       "    }\n",
       "\n",
       "    .dataframe tbody tr th {\n",
       "        vertical-align: top;\n",
       "    }\n",
       "\n",
       "    .dataframe thead th {\n",
       "        text-align: right;\n",
       "    }\n",
       "</style>\n",
       "<table border=\"1\" class=\"dataframe\">\n",
       "  <thead>\n",
       "    <tr style=\"text-align: right;\">\n",
       "      <th></th>\n",
       "      <th>Marca</th>\n",
       "      <th>Modelo</th>\n",
       "      <th>Ano</th>\n",
       "      <th>Placa</th>\n",
       "      <th>Chassi</th>\n",
       "      <th>Cor</th>\n",
       "      <th>Tipo</th>\n",
       "      <th>Combustível</th>\n",
       "    </tr>\n",
       "  </thead>\n",
       "  <tbody>\n",
       "    <tr>\n",
       "      <th>0</th>\n",
       "      <td>Ford</td>\n",
       "      <td>Fiesta</td>\n",
       "      <td>2020</td>\n",
       "      <td>ABC-1234</td>\n",
       "      <td>1HGBH41JXMN109876</td>\n",
       "      <td>Azul</td>\n",
       "      <td>Hatch</td>\n",
       "      <td>Gasolina</td>\n",
       "    </tr>\n",
       "    <tr>\n",
       "      <th>1</th>\n",
       "      <td>Chevrolet</td>\n",
       "      <td>Onix</td>\n",
       "      <td>2019</td>\n",
       "      <td>XYZ-5678</td>\n",
       "      <td>2HGBH42JXMN119876</td>\n",
       "      <td>Preto</td>\n",
       "      <td>Hatch</td>\n",
       "      <td>Flex</td>\n",
       "    </tr>\n",
       "    <tr>\n",
       "      <th>2</th>\n",
       "      <td>Honda</td>\n",
       "      <td>Civic</td>\n",
       "      <td>2021</td>\n",
       "      <td>DEF-9012</td>\n",
       "      <td>3HGBH43JXMN129876</td>\n",
       "      <td>Branco</td>\n",
       "      <td>Sedan</td>\n",
       "      <td>Flex</td>\n",
       "    </tr>\n",
       "    <tr>\n",
       "      <th>3</th>\n",
       "      <td>Volkswagen</td>\n",
       "      <td>Gol</td>\n",
       "      <td>2018</td>\n",
       "      <td>GHI-3456</td>\n",
       "      <td>4HGBH44JXMN139876</td>\n",
       "      <td>Vermelho</td>\n",
       "      <td>Hatch</td>\n",
       "      <td>Flex</td>\n",
       "    </tr>\n",
       "    <tr>\n",
       "      <th>4</th>\n",
       "      <td>Toyota</td>\n",
       "      <td>Corolla</td>\n",
       "      <td>2022</td>\n",
       "      <td>JKL-7890</td>\n",
       "      <td>5HGBH45JXMN149876</td>\n",
       "      <td>Cinza</td>\n",
       "      <td>Sedan</td>\n",
       "      <td>Gasolina</td>\n",
       "    </tr>\n",
       "    <tr>\n",
       "      <th>5</th>\n",
       "      <td>Hyundai</td>\n",
       "      <td>HB20</td>\n",
       "      <td>2021</td>\n",
       "      <td>LMN-0123</td>\n",
       "      <td>6HGBH46JXMN159876</td>\n",
       "      <td>Verde</td>\n",
       "      <td>Hatch</td>\n",
       "      <td>Flex</td>\n",
       "    </tr>\n",
       "    <tr>\n",
       "      <th>6</th>\n",
       "      <td>BMW</td>\n",
       "      <td>X1</td>\n",
       "      <td>2019</td>\n",
       "      <td>OPQ-4567</td>\n",
       "      <td>7HGBH47JXMN169876</td>\n",
       "      <td>Amarelo</td>\n",
       "      <td>SUV</td>\n",
       "      <td>Diesel</td>\n",
       "    </tr>\n",
       "    <tr>\n",
       "      <th>7</th>\n",
       "      <td>Mercedes</td>\n",
       "      <td>Class C</td>\n",
       "      <td>2020</td>\n",
       "      <td>RST-8910</td>\n",
       "      <td>8HGBH48JXMN179876</td>\n",
       "      <td>Roxo</td>\n",
       "      <td>Sedan</td>\n",
       "      <td>Gasolina</td>\n",
       "    </tr>\n",
       "    <tr>\n",
       "      <th>8</th>\n",
       "      <td>Audi</td>\n",
       "      <td>A3</td>\n",
       "      <td>2022</td>\n",
       "      <td>UVW-2345</td>\n",
       "      <td>9HGBH49JXMN189876</td>\n",
       "      <td>Rosa</td>\n",
       "      <td>Hatch</td>\n",
       "      <td>Flex</td>\n",
       "    </tr>\n",
       "    <tr>\n",
       "      <th>9</th>\n",
       "      <td>Nissan</td>\n",
       "      <td>Sentra</td>\n",
       "      <td>2018</td>\n",
       "      <td>XYZ-6789</td>\n",
       "      <td>0HGBH40JXMN199876</td>\n",
       "      <td>Laranja</td>\n",
       "      <td>Sedan</td>\n",
       "      <td>Gasolina</td>\n",
       "    </tr>\n",
       "  </tbody>\n",
       "</table>\n",
       "</div>"
      ],
      "text/plain": [
       "        Marca   Modelo   Ano     Placa             Chassi       Cor   Tipo  \\\n",
       "0        Ford   Fiesta  2020  ABC-1234  1HGBH41JXMN109876      Azul  Hatch   \n",
       "1   Chevrolet     Onix  2019  XYZ-5678  2HGBH42JXMN119876     Preto  Hatch   \n",
       "2       Honda    Civic  2021  DEF-9012  3HGBH43JXMN129876    Branco  Sedan   \n",
       "3  Volkswagen      Gol  2018  GHI-3456  4HGBH44JXMN139876  Vermelho  Hatch   \n",
       "4      Toyota  Corolla  2022  JKL-7890  5HGBH45JXMN149876     Cinza  Sedan   \n",
       "5     Hyundai     HB20  2021  LMN-0123  6HGBH46JXMN159876     Verde  Hatch   \n",
       "6         BMW       X1  2019  OPQ-4567  7HGBH47JXMN169876   Amarelo    SUV   \n",
       "7    Mercedes  Class C  2020  RST-8910  8HGBH48JXMN179876      Roxo  Sedan   \n",
       "8        Audi       A3  2022  UVW-2345  9HGBH49JXMN189876      Rosa  Hatch   \n",
       "9      Nissan   Sentra  2018  XYZ-6789  0HGBH40JXMN199876   Laranja  Sedan   \n",
       "\n",
       "  Combustível  \n",
       "0    Gasolina  \n",
       "1        Flex  \n",
       "2        Flex  \n",
       "3        Flex  \n",
       "4    Gasolina  \n",
       "5        Flex  \n",
       "6      Diesel  \n",
       "7    Gasolina  \n",
       "8        Flex  \n",
       "9    Gasolina  "
      ]
     },
     "execution_count": 23,
     "metadata": {},
     "output_type": "execute_result"
    }
   ],
   "source": [
    "#exemplo 2\n",
    "# Criando um dataframe de exemplo\n",
    "data2 = {\n",
    "    'Marca': ['Ford', 'Chevrolet', 'Honda', 'Volkswagen', 'Toyota', 'Hyundai', 'BMW', 'Mercedes', 'Audi', 'Nissan'],\n",
    "    'Modelo': ['Fiesta', 'Onix', 'Civic', 'Gol', 'Corolla', 'HB20', 'X1', 'Class C', 'A3', 'Sentra'],\n",
    "    'Ano': [2020, 2019, 2021, 2018, 2022, 2021, 2019, 2020, 2022, 2018],\n",
    "    'Placa': ['ABC-1234', 'XYZ-5678', 'DEF-9012', 'GHI-3456', 'JKL-7890', 'LMN-0123', 'OPQ-4567', 'RST-8910', 'UVW-2345', 'XYZ-6789'],\n",
    "    'Chassi': ['1HGBH41JXMN109876', '2HGBH42JXMN119876', '3HGBH43JXMN129876', '4HGBH44JXMN139876', '5HGBH45JXMN149876', '6HGBH46JXMN159876', '7HGBH47JXMN169876', '8HGBH48JXMN179876', '9HGBH49JXMN189876', '0HGBH40JXMN199876'],\n",
    "    'Cor': ['Azul', 'Preto', 'Branco', 'Vermelho', 'Cinza', 'Verde', 'Amarelo', 'Roxo', 'Rosa', 'Laranja'],\n",
    "    'Tipo': ['Hatch', 'Hatch', 'Sedan', 'Hatch', 'Sedan', 'Hatch', 'SUV', 'Sedan', 'Hatch', 'Sedan'],\n",
    "    'Combustível': ['Gasolina', 'Flex', 'Flex', 'Flex', 'Gasolina', 'Flex', 'Diesel', 'Gasolina', 'Flex', 'Gasolina']\n",
    "}\n",
    "df2 = pd.DataFrame(data2)\n",
    "df2"
   ]
  },
  {
   "cell_type": "code",
   "execution_count": 38,
   "metadata": {},
   "outputs": [],
   "source": [
    "# função para identificar placas no formato brasileiro\n",
    "def verificar_placa(placa):\n",
    "    if re.match(r\"^[A-Z]{3}-\\d{4}$\", placa):\n",
    "        # ^[A-Z]{3)-: 3 letras maiúsculas no inicio SEGUIDAS DE UM HÍFEN\n",
    "        #\\d: Corresponde a qualquer dígito. Equivalente a [0-9].4 DIGITOS NO FINAL\n",
    "            return True\n",
    "    return False\n",
    "\n",
    "# verifica chassi\n",
    "def verifica_chassi(chassi):\n",
    "    if len(chassi) == 17:\n",
    "        # se length do chassi for 17\n",
    "        return True\n",
    "    return False"
   ]
  },
  {
   "cell_type": "code",
   "execution_count": 39,
   "metadata": {},
   "outputs": [],
   "source": [
    "# aplicando funções\n",
    "df2['placa_valida'] = df2['Placa'].apply(verificar_placa)\n",
    "df2['chassi_valido'] = df2['Chassi'].apply(verifica_chassi)"
   ]
  },
  {
   "cell_type": "code",
   "execution_count": 40,
   "metadata": {},
   "outputs": [
    {
     "data": {
      "text/html": [
       "<div>\n",
       "<style scoped>\n",
       "    .dataframe tbody tr th:only-of-type {\n",
       "        vertical-align: middle;\n",
       "    }\n",
       "\n",
       "    .dataframe tbody tr th {\n",
       "        vertical-align: top;\n",
       "    }\n",
       "\n",
       "    .dataframe thead th {\n",
       "        text-align: right;\n",
       "    }\n",
       "</style>\n",
       "<table border=\"1\" class=\"dataframe\">\n",
       "  <thead>\n",
       "    <tr style=\"text-align: right;\">\n",
       "      <th></th>\n",
       "      <th>Marca</th>\n",
       "      <th>Modelo</th>\n",
       "      <th>Ano</th>\n",
       "      <th>Placa</th>\n",
       "      <th>Chassi</th>\n",
       "      <th>Cor</th>\n",
       "      <th>Tipo</th>\n",
       "      <th>Combustível</th>\n",
       "      <th>placa_valida</th>\n",
       "      <th>chassi_valido</th>\n",
       "    </tr>\n",
       "  </thead>\n",
       "  <tbody>\n",
       "    <tr>\n",
       "      <th>0</th>\n",
       "      <td>Ford</td>\n",
       "      <td>Fiesta</td>\n",
       "      <td>2020</td>\n",
       "      <td>ABC-1234</td>\n",
       "      <td>1HGBH41JXMN109876</td>\n",
       "      <td>Azul</td>\n",
       "      <td>Hatch</td>\n",
       "      <td>Gasolina</td>\n",
       "      <td>True</td>\n",
       "      <td>True</td>\n",
       "    </tr>\n",
       "    <tr>\n",
       "      <th>1</th>\n",
       "      <td>Chevrolet</td>\n",
       "      <td>Onix</td>\n",
       "      <td>2019</td>\n",
       "      <td>XYZ-5678</td>\n",
       "      <td>2HGBH42JXMN119876</td>\n",
       "      <td>Preto</td>\n",
       "      <td>Hatch</td>\n",
       "      <td>Flex</td>\n",
       "      <td>True</td>\n",
       "      <td>True</td>\n",
       "    </tr>\n",
       "    <tr>\n",
       "      <th>2</th>\n",
       "      <td>Honda</td>\n",
       "      <td>Civic</td>\n",
       "      <td>2021</td>\n",
       "      <td>DEF-9012</td>\n",
       "      <td>3HGBH43JXMN129876</td>\n",
       "      <td>Branco</td>\n",
       "      <td>Sedan</td>\n",
       "      <td>Flex</td>\n",
       "      <td>True</td>\n",
       "      <td>True</td>\n",
       "    </tr>\n",
       "    <tr>\n",
       "      <th>3</th>\n",
       "      <td>Volkswagen</td>\n",
       "      <td>Gol</td>\n",
       "      <td>2018</td>\n",
       "      <td>GHI-3456</td>\n",
       "      <td>4HGBH44JXMN139876</td>\n",
       "      <td>Vermelho</td>\n",
       "      <td>Hatch</td>\n",
       "      <td>Flex</td>\n",
       "      <td>True</td>\n",
       "      <td>True</td>\n",
       "    </tr>\n",
       "    <tr>\n",
       "      <th>4</th>\n",
       "      <td>Toyota</td>\n",
       "      <td>Corolla</td>\n",
       "      <td>2022</td>\n",
       "      <td>JKL-7890</td>\n",
       "      <td>5HGBH45JXMN149876</td>\n",
       "      <td>Cinza</td>\n",
       "      <td>Sedan</td>\n",
       "      <td>Gasolina</td>\n",
       "      <td>True</td>\n",
       "      <td>True</td>\n",
       "    </tr>\n",
       "    <tr>\n",
       "      <th>5</th>\n",
       "      <td>Hyundai</td>\n",
       "      <td>HB20</td>\n",
       "      <td>2021</td>\n",
       "      <td>LMN-0123</td>\n",
       "      <td>6HGBH46JXMN159876</td>\n",
       "      <td>Verde</td>\n",
       "      <td>Hatch</td>\n",
       "      <td>Flex</td>\n",
       "      <td>True</td>\n",
       "      <td>True</td>\n",
       "    </tr>\n",
       "    <tr>\n",
       "      <th>6</th>\n",
       "      <td>BMW</td>\n",
       "      <td>X1</td>\n",
       "      <td>2019</td>\n",
       "      <td>OPQ-4567</td>\n",
       "      <td>7HGBH47JXMN169876</td>\n",
       "      <td>Amarelo</td>\n",
       "      <td>SUV</td>\n",
       "      <td>Diesel</td>\n",
       "      <td>True</td>\n",
       "      <td>True</td>\n",
       "    </tr>\n",
       "    <tr>\n",
       "      <th>7</th>\n",
       "      <td>Mercedes</td>\n",
       "      <td>Class C</td>\n",
       "      <td>2020</td>\n",
       "      <td>RST-8910</td>\n",
       "      <td>8HGBH48JXMN179876</td>\n",
       "      <td>Roxo</td>\n",
       "      <td>Sedan</td>\n",
       "      <td>Gasolina</td>\n",
       "      <td>True</td>\n",
       "      <td>True</td>\n",
       "    </tr>\n",
       "    <tr>\n",
       "      <th>8</th>\n",
       "      <td>Audi</td>\n",
       "      <td>A3</td>\n",
       "      <td>2022</td>\n",
       "      <td>UVW-2345</td>\n",
       "      <td>9HGBH49JXMN189876</td>\n",
       "      <td>Rosa</td>\n",
       "      <td>Hatch</td>\n",
       "      <td>Flex</td>\n",
       "      <td>True</td>\n",
       "      <td>True</td>\n",
       "    </tr>\n",
       "    <tr>\n",
       "      <th>9</th>\n",
       "      <td>Nissan</td>\n",
       "      <td>Sentra</td>\n",
       "      <td>2018</td>\n",
       "      <td>XYZ-6789</td>\n",
       "      <td>0HGBH40JXMN199876</td>\n",
       "      <td>Laranja</td>\n",
       "      <td>Sedan</td>\n",
       "      <td>Gasolina</td>\n",
       "      <td>True</td>\n",
       "      <td>True</td>\n",
       "    </tr>\n",
       "  </tbody>\n",
       "</table>\n",
       "</div>"
      ],
      "text/plain": [
       "        Marca   Modelo   Ano     Placa             Chassi       Cor   Tipo  \\\n",
       "0        Ford   Fiesta  2020  ABC-1234  1HGBH41JXMN109876      Azul  Hatch   \n",
       "1   Chevrolet     Onix  2019  XYZ-5678  2HGBH42JXMN119876     Preto  Hatch   \n",
       "2       Honda    Civic  2021  DEF-9012  3HGBH43JXMN129876    Branco  Sedan   \n",
       "3  Volkswagen      Gol  2018  GHI-3456  4HGBH44JXMN139876  Vermelho  Hatch   \n",
       "4      Toyota  Corolla  2022  JKL-7890  5HGBH45JXMN149876     Cinza  Sedan   \n",
       "5     Hyundai     HB20  2021  LMN-0123  6HGBH46JXMN159876     Verde  Hatch   \n",
       "6         BMW       X1  2019  OPQ-4567  7HGBH47JXMN169876   Amarelo    SUV   \n",
       "7    Mercedes  Class C  2020  RST-8910  8HGBH48JXMN179876      Roxo  Sedan   \n",
       "8        Audi       A3  2022  UVW-2345  9HGBH49JXMN189876      Rosa  Hatch   \n",
       "9      Nissan   Sentra  2018  XYZ-6789  0HGBH40JXMN199876   Laranja  Sedan   \n",
       "\n",
       "  Combustível  placa_valida  chassi_valido  \n",
       "0    Gasolina          True           True  \n",
       "1        Flex          True           True  \n",
       "2        Flex          True           True  \n",
       "3        Flex          True           True  \n",
       "4    Gasolina          True           True  \n",
       "5        Flex          True           True  \n",
       "6      Diesel          True           True  \n",
       "7    Gasolina          True           True  \n",
       "8        Flex          True           True  \n",
       "9    Gasolina          True           True  "
      ]
     },
     "execution_count": 40,
     "metadata": {},
     "output_type": "execute_result"
    }
   ],
   "source": [
    "df2"
   ]
  }
 ],
 "metadata": {
  "kernelspec": {
   "display_name": "Python 3",
   "language": "python",
   "name": "python3"
  },
  "language_info": {
   "codemirror_mode": {
    "name": "ipython",
    "version": 3
   },
   "file_extension": ".py",
   "mimetype": "text/x-python",
   "name": "python",
   "nbconvert_exporter": "python",
   "pygments_lexer": "ipython3",
   "version": "3.12.0"
  }
 },
 "nbformat": 4,
 "nbformat_minor": 2
}
